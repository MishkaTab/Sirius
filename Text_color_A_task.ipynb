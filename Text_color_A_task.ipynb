{
  "nbformat": 4,
  "nbformat_minor": 0,
  "metadata": {
    "colab": {
      "provenance": [],
      "gpuType": "T4"
    },
    "kernelspec": {
      "name": "python3",
      "display_name": "Python 3"
    },
    "language_info": {
      "name": "python"
    },
    "accelerator": "GPU"
  },
  "cells": [
    {
      "cell_type": "code",
      "source": [
        "import numpy as np\n",
        "import pandas as pd\n",
        "import gdown\n",
        "import matplotlib.pyplot as plt"
      ],
      "metadata": {
        "id": "HaCwxIlcCXSL"
      },
      "execution_count": null,
      "outputs": []
    },
    {
      "cell_type": "code",
      "source": [
        "# Подключение колбэков для оптимизации обучения и сохранения результатов\n",
        "from keras.callbacks import EarlyStopping, ReduceLROnPlateau, ModelCheckpoint\n",
        "# Разделение данных на выборки\n",
        "from sklearn.model_selection import train_test_split\n",
        "\n",
        "from keras import utils\n",
        "from keras.preprocessing.text import Tokenizer, text_to_word_sequence\n",
        "from keras.preprocessing.sequence import pad_sequences\n",
        "from keras.utils import to_categorical, plot_model\n",
        "from keras.models import Model, Sequential\n",
        "from keras.optimizers import Adam, RMSprop\n",
        "from keras.layers import GlobalMaxPooling1D, Dropout, MaxPooling1D, BatchNormalization, SpatialDropout1D, Conv1D, Flatten, Dense, SimpleRNN, Concatenate, Input, concatenate, LSTM, Embedding, GRU, Bidirectional"
      ],
      "metadata": {
        "id": "o7eDRcedENM5"
      },
      "execution_count": null,
      "outputs": []
    },
    {
      "cell_type": "code",
      "source": [
        "#Не нормализованные данные\n",
        "#gdown.download('https://drive.google.com/uc?export=download&confirm=no_antivirus&id=1_uMKVpkYxLoTh2vRe_oxMFPa_9efkjSr', None, quiet=True)\n",
        "#!unzip -q \"/content/train.zip\" -d /content"
      ],
      "metadata": {
        "colab": {
          "base_uri": "https://localhost:8080/",
          "height": 36
        },
        "outputId": "e7ea676e-7f37-4006-ef2a-7b8aecabeac6",
        "id": "ei6LD3GNT_MI"
      },
      "execution_count": null,
      "outputs": [
        {
          "output_type": "execute_result",
          "data": {
            "text/plain": [
              "'train.zip'"
            ],
            "application/vnd.google.colaboratory.intrinsic+json": {
              "type": "string"
            }
          },
          "metadata": {},
          "execution_count": 3
        }
      ]
    },
    {
      "cell_type": "code",
      "source": [
        "#Нормализованные данные\n",
        "gdown.download('https://drive.google.com/uc?export=download&confirm=no_antivirus&id=122fBCZYewNPsJEvH2Yo7n5hJS1g9oZZs', None, quiet=True)\n",
        "!unzip -q \"/content/train_data_normal.zip\" -d /content"
      ],
      "metadata": {
        "id": "23K7vLOoT_MJ"
      },
      "execution_count": null,
      "outputs": []
    },
    {
      "cell_type": "code",
      "execution_count": null,
      "metadata": {
        "colab": {
          "base_uri": "https://localhost:8080/",
          "height": 455
        },
        "outputId": "5b104435-2462-4f3f-800e-cc769c3fceb6",
        "id": "XX2IXZKFT_MJ"
      },
      "outputs": [
        {
          "output_type": "execute_result",
          "data": {
            "text/plain": [
              "                                                     text  sentiment\n",
              "ID                                                                  \n",
              "21098    спросить посланник аллах порицать слушание от...          1\n",
              "21099    родной родный попасть гкб декабрь ехать больн...          1\n",
              "21100    непорядочный отношение свой работник работать...          2\n",
              "21101    отсутствовать норматив гост прочее позволить ...          1\n",
              "21102    машина рука год это первый машина мочь никак ...          1\n",
              "...                                                   ...        ...\n",
              "210984   мой юбилей отмечать ресторан астория этот рес...          2\n",
              "210985   отлично встретить разместить роскошный номер ...          1\n",
              "210986   быть васаби метро сенной первый ресторан оказ...          0\n",
              "210987   ребята стоить смотреть фильм молодой шутливый...          0\n",
              "210988   про махание рука нигде найти почему сегодня о...          1\n",
              "\n",
              "[189891 rows x 2 columns]"
            ],
            "text/html": [
              "\n",
              "  <div id=\"df-ac5279d6-1eb1-4ae4-bbdb-a3deef1cf246\" class=\"colab-df-container\">\n",
              "    <div>\n",
              "<style scoped>\n",
              "    .dataframe tbody tr th:only-of-type {\n",
              "        vertical-align: middle;\n",
              "    }\n",
              "\n",
              "    .dataframe tbody tr th {\n",
              "        vertical-align: top;\n",
              "    }\n",
              "\n",
              "    .dataframe thead th {\n",
              "        text-align: right;\n",
              "    }\n",
              "</style>\n",
              "<table border=\"1\" class=\"dataframe\">\n",
              "  <thead>\n",
              "    <tr style=\"text-align: right;\">\n",
              "      <th></th>\n",
              "      <th>text</th>\n",
              "      <th>sentiment</th>\n",
              "    </tr>\n",
              "    <tr>\n",
              "      <th>ID</th>\n",
              "      <th></th>\n",
              "      <th></th>\n",
              "    </tr>\n",
              "  </thead>\n",
              "  <tbody>\n",
              "    <tr>\n",
              "      <th>21098</th>\n",
              "      <td>спросить посланник аллах порицать слушание от...</td>\n",
              "      <td>1</td>\n",
              "    </tr>\n",
              "    <tr>\n",
              "      <th>21099</th>\n",
              "      <td>родной родный попасть гкб декабрь ехать больн...</td>\n",
              "      <td>1</td>\n",
              "    </tr>\n",
              "    <tr>\n",
              "      <th>21100</th>\n",
              "      <td>непорядочный отношение свой работник работать...</td>\n",
              "      <td>2</td>\n",
              "    </tr>\n",
              "    <tr>\n",
              "      <th>21101</th>\n",
              "      <td>отсутствовать норматив гост прочее позволить ...</td>\n",
              "      <td>1</td>\n",
              "    </tr>\n",
              "    <tr>\n",
              "      <th>21102</th>\n",
              "      <td>машина рука год это первый машина мочь никак ...</td>\n",
              "      <td>1</td>\n",
              "    </tr>\n",
              "    <tr>\n",
              "      <th>...</th>\n",
              "      <td>...</td>\n",
              "      <td>...</td>\n",
              "    </tr>\n",
              "    <tr>\n",
              "      <th>210984</th>\n",
              "      <td>мой юбилей отмечать ресторан астория этот рес...</td>\n",
              "      <td>2</td>\n",
              "    </tr>\n",
              "    <tr>\n",
              "      <th>210985</th>\n",
              "      <td>отлично встретить разместить роскошный номер ...</td>\n",
              "      <td>1</td>\n",
              "    </tr>\n",
              "    <tr>\n",
              "      <th>210986</th>\n",
              "      <td>быть васаби метро сенной первый ресторан оказ...</td>\n",
              "      <td>0</td>\n",
              "    </tr>\n",
              "    <tr>\n",
              "      <th>210987</th>\n",
              "      <td>ребята стоить смотреть фильм молодой шутливый...</td>\n",
              "      <td>0</td>\n",
              "    </tr>\n",
              "    <tr>\n",
              "      <th>210988</th>\n",
              "      <td>про махание рука нигде найти почему сегодня о...</td>\n",
              "      <td>1</td>\n",
              "    </tr>\n",
              "  </tbody>\n",
              "</table>\n",
              "<p>189891 rows × 2 columns</p>\n",
              "</div>\n",
              "    <div class=\"colab-df-buttons\">\n",
              "\n",
              "  <div class=\"colab-df-container\">\n",
              "    <button class=\"colab-df-convert\" onclick=\"convertToInteractive('df-ac5279d6-1eb1-4ae4-bbdb-a3deef1cf246')\"\n",
              "            title=\"Convert this dataframe to an interactive table.\"\n",
              "            style=\"display:none;\">\n",
              "\n",
              "  <svg xmlns=\"http://www.w3.org/2000/svg\" height=\"24px\" viewBox=\"0 -960 960 960\">\n",
              "    <path d=\"M120-120v-720h720v720H120Zm60-500h600v-160H180v160Zm220 220h160v-160H400v160Zm0 220h160v-160H400v160ZM180-400h160v-160H180v160Zm440 0h160v-160H620v160ZM180-180h160v-160H180v160Zm440 0h160v-160H620v160Z\"/>\n",
              "  </svg>\n",
              "    </button>\n",
              "\n",
              "  <style>\n",
              "    .colab-df-container {\n",
              "      display:flex;\n",
              "      gap: 12px;\n",
              "    }\n",
              "\n",
              "    .colab-df-convert {\n",
              "      background-color: #E8F0FE;\n",
              "      border: none;\n",
              "      border-radius: 50%;\n",
              "      cursor: pointer;\n",
              "      display: none;\n",
              "      fill: #1967D2;\n",
              "      height: 32px;\n",
              "      padding: 0 0 0 0;\n",
              "      width: 32px;\n",
              "    }\n",
              "\n",
              "    .colab-df-convert:hover {\n",
              "      background-color: #E2EBFA;\n",
              "      box-shadow: 0px 1px 2px rgba(60, 64, 67, 0.3), 0px 1px 3px 1px rgba(60, 64, 67, 0.15);\n",
              "      fill: #174EA6;\n",
              "    }\n",
              "\n",
              "    .colab-df-buttons div {\n",
              "      margin-bottom: 4px;\n",
              "    }\n",
              "\n",
              "    [theme=dark] .colab-df-convert {\n",
              "      background-color: #3B4455;\n",
              "      fill: #D2E3FC;\n",
              "    }\n",
              "\n",
              "    [theme=dark] .colab-df-convert:hover {\n",
              "      background-color: #434B5C;\n",
              "      box-shadow: 0px 1px 3px 1px rgba(0, 0, 0, 0.15);\n",
              "      filter: drop-shadow(0px 1px 2px rgba(0, 0, 0, 0.3));\n",
              "      fill: #FFFFFF;\n",
              "    }\n",
              "  </style>\n",
              "\n",
              "    <script>\n",
              "      const buttonEl =\n",
              "        document.querySelector('#df-ac5279d6-1eb1-4ae4-bbdb-a3deef1cf246 button.colab-df-convert');\n",
              "      buttonEl.style.display =\n",
              "        google.colab.kernel.accessAllowed ? 'block' : 'none';\n",
              "\n",
              "      async function convertToInteractive(key) {\n",
              "        const element = document.querySelector('#df-ac5279d6-1eb1-4ae4-bbdb-a3deef1cf246');\n",
              "        const dataTable =\n",
              "          await google.colab.kernel.invokeFunction('convertToInteractive',\n",
              "                                                    [key], {});\n",
              "        if (!dataTable) return;\n",
              "\n",
              "        const docLinkHtml = 'Like what you see? Visit the ' +\n",
              "          '<a target=\"_blank\" href=https://colab.research.google.com/notebooks/data_table.ipynb>data table notebook</a>'\n",
              "          + ' to learn more about interactive tables.';\n",
              "        element.innerHTML = '';\n",
              "        dataTable['output_type'] = 'display_data';\n",
              "        await google.colab.output.renderOutput(dataTable, element);\n",
              "        const docLink = document.createElement('div');\n",
              "        docLink.innerHTML = docLinkHtml;\n",
              "        element.appendChild(docLink);\n",
              "      }\n",
              "    </script>\n",
              "  </div>\n",
              "\n",
              "\n",
              "<div id=\"df-07cb195a-7c29-4251-be40-a5f4be5a2555\">\n",
              "  <button class=\"colab-df-quickchart\" onclick=\"quickchart('df-07cb195a-7c29-4251-be40-a5f4be5a2555')\"\n",
              "            title=\"Suggest charts\"\n",
              "            style=\"display:none;\">\n",
              "\n",
              "<svg xmlns=\"http://www.w3.org/2000/svg\" height=\"24px\"viewBox=\"0 0 24 24\"\n",
              "     width=\"24px\">\n",
              "    <g>\n",
              "        <path d=\"M19 3H5c-1.1 0-2 .9-2 2v14c0 1.1.9 2 2 2h14c1.1 0 2-.9 2-2V5c0-1.1-.9-2-2-2zM9 17H7v-7h2v7zm4 0h-2V7h2v10zm4 0h-2v-4h2v4z\"/>\n",
              "    </g>\n",
              "</svg>\n",
              "  </button>\n",
              "\n",
              "<style>\n",
              "  .colab-df-quickchart {\n",
              "      --bg-color: #E8F0FE;\n",
              "      --fill-color: #1967D2;\n",
              "      --hover-bg-color: #E2EBFA;\n",
              "      --hover-fill-color: #174EA6;\n",
              "      --disabled-fill-color: #AAA;\n",
              "      --disabled-bg-color: #DDD;\n",
              "  }\n",
              "\n",
              "  [theme=dark] .colab-df-quickchart {\n",
              "      --bg-color: #3B4455;\n",
              "      --fill-color: #D2E3FC;\n",
              "      --hover-bg-color: #434B5C;\n",
              "      --hover-fill-color: #FFFFFF;\n",
              "      --disabled-bg-color: #3B4455;\n",
              "      --disabled-fill-color: #666;\n",
              "  }\n",
              "\n",
              "  .colab-df-quickchart {\n",
              "    background-color: var(--bg-color);\n",
              "    border: none;\n",
              "    border-radius: 50%;\n",
              "    cursor: pointer;\n",
              "    display: none;\n",
              "    fill: var(--fill-color);\n",
              "    height: 32px;\n",
              "    padding: 0;\n",
              "    width: 32px;\n",
              "  }\n",
              "\n",
              "  .colab-df-quickchart:hover {\n",
              "    background-color: var(--hover-bg-color);\n",
              "    box-shadow: 0 1px 2px rgba(60, 64, 67, 0.3), 0 1px 3px 1px rgba(60, 64, 67, 0.15);\n",
              "    fill: var(--button-hover-fill-color);\n",
              "  }\n",
              "\n",
              "  .colab-df-quickchart-complete:disabled,\n",
              "  .colab-df-quickchart-complete:disabled:hover {\n",
              "    background-color: var(--disabled-bg-color);\n",
              "    fill: var(--disabled-fill-color);\n",
              "    box-shadow: none;\n",
              "  }\n",
              "\n",
              "  .colab-df-spinner {\n",
              "    border: 2px solid var(--fill-color);\n",
              "    border-color: transparent;\n",
              "    border-bottom-color: var(--fill-color);\n",
              "    animation:\n",
              "      spin 1s steps(1) infinite;\n",
              "  }\n",
              "\n",
              "  @keyframes spin {\n",
              "    0% {\n",
              "      border-color: transparent;\n",
              "      border-bottom-color: var(--fill-color);\n",
              "      border-left-color: var(--fill-color);\n",
              "    }\n",
              "    20% {\n",
              "      border-color: transparent;\n",
              "      border-left-color: var(--fill-color);\n",
              "      border-top-color: var(--fill-color);\n",
              "    }\n",
              "    30% {\n",
              "      border-color: transparent;\n",
              "      border-left-color: var(--fill-color);\n",
              "      border-top-color: var(--fill-color);\n",
              "      border-right-color: var(--fill-color);\n",
              "    }\n",
              "    40% {\n",
              "      border-color: transparent;\n",
              "      border-right-color: var(--fill-color);\n",
              "      border-top-color: var(--fill-color);\n",
              "    }\n",
              "    60% {\n",
              "      border-color: transparent;\n",
              "      border-right-color: var(--fill-color);\n",
              "    }\n",
              "    80% {\n",
              "      border-color: transparent;\n",
              "      border-right-color: var(--fill-color);\n",
              "      border-bottom-color: var(--fill-color);\n",
              "    }\n",
              "    90% {\n",
              "      border-color: transparent;\n",
              "      border-bottom-color: var(--fill-color);\n",
              "    }\n",
              "  }\n",
              "</style>\n",
              "\n",
              "  <script>\n",
              "    async function quickchart(key) {\n",
              "      const quickchartButtonEl =\n",
              "        document.querySelector('#' + key + ' button');\n",
              "      quickchartButtonEl.disabled = true;  // To prevent multiple clicks.\n",
              "      quickchartButtonEl.classList.add('colab-df-spinner');\n",
              "      try {\n",
              "        const charts = await google.colab.kernel.invokeFunction(\n",
              "            'suggestCharts', [key], {});\n",
              "      } catch (error) {\n",
              "        console.error('Error during call to suggestCharts:', error);\n",
              "      }\n",
              "      quickchartButtonEl.classList.remove('colab-df-spinner');\n",
              "      quickchartButtonEl.classList.add('colab-df-quickchart-complete');\n",
              "    }\n",
              "    (() => {\n",
              "      let quickchartButtonEl =\n",
              "        document.querySelector('#df-07cb195a-7c29-4251-be40-a5f4be5a2555 button');\n",
              "      quickchartButtonEl.style.display =\n",
              "        google.colab.kernel.accessAllowed ? 'block' : 'none';\n",
              "    })();\n",
              "  </script>\n",
              "</div>\n",
              "    </div>\n",
              "  </div>\n"
            ],
            "application/vnd.google.colaboratory.intrinsic+json": {
              "type": "dataframe",
              "variable_name": "df"
            }
          },
          "metadata": {},
          "execution_count": 4
        }
      ],
      "source": [
        "#df = pd.read_csv('train_data_normal.csv', sep=',', header=0, index_col=0) # Загружаем базу\n",
        "df = pd.read_csv('train_data_normal.csv', sep=',', header=0, index_col=0) # Загружаем базу\n",
        "df"
      ]
    },
    {
      "cell_type": "code",
      "source": [
        "#После нормализации и удаления стоп слов появляются пустые строки, их нужно либо удалять либо чем-то заполнять\n",
        "#df=df.fillna('пропуск') #Заполняем пропуски\n",
        "\n",
        "df=df.astype(str)"
      ],
      "metadata": {
        "id": "80QLrfktA4GL"
      },
      "execution_count": null,
      "outputs": []
    },
    {
      "cell_type": "code",
      "source": [
        "maxWordsCount = 200000 #число слов, которые войдут в словарь частотности\n",
        "sent_len = 180 #максимальная длина предложения (длина развернутой RNN сети)"
      ],
      "metadata": {
        "id": "lUtxgSd0H0Ca"
      },
      "execution_count": null,
      "outputs": []
    },
    {
      "cell_type": "code",
      "source": [
        "token = Tokenizer(num_words=maxWordsCount, filters='”“‘0123456789–—!\"#$%&()*+,-./:;<=>?@[\\\\]^_`{|}~\\t\\n\\xa0–\\ufeff', lower=True, split=' ', char_level=False, oov_token = 'unknown')\n",
        "token.fit_on_texts(df.text)\n",
        "items=list(token.word_index.items())"
      ],
      "metadata": {
        "id": "rItrrRmiDg3i"
      },
      "execution_count": null,
      "outputs": []
    },
    {
      "cell_type": "code",
      "source": [
        "print(items[:50]) #Пример токенов, видно что стоп слов нет"
      ],
      "metadata": {
        "colab": {
          "base_uri": "https://localhost:8080/"
        },
        "id": "xwmMXYazE1yK",
        "outputId": "7dcb8694-e22a-48f6-8ca8-f4bfa3ca2fc7"
      },
      "execution_count": null,
      "outputs": [
        {
          "output_type": "stream",
          "name": "stdout",
          "text": [
            "[('unknown', 1), ('очень', 2), ('это', 3), ('отель', 4), ('год', 5), ('номер', 6), ('врач', 7), ('который', 8), ('хороший', 9), ('такой', 10), ('свой', 11), ('день', 12), ('весь', 13), ('человек', 14), ('быть', 15), ('спасибо', 16), ('сказать', 17), ('всё', 18), ('персонал', 19), ('время', 20), ('просто', 21), ('ребёнок', 22), ('так', 23), ('наш', 24), ('мой', 25), ('ресторан', 26), ('один', 27), ('завтрак', 28), ('место', 29), ('мочь', 30), ('хотеть', 31), ('сам', 32), ('первый', 33), ('большой', 34), ('цена', 35), ('другой', 36), ('центр', 37), ('клиника', 38), ('понравиться', 39), ('работать', 40), ('минута', 41), ('работа', 42), ('сделать', 43), ('новый', 44), ('отличный', 45), ('самый', 46), ('говорить', 47), ('деньга', 48), ('делать', 49), ('вид', 50)]\n"
          ]
        }
      ]
    },
    {
      "cell_type": "code",
      "source": [
        "text_seq = token.texts_to_sequences(df.text)"
      ],
      "metadata": {
        "id": "_iC9nWP6F2bK"
      },
      "execution_count": null,
      "outputs": []
    },
    {
      "cell_type": "code",
      "source": [
        "y_train=df.sentiment"
      ],
      "metadata": {
        "id": "veyvggr0GSw6"
      },
      "execution_count": null,
      "outputs": []
    },
    {
      "cell_type": "code",
      "source": [
        "print(f'Количество предложений - {len(text_seq)}')\n",
        "print(f'Количество результирующих меток - {len(y_train)}')"
      ],
      "metadata": {
        "colab": {
          "base_uri": "https://localhost:8080/"
        },
        "id": "n6Pw8cCKGbGy",
        "outputId": "f06afcbd-1cc3-4b38-d42a-66d735018339"
      },
      "execution_count": null,
      "outputs": [
        {
          "output_type": "stream",
          "name": "stdout",
          "text": [
            "Количество предложений - 189891\n",
            "Количество результирующих меток - 189891\n"
          ]
        }
      ]
    },
    {
      "cell_type": "code",
      "source": [
        "print('Количество нейтральных отзывов  ',sum([1 for el in y_train if el==0]))\n",
        "print('Количество положительных отзывов',sum([1 for el in y_train if el==1]))\n",
        "print('Количество отрицательных отзывов',sum([1 for el in y_train if el==2]))"
      ],
      "metadata": {
        "colab": {
          "base_uri": "https://localhost:8080/"
        },
        "id": "M-hyQD6DDcFR",
        "outputId": "77ea589a-97fe-4991-b76c-708ca68b73a1"
      },
      "execution_count": null,
      "outputs": [
        {
          "output_type": "stream",
          "name": "stdout",
          "text": [
            "Количество нейтральных отзывов   0\n",
            "Количество положительных отзывов 0\n",
            "Количество отрицательных отзывов 0\n"
          ]
        }
      ]
    },
    {
      "cell_type": "code",
      "source": [
        "#функция для выравнивания данных\n",
        "def alignment(x_data,y_data,n=float('inf')):\n",
        "  X_train=[]\n",
        "  Y_train=[]\n",
        "  type1_count=0\n",
        "  for i,el in enumerate(y_data):\n",
        "    if el==1:\n",
        "      if type1_count<n:\n",
        "        X_train.append(x_data[i])\n",
        "        Y_train.append(1)\n",
        "        type1_count+=1\n",
        "    else:\n",
        "      X_train.append(x_data[i])\n",
        "      Y_train.append(el)\n",
        "  return X_train,Y_train"
      ],
      "metadata": {
        "id": "jx2H6jkTUo7F"
      },
      "execution_count": null,
      "outputs": []
    },
    {
      "cell_type": "code",
      "source": [
        "X_train,Y_train = alignment(text_seq,y_train)"
      ],
      "metadata": {
        "id": "GU6B6U_jbEsu"
      },
      "execution_count": null,
      "outputs": []
    },
    {
      "cell_type": "code",
      "source": [
        "print('Количество нейтральных отзывов  ',sum([1 for el in Y_train if el==0]))\n",
        "print('Количество положительных отзывов',sum([1 for el in Y_train if el==1]))\n",
        "print('Количество отрицательных отзывов',sum([1 for el in Y_train if el==2]))"
      ],
      "metadata": {
        "colab": {
          "base_uri": "https://localhost:8080/"
        },
        "id": "s5JeggmtcnvP",
        "outputId": "22123c56-ec4b-41de-96ac-1a14cebd676b"
      },
      "execution_count": null,
      "outputs": [
        {
          "output_type": "stream",
          "name": "stdout",
          "text": [
            "Количество нейтральных отзывов   0\n",
            "Количество положительных отзывов 0\n",
            "Количество отрицательных отзывов 0\n"
          ]
        }
      ]
    },
    {
      "cell_type": "code",
      "source": [
        "n_len=[len(el) for el in X_train if len(el)<1000 ]"
      ],
      "metadata": {
        "id": "Li228tKQpAxP"
      },
      "execution_count": null,
      "outputs": []
    },
    {
      "cell_type": "code",
      "source": [
        "plt.hist(n_len, bins=200)\n",
        "plt.show()"
      ],
      "metadata": {
        "colab": {
          "base_uri": "https://localhost:8080/",
          "height": 430
        },
        "id": "AQGZBbSbpJVl",
        "outputId": "e4f7b80a-cfcf-4fae-82f5-3b3df6fd2b06"
      },
      "execution_count": null,
      "outputs": [
        {
          "output_type": "display_data",
          "data": {
            "text/plain": [
              "<Figure size 640x480 with 1 Axes>"
            ],
            "image/png": "[encoded data removed]"
          },
          "metadata": {}
        }
      ]
    },
    {
      "cell_type": "code",
      "source": [
        "X_train = pad_sequences(X_train, maxlen=sent_len, padding='post', truncating='post') #все предложения длиной <200 дополняем нулями в конце, >200 - обрезаем\n"
      ],
      "metadata": {
        "id": "FokBiQS9Hwci"
      },
      "execution_count": null,
      "outputs": []
    },
    {
      "cell_type": "code",
      "source": [
        "print(X_train[15])\n",
        "print(X_train[15].shape)\n",
        "X_train.shape"
      ],
      "metadata": {
        "colab": {
          "base_uri": "https://localhost:8080/"
        },
        "id": "8GIz1qSioQYu",
        "outputId": "b5b81081-55a5-4621-fab4-c518f7a1024b"
      },
      "execution_count": null,
      "outputs": [
        {
          "output_type": "stream",
          "name": "stdout",
          "text": [
            "[   744    739     26      2     89    683  61025 113092 113093    908\n",
            "    348   4603   5611    225    359    462    296   2125      3   8232\n",
            "   1984   1569   4162    737   3107   1028   9443     21  11484  11264\n",
            "  26527   4377     97     19      2    162   2841    203     81   4603\n",
            "     26   7854   1552      0      0      0      0      0      0      0\n",
            "      0      0      0      0      0      0      0      0      0      0\n",
            "      0      0      0      0      0      0      0      0      0      0\n",
            "      0      0      0      0      0      0      0      0      0      0\n",
            "      0      0      0      0      0      0      0      0      0      0\n",
            "      0      0      0      0      0      0      0      0      0      0\n",
            "      0      0      0      0      0      0      0      0      0      0\n",
            "      0      0      0      0      0      0      0      0      0      0\n",
            "      0      0      0      0      0      0      0      0      0      0\n",
            "      0      0      0      0      0      0      0      0      0      0\n",
            "      0      0      0      0      0      0      0      0      0      0\n",
            "      0      0      0      0      0      0      0      0      0      0\n",
            "      0      0      0      0      0      0      0      0      0      0\n",
            "      0      0      0      0      0      0      0      0      0      0]\n",
            "(180,)\n"
          ]
        },
        {
          "output_type": "execute_result",
          "data": {
            "text/plain": [
              "(189891, 180)"
            ]
          },
          "metadata": {},
          "execution_count": 21
        }
      ]
    },
    {
      "cell_type": "code",
      "source": [
        "'''Замена часто втречающихся слов на 2, нужно если не удалены стоп слова'''\n",
        "# n=50 #Количество слов которые можно считать не существенными\n",
        "# X_train = np.where((X_train<50)&(X_train>1), 2, X_train)"
      ],
      "metadata": {
        "id": "oiWhDBBMwx_b"
      },
      "execution_count": null,
      "outputs": []
    },
    {
      "cell_type": "code",
      "source": [
        "#Преобразование в OHE категорий\n",
        "Y_train_OHE = to_categorical(Y_train, 3)\n",
        "Y_train_OHE"
      ],
      "metadata": {
        "colab": {
          "base_uri": "https://localhost:8080/"
        },
        "id": "TWSEIWLFI-TJ",
        "outputId": "2ad9e7b8-dfe2-4de0-fc4a-aa7e8881418d"
      },
      "execution_count": null,
      "outputs": [
        {
          "output_type": "execute_result",
          "data": {
            "text/plain": [
              "array([[0., 1., 0.],\n",
              "       [0., 1., 0.],\n",
              "       [0., 0., 1.],\n",
              "       ...,\n",
              "       [1., 0., 0.],\n",
              "       [1., 0., 0.],\n",
              "       [0., 1., 0.]], dtype=float32)"
            ]
          },
          "metadata": {},
          "execution_count": 22
        }
      ]
    },
    {
      "cell_type": "code",
      "source": [
        "x_train, x_val, y_train, y_val = train_test_split(np.asarray(X_train),\n",
        "                                                  np.asarray(Y_train_OHE),\n",
        "                                                  test_size=0.1,\n",
        "                                                  shuffle=True,\n",
        "                                                  stratify=Y_train_OHE)"
      ],
      "metadata": {
        "id": "CXS2agLUdh-2"
      },
      "execution_count": null,
      "outputs": []
    },
    {
      "cell_type": "markdown",
      "source": [
        "# Сложная трехпоточная модель"
      ],
      "metadata": {
        "id": "adp5JIXfzWx7"
      }
    },
    {
      "cell_type": "code",
      "source": [
        "\n",
        "# архитектура сверточного слоя:\n",
        "n_conv_1 = n_conv_2  = 128\n",
        "k_conv_1 = 3\n",
        "k_conv_2 = 2\n",
        "k_conv_3 = 4\n",
        "n_lstm = 220\n",
        "# архитектура полносвязанного слоя:\n",
        "n_dense = 256\n",
        "drop_embed=dropout = 0.25\n",
        "drop_lstm = 0.2\n"
      ],
      "metadata": {
        "id": "Cgj9ibrZEr7r"
      },
      "execution_count": null,
      "outputs": []
    },
    {
      "cell_type": "code",
      "source": [
        "# входной слой:\n",
        "input_layer = Input(shape=(sent_len,), dtype='int16', name='input')\n",
        "# слой векторного представления:\n",
        "embedding_layer = Embedding(maxWordsCount, sent_len, name='embedding')(input_layer)\n",
        "drop_embed_layer = SpatialDropout1D(drop_embed, name='drop_embed')(embedding_layer)\n",
        "# три параллельных потока:\n",
        "conv_1 = Conv1D(n_conv_1, k_conv_1, activation='relu', name='conv_1')(drop_embed_layer)\n",
        "maxp_1 = GlobalMaxPooling1D(name='maxp_1')(conv_1)\n",
        "conv_2 = Conv1D(n_conv_2, k_conv_2, activation='relu', name='conv_2')(drop_embed_layer)\n",
        "maxp_2 = GlobalMaxPooling1D(name='maxp_2')(conv_2)\n",
        "lstm_3 = Bidirectional(LSTM(n_lstm, dropout=drop_lstm))(drop_embed_layer)\n",
        "# объединение активаций из трех потоков:\n",
        "concat = concatenate([maxp_1, maxp_2])\n",
        "# скрытые полносвязанные слои:\n",
        "dense_layer = Dense(n_dense, activation='relu', name='dense')(concat)\n",
        "drop_dense_layer = Dropout(dropout, name='drop_dense')(dense_layer)\n",
        "concat = concatenate([drop_dense_layer, lstm_3])\n",
        "dense_2 = Dense(int(n_dense/4), activation='relu', name='dense_2')(concat)\n",
        "dropout_2 = Dropout(dropout, name='drop_dense_2')(dense_2)\n",
        "# сигмоидный выходной слой:\n",
        "predictions = Dense(3, activation='sigmoid', name='output')(dropout_2)\n",
        "# создание модели:\n",
        "model_1 = Model(input_layer, predictions)\n"
      ],
      "metadata": {
        "id": "ig8H3W1tEgl7"
      },
      "execution_count": null,
      "outputs": []
    },
    {
      "cell_type": "markdown",
      "source": [
        "# Простая сверточная модель"
      ],
      "metadata": {
        "id": "DrLU1FarzgOT"
      }
    },
    {
      "cell_type": "code",
      "source": [
        "model_1 = Sequential()\n",
        "model_1.add(Embedding(maxWordsCount, sent_len, input_length=sent_len)) # Формируем векторное пространство слов\n",
        "model_1.add(SpatialDropout1D(0.3))                                     # \"Прореживание\" пространства\n",
        "model_1.add(Conv1D(128, 3, activation='relu'))                         # сверточный слой\n",
        "model_1.add(Conv1D(128, 3, activation='relu'))\n",
        "model_1.add(GlobalMaxPooling1D())\n",
        "model_1.add(Dense(64, activation='relu'))                              # полносвязанный слой\n",
        "model_1.add(Dropout(0.3))\n",
        "model_1.add(Dense(3, activation='sigmoid'))                            # выходной слой"
      ],
      "metadata": {
        "id": "pt_u5XD6ysaT"
      },
      "execution_count": null,
      "outputs": []
    },
    {
      "cell_type": "markdown",
      "source": [
        "# Простая модель с использованием слоя RNN"
      ],
      "metadata": {
        "id": "8C0yARTbz-1z"
      }
    },
    {
      "cell_type": "code",
      "source": [
        "#Простая модель, на последнем слое 3 нейрона\n",
        "model_1 = Sequential()\n",
        "model_1.add(Embedding(maxWordsCount, sent_len))\n",
        "#model_1.add(GRU(256))\n",
        "model_1.add(Bidirectional(LSTM(256))) #продвинутый RNN слой\n",
        "model_1.add(Dense(256, activation='relu'))\n",
        "model_1.add(Dense(3, activation='softmax'))"
      ],
      "metadata": {
        "id": "H1yw2DB3JLh4"
      },
      "execution_count": null,
      "outputs": []
    },
    {
      "cell_type": "markdown",
      "source": [
        "# Информация по выбранной модели"
      ],
      "metadata": {
        "id": "66AVLIpv0DgK"
      }
    },
    {
      "cell_type": "code",
      "source": [
        "model_1.summary()"
      ],
      "metadata": {
        "colab": {
          "base_uri": "https://localhost:8080/"
        },
        "id": "CdBAraQtKPu5",
        "outputId": "6b02cbc4-3da0-4bb5-9387-d0e7a644e06c"
      },
      "execution_count": null,
      "outputs": [
        {
          "output_type": "stream",
          "name": "stdout",
          "text": [
            "Model: \"model\"\n",
            "__________________________________________________________________________________________________\n",
            " Layer (type)                Output Shape                 Param #   Connected to                  \n",
            "==================================================================================================\n",
            " input (InputLayer)          [(None, 180)]                0         []                            \n",
            "                                                                                                  \n",
            " embedding (Embedding)       (None, 180, 180)             3600000   ['input[0][0]']               \n",
            "                                                          0                                       \n",
            "                                                                                                  \n",
            " drop_embed (SpatialDropout  (None, 180, 180)             0         ['embedding[0][0]']           \n",
            " 1D)                                                                                              \n",
            "                                                                                                  \n",
            " conv_1 (Conv1D)             (None, 178, 128)             69248     ['drop_embed[0][0]']          \n",
            "                                                                                                  \n",
            " conv_2 (Conv1D)             (None, 179, 128)             46208     ['drop_embed[0][0]']          \n",
            "                                                                                                  \n",
            " maxp_1 (GlobalMaxPooling1D  (None, 128)                  0         ['conv_1[0][0]']              \n",
            " )                                                                                                \n",
            "                                                                                                  \n",
            " maxp_2 (GlobalMaxPooling1D  (None, 128)                  0         ['conv_2[0][0]']              \n",
            " )                                                                                                \n",
            "                                                                                                  \n",
            " concatenate (Concatenate)   (None, 256)                  0         ['maxp_1[0][0]',              \n",
            "                                                                     'maxp_2[0][0]']              \n",
            "                                                                                                  \n",
            " dense (Dense)               (None, 256)                  65792     ['concatenate[0][0]']         \n",
            "                                                                                                  \n",
            " drop_dense (Dropout)        (None, 256)                  0         ['dense[0][0]']               \n",
            "                                                                                                  \n",
            " bidirectional (Bidirection  (None, 440)                  705760    ['drop_embed[0][0]']          \n",
            " al)                                                                                              \n",
            "                                                                                                  \n",
            " concatenate_1 (Concatenate  (None, 696)                  0         ['drop_dense[0][0]',          \n",
            " )                                                                   'bidirectional[0][0]']       \n",
            "                                                                                                  \n",
            " dense_2 (Dense)             (None, 64)                   44608     ['concatenate_1[0][0]']       \n",
            "                                                                                                  \n",
            " drop_dense_2 (Dropout)      (None, 64)                   0         ['dense_2[0][0]']             \n",
            "                                                                                                  \n",
            " output (Dense)              (None, 3)                    195       ['drop_dense_2[0][0]']        \n",
            "                                                                                                  \n",
            "==================================================================================================\n",
            "Total params: 36931811 (140.88 MB)\n",
            "Trainable params: 36931811 (140.88 MB)\n",
            "Non-trainable params: 0 (0.00 Byte)\n",
            "__________________________________________________________________________________________________\n"
          ]
        }
      ]
    },
    {
      "cell_type": "code",
      "source": [
        "utils.plot_model(model_1, show_layer_names=False, show_shapes=True)"
      ],
      "metadata": {
        "colab": {
          "base_uri": "https://localhost:8080/",
          "height": 1000
        },
        "id": "vnnQsjG4FCvb",
        "outputId": "5925ea67-0c93-4a1b-8827-d28d4d73d980"
      },
      "execution_count": null,
      "outputs": [
        {
          "output_type": "execute_result",
          "data": {
            "image/png": "[encoded data removed]",
            "text/plain": [
              "<IPython.core.display.Image object>"
            ]
          },
          "metadata": {},
          "execution_count": 26
        }
      ]
    },
    {
      "cell_type": "code",
      "source": [
        "checkpoint = ModelCheckpoint(\"best_text_color.h5\", monitor='val_loss', save_best_only=True)\n",
        "model_rlr = ReduceLROnPlateau(monitor = 'val_loss', factor = 0.01, patience = 10, verbose = 1)\n",
        "\n",
        "model_1.compile(loss='categorical_crossentropy', metrics=['AUC'], optimizer=RMSprop(learning_rate=1e-4))"
      ],
      "metadata": {
        "id": "qmFoweR-Jq97"
      },
      "execution_count": null,
      "outputs": []
    },
    {
      "cell_type": "code",
      "source": [
        "history = model_1.fit(x_train,\n",
        "                      y_train,\n",
        "                      batch_size=128,\n",
        "                      epochs=30,\n",
        "                      callbacks=[checkpoint, model_rlr],\n",
        "                      validation_data = (x_val, y_val))\n",
        "\n",
        "\n",
        "#validation_split = 0.2"
      ],
      "metadata": {
        "colab": {
          "base_uri": "https://localhost:8080/",
          "height": 1000
        },
        "id": "4jWQI5mrKD9x",
        "outputId": "d8c13e35-2a50-4a93-db86-d6ce192ca92a"
      },
      "execution_count": null,
      "outputs": [
        {
          "output_type": "stream",
          "name": "stdout",
          "text": [
            "Epoch 1/30\n",
            "1336/1336 [==============================] - ETA: 0s - loss: 0.8386 - auc: 0.7764"
          ]
        },
        {
          "output_type": "stream",
          "name": "stderr",
          "text": [
            "/usr/local/lib/python3.10/dist-packages/keras/src/engine/training.py:3103: UserWarning: You are saving your model as an HDF5 file via `model.save()`. This file format is considered legacy. We recommend using instead the native Keras format, e.g. `model.save('my_model.keras')`.\n",
            "  saving_api.save_model(\n"
          ]
        },
        {
          "output_type": "stream",
          "name": "stdout",
          "text": [
            "\b\b\b\b\b\b\b\b\b\b\b\b\b\b\b\b\b\b\b\b\b\b\b\b\b\b\b\b\b\b\b\b\b\b\b\b\b\b\b\b\b\b\b\b\b\b\b\b\b\b\b\b\b\b\b\b\b\b\b\b\b\b\b\b\b\b\b\b\b\b\b\b\b\b\b\b\b\b\b\b\b\r1336/1336 [==============================] - 154s 108ms/step - loss: 0.8386 - auc: 0.7764 - val_loss: 0.6506 - val_auc: 0.8708 - lr: 1.0000e-04\n",
            "Epoch 2/30\n",
            "1336/1336 [==============================] - 101s 76ms/step - loss: 0.6078 - auc: 0.8814 - val_loss: 0.5823 - val_auc: 0.8919 - lr: 1.0000e-04\n",
            "Epoch 3/30\n",
            "1336/1336 [==============================] - 96s 72ms/step - loss: 0.5543 - auc: 0.8995 - val_loss: 0.5527 - val_auc: 0.9031 - lr: 1.0000e-04\n",
            "Epoch 4/30\n",
            "1336/1336 [==============================] - 91s 68ms/step - loss: 0.5230 - auc: 0.9098 - val_loss: 0.5379 - val_auc: 0.9084 - lr: 1.0000e-04\n",
            "Epoch 5/30\n",
            "1336/1336 [==============================] - 91s 68ms/step - loss: 0.5007 - auc: 0.9166 - val_loss: 0.5301 - val_auc: 0.9130 - lr: 1.0000e-04\n",
            "Epoch 6/30\n",
            "1336/1336 [==============================] - 90s 68ms/step - loss: 0.4827 - auc: 0.9219 - val_loss: 0.5366 - val_auc: 0.9142 - lr: 1.0000e-04\n",
            "Epoch 7/30\n",
            "1336/1336 [==============================] - 89s 67ms/step - loss: 0.4651 - auc: 0.9266 - val_loss: 0.5206 - val_auc: 0.9155 - lr: 1.0000e-04\n",
            "Epoch 8/30\n",
            "1336/1336 [==============================] - 87s 65ms/step - loss: 0.4496 - auc: 0.9308 - val_loss: 0.5535 - val_auc: 0.9156 - lr: 1.0000e-04\n",
            "Epoch 9/30\n",
            "1336/1336 [==============================] - 87s 65ms/step - loss: 0.4333 - auc: 0.9352 - val_loss: 0.5402 - val_auc: 0.9182 - lr: 1.0000e-04\n",
            "Epoch 10/30\n",
            "1336/1336 [==============================] - 89s 67ms/step - loss: 0.4159 - auc: 0.9394 - val_loss: 0.5477 - val_auc: 0.9156 - lr: 1.0000e-04\n",
            "Epoch 11/30\n",
            "1336/1336 [==============================] - 87s 65ms/step - loss: 0.3974 - auc: 0.9446 - val_loss: 0.5284 - val_auc: 0.9192 - lr: 1.0000e-04\n",
            "Epoch 12/30\n",
            "1336/1336 [==============================] - 89s 67ms/step - loss: 0.3794 - auc: 0.9487 - val_loss: 0.5482 - val_auc: 0.9196 - lr: 1.0000e-04\n",
            "Epoch 13/30\n",
            "1336/1336 [==============================] - 88s 66ms/step - loss: 0.3612 - auc: 0.9530 - val_loss: 0.5583 - val_auc: 0.9212 - lr: 1.0000e-04\n",
            "Epoch 14/30\n",
            "1336/1336 [==============================] - 88s 66ms/step - loss: 0.3419 - auc: 0.9573 - val_loss: 0.5613 - val_auc: 0.9209 - lr: 1.0000e-04\n",
            "Epoch 15/30\n",
            "1336/1336 [==============================] - 87s 65ms/step - loss: 0.3239 - auc: 0.9611 - val_loss: 0.5732 - val_auc: 0.9202 - lr: 1.0000e-04\n",
            "Epoch 16/30\n",
            "1336/1336 [==============================] - 86s 64ms/step - loss: 0.3058 - auc: 0.9646 - val_loss: 0.6010 - val_auc: 0.9177 - lr: 1.0000e-04\n",
            "Epoch 17/30\n",
            "1336/1336 [==============================] - ETA: 0s - loss: 0.2895 - auc: 0.9675\n",
            "Epoch 17: ReduceLROnPlateau reducing learning rate to 9.999999747378752e-07.\n",
            "1336/1336 [==============================] - 86s 65ms/step - loss: 0.2895 - auc: 0.9675 - val_loss: 0.5977 - val_auc: 0.9186 - lr: 1.0000e-04\n",
            "Epoch 18/30\n",
            "1336/1336 [==============================] - 87s 65ms/step - loss: 0.2595 - auc: 0.9726 - val_loss: 0.6175 - val_auc: 0.9188 - lr: 1.0000e-06\n",
            "Epoch 19/30\n",
            "1336/1336 [==============================] - 85s 64ms/step - loss: 0.2581 - auc: 0.9731 - val_loss: 0.6244 - val_auc: 0.9188 - lr: 1.0000e-06\n",
            "Epoch 20/30\n",
            "1336/1336 [==============================] - 88s 66ms/step - loss: 0.2573 - auc: 0.9733 - val_loss: 0.6300 - val_auc: 0.9187 - lr: 1.0000e-06\n",
            "Epoch 21/30\n",
            " 150/1336 [==>...........................] - ETA: 1:12 - loss: 0.2580 - auc: 0.9729"
          ]
        },
        {
          "output_type": "error",
          "ename": "KeyboardInterrupt",
          "evalue": "",
          "traceback": [
            "\u001b[0;31m---------------------------------------------------------------------------\u001b[0m",
            "\u001b[0;31mKeyboardInterrupt\u001b[0m                         Traceback (most recent call last)",
            "\u001b[0;32m<ipython-input-31-f4350dc9ca66>\u001b[0m in \u001b[0;36m<cell line: 1>\u001b[0;34m()\u001b[0m\n\u001b[0;32m----> 1\u001b[0;31m history = model_1.fit(x_train,\n\u001b[0m\u001b[1;32m      2\u001b[0m                       \u001b[0my_train\u001b[0m\u001b[0;34m,\u001b[0m\u001b[0;34m\u001b[0m\u001b[0;34m\u001b[0m\u001b[0m\n\u001b[1;32m      3\u001b[0m                       \u001b[0mbatch_size\u001b[0m\u001b[0;34m=\u001b[0m\u001b[0;36m128\u001b[0m\u001b[0;34m,\u001b[0m\u001b[0;34m\u001b[0m\u001b[0;34m\u001b[0m\u001b[0m\n\u001b[1;32m      4\u001b[0m                       \u001b[0mepochs\u001b[0m\u001b[0;34m=\u001b[0m\u001b[0;36m30\u001b[0m\u001b[0;34m,\u001b[0m\u001b[0;34m\u001b[0m\u001b[0;34m\u001b[0m\u001b[0m\n\u001b[1;32m      5\u001b[0m                       \u001b[0mcallbacks\u001b[0m\u001b[0;34m=\u001b[0m\u001b[0;34m[\u001b[0m\u001b[0mcheckpoint\u001b[0m\u001b[0;34m,\u001b[0m \u001b[0mmodel_rlr\u001b[0m\u001b[0;34m]\u001b[0m\u001b[0;34m,\u001b[0m\u001b[0;34m\u001b[0m\u001b[0;34m\u001b[0m\u001b[0m\n",
            "\u001b[0;32m/usr/local/lib/python3.10/dist-packages/keras/src/utils/traceback_utils.py\u001b[0m in \u001b[0;36merror_handler\u001b[0;34m(*args, **kwargs)\u001b[0m\n\u001b[1;32m     63\u001b[0m         \u001b[0mfiltered_tb\u001b[0m \u001b[0;34m=\u001b[0m \u001b[0;32mNone\u001b[0m\u001b[0;34m\u001b[0m\u001b[0;34m\u001b[0m\u001b[0m\n\u001b[1;32m     64\u001b[0m         \u001b[0;32mtry\u001b[0m\u001b[0;34m:\u001b[0m\u001b[0;34m\u001b[0m\u001b[0;34m\u001b[0m\u001b[0m\n\u001b[0;32m---> 65\u001b[0;31m             \u001b[0;32mreturn\u001b[0m \u001b[0mfn\u001b[0m\u001b[0;34m(\u001b[0m\u001b[0;34m*\u001b[0m\u001b[0margs\u001b[0m\u001b[0;34m,\u001b[0m \u001b[0;34m**\u001b[0m\u001b[0mkwargs\u001b[0m\u001b[0;34m)\u001b[0m\u001b[0;34m\u001b[0m\u001b[0;34m\u001b[0m\u001b[0m\n\u001b[0m\u001b[1;32m     66\u001b[0m         \u001b[0;32mexcept\u001b[0m \u001b[0mException\u001b[0m \u001b[0;32mas\u001b[0m \u001b[0me\u001b[0m\u001b[0;34m:\u001b[0m\u001b[0;34m\u001b[0m\u001b[0;34m\u001b[0m\u001b[0m\n\u001b[1;32m     67\u001b[0m             \u001b[0mfiltered_tb\u001b[0m \u001b[0;34m=\u001b[0m \u001b[0m_process_traceback_frames\u001b[0m\u001b[0;34m(\u001b[0m\u001b[0me\u001b[0m\u001b[0;34m.\u001b[0m\u001b[0m__traceback__\u001b[0m\u001b[0;34m)\u001b[0m\u001b[0;34m\u001b[0m\u001b[0;34m\u001b[0m\u001b[0m\n",
            "\u001b[0;32m/usr/local/lib/python3.10/dist-packages/keras/src/engine/training.py\u001b[0m in \u001b[0;36mfit\u001b[0;34m(self, x, y, batch_size, epochs, verbose, callbacks, validation_split, validation_data, shuffle, class_weight, sample_weight, initial_epoch, steps_per_epoch, validation_steps, validation_batch_size, validation_freq, max_queue_size, workers, use_multiprocessing)\u001b[0m\n\u001b[1;32m   1811\u001b[0m                             \u001b[0mlogs\u001b[0m \u001b[0;34m=\u001b[0m \u001b[0mtmp_logs\u001b[0m\u001b[0;34m\u001b[0m\u001b[0;34m\u001b[0m\u001b[0m\n\u001b[1;32m   1812\u001b[0m                             \u001b[0mend_step\u001b[0m \u001b[0;34m=\u001b[0m \u001b[0mstep\u001b[0m \u001b[0;34m+\u001b[0m \u001b[0mdata_handler\u001b[0m\u001b[0;34m.\u001b[0m\u001b[0mstep_increment\u001b[0m\u001b[0;34m\u001b[0m\u001b[0;34m\u001b[0m\u001b[0m\n\u001b[0;32m-> 1813\u001b[0;31m                             \u001b[0mcallbacks\u001b[0m\u001b[0;34m.\u001b[0m\u001b[0mon_train_batch_end\u001b[0m\u001b[0;34m(\u001b[0m\u001b[0mend_step\u001b[0m\u001b[0;34m,\u001b[0m \u001b[0mlogs\u001b[0m\u001b[0;34m)\u001b[0m\u001b[0;34m\u001b[0m\u001b[0;34m\u001b[0m\u001b[0m\n\u001b[0m\u001b[1;32m   1814\u001b[0m                             \u001b[0;32mif\u001b[0m \u001b[0mself\u001b[0m\u001b[0;34m.\u001b[0m\u001b[0mstop_training\u001b[0m\u001b[0;34m:\u001b[0m\u001b[0;34m\u001b[0m\u001b[0;34m\u001b[0m\u001b[0m\n\u001b[1;32m   1815\u001b[0m                                 \u001b[0;32mbreak\u001b[0m\u001b[0;34m\u001b[0m\u001b[0;34m\u001b[0m\u001b[0m\n",
            "\u001b[0;32m/usr/local/lib/python3.10/dist-packages/keras/src/callbacks.py\u001b[0m in \u001b[0;36mon_train_batch_end\u001b[0;34m(self, batch, logs)\u001b[0m\n\u001b[1;32m    473\u001b[0m         \"\"\"\n\u001b[1;32m    474\u001b[0m         \u001b[0;32mif\u001b[0m \u001b[0mself\u001b[0m\u001b[0;34m.\u001b[0m\u001b[0m_should_call_train_batch_hooks\u001b[0m\u001b[0;34m:\u001b[0m\u001b[0;34m\u001b[0m\u001b[0;34m\u001b[0m\u001b[0m\n\u001b[0;32m--> 475\u001b[0;31m             \u001b[0mself\u001b[0m\u001b[0;34m.\u001b[0m\u001b[0m_call_batch_hook\u001b[0m\u001b[0;34m(\u001b[0m\u001b[0mModeKeys\u001b[0m\u001b[0;34m.\u001b[0m\u001b[0mTRAIN\u001b[0m\u001b[0;34m,\u001b[0m \u001b[0;34m\"end\"\u001b[0m\u001b[0;34m,\u001b[0m \u001b[0mbatch\u001b[0m\u001b[0;34m,\u001b[0m \u001b[0mlogs\u001b[0m\u001b[0;34m=\u001b[0m\u001b[0mlogs\u001b[0m\u001b[0;34m)\u001b[0m\u001b[0;34m\u001b[0m\u001b[0;34m\u001b[0m\u001b[0m\n\u001b[0m\u001b[1;32m    476\u001b[0m \u001b[0;34m\u001b[0m\u001b[0m\n\u001b[1;32m    477\u001b[0m     \u001b[0;32mdef\u001b[0m \u001b[0mon_test_batch_begin\u001b[0m\u001b[0;34m(\u001b[0m\u001b[0mself\u001b[0m\u001b[0;34m,\u001b[0m \u001b[0mbatch\u001b[0m\u001b[0;34m,\u001b[0m \u001b[0mlogs\u001b[0m\u001b[0;34m=\u001b[0m\u001b[0;32mNone\u001b[0m\u001b[0;34m)\u001b[0m\u001b[0;34m:\u001b[0m\u001b[0;34m\u001b[0m\u001b[0;34m\u001b[0m\u001b[0m\n",
            "\u001b[0;32m/usr/local/lib/python3.10/dist-packages/keras/src/callbacks.py\u001b[0m in \u001b[0;36m_call_batch_hook\u001b[0;34m(self, mode, hook, batch, logs)\u001b[0m\n\u001b[1;32m    320\u001b[0m             \u001b[0mself\u001b[0m\u001b[0;34m.\u001b[0m\u001b[0m_call_batch_begin_hook\u001b[0m\u001b[0;34m(\u001b[0m\u001b[0mmode\u001b[0m\u001b[0;34m,\u001b[0m \u001b[0mbatch\u001b[0m\u001b[0;34m,\u001b[0m \u001b[0mlogs\u001b[0m\u001b[0;34m)\u001b[0m\u001b[0;34m\u001b[0m\u001b[0;34m\u001b[0m\u001b[0m\n\u001b[1;32m    321\u001b[0m         \u001b[0;32melif\u001b[0m \u001b[0mhook\u001b[0m \u001b[0;34m==\u001b[0m \u001b[0;34m\"end\"\u001b[0m\u001b[0;34m:\u001b[0m\u001b[0;34m\u001b[0m\u001b[0;34m\u001b[0m\u001b[0m\n\u001b[0;32m--> 322\u001b[0;31m             \u001b[0mself\u001b[0m\u001b[0;34m.\u001b[0m\u001b[0m_call_batch_end_hook\u001b[0m\u001b[0;34m(\u001b[0m\u001b[0mmode\u001b[0m\u001b[0;34m,\u001b[0m \u001b[0mbatch\u001b[0m\u001b[0;34m,\u001b[0m \u001b[0mlogs\u001b[0m\u001b[0;34m)\u001b[0m\u001b[0;34m\u001b[0m\u001b[0;34m\u001b[0m\u001b[0m\n\u001b[0m\u001b[1;32m    323\u001b[0m         \u001b[0;32melse\u001b[0m\u001b[0;34m:\u001b[0m\u001b[0;34m\u001b[0m\u001b[0;34m\u001b[0m\u001b[0m\n\u001b[1;32m    324\u001b[0m             raise ValueError(\n",
            "\u001b[0;32m/usr/local/lib/python3.10/dist-packages/keras/src/callbacks.py\u001b[0m in \u001b[0;36m_call_batch_end_hook\u001b[0;34m(self, mode, batch, logs)\u001b[0m\n\u001b[1;32m    343\u001b[0m             \u001b[0mself\u001b[0m\u001b[0;34m.\u001b[0m\u001b[0m_batch_times\u001b[0m\u001b[0;34m.\u001b[0m\u001b[0mappend\u001b[0m\u001b[0;34m(\u001b[0m\u001b[0mbatch_time\u001b[0m\u001b[0;34m)\u001b[0m\u001b[0;34m\u001b[0m\u001b[0;34m\u001b[0m\u001b[0m\n\u001b[1;32m    344\u001b[0m \u001b[0;34m\u001b[0m\u001b[0m\n\u001b[0;32m--> 345\u001b[0;31m         \u001b[0mself\u001b[0m\u001b[0;34m.\u001b[0m\u001b[0m_call_batch_hook_helper\u001b[0m\u001b[0;34m(\u001b[0m\u001b[0mhook_name\u001b[0m\u001b[0;34m,\u001b[0m \u001b[0mbatch\u001b[0m\u001b[0;34m,\u001b[0m \u001b[0mlogs\u001b[0m\u001b[0;34m)\u001b[0m\u001b[0;34m\u001b[0m\u001b[0;34m\u001b[0m\u001b[0m\n\u001b[0m\u001b[1;32m    346\u001b[0m \u001b[0;34m\u001b[0m\u001b[0m\n\u001b[1;32m    347\u001b[0m         \u001b[0;32mif\u001b[0m \u001b[0mlen\u001b[0m\u001b[0;34m(\u001b[0m\u001b[0mself\u001b[0m\u001b[0;34m.\u001b[0m\u001b[0m_batch_times\u001b[0m\u001b[0;34m)\u001b[0m \u001b[0;34m>=\u001b[0m \u001b[0mself\u001b[0m\u001b[0;34m.\u001b[0m\u001b[0m_num_batches_for_timing_check\u001b[0m\u001b[0;34m:\u001b[0m\u001b[0;34m\u001b[0m\u001b[0;34m\u001b[0m\u001b[0m\n",
            "\u001b[0;32m/usr/local/lib/python3.10/dist-packages/keras/src/callbacks.py\u001b[0m in \u001b[0;36m_call_batch_hook_helper\u001b[0;34m(self, hook_name, batch, logs)\u001b[0m\n\u001b[1;32m    391\u001b[0m         \u001b[0;32mfor\u001b[0m \u001b[0mcallback\u001b[0m \u001b[0;32min\u001b[0m \u001b[0mself\u001b[0m\u001b[0;34m.\u001b[0m\u001b[0mcallbacks\u001b[0m\u001b[0;34m:\u001b[0m\u001b[0;34m\u001b[0m\u001b[0;34m\u001b[0m\u001b[0m\n\u001b[1;32m    392\u001b[0m             \u001b[0mhook\u001b[0m \u001b[0;34m=\u001b[0m \u001b[0mgetattr\u001b[0m\u001b[0;34m(\u001b[0m\u001b[0mcallback\u001b[0m\u001b[0;34m,\u001b[0m \u001b[0mhook_name\u001b[0m\u001b[0;34m)\u001b[0m\u001b[0;34m\u001b[0m\u001b[0;34m\u001b[0m\u001b[0m\n\u001b[0;32m--> 393\u001b[0;31m             \u001b[0mhook\u001b[0m\u001b[0;34m(\u001b[0m\u001b[0mbatch\u001b[0m\u001b[0;34m,\u001b[0m \u001b[0mlogs\u001b[0m\u001b[0;34m)\u001b[0m\u001b[0;34m\u001b[0m\u001b[0;34m\u001b[0m\u001b[0m\n\u001b[0m\u001b[1;32m    394\u001b[0m \u001b[0;34m\u001b[0m\u001b[0m\n\u001b[1;32m    395\u001b[0m         \u001b[0;32mif\u001b[0m \u001b[0mself\u001b[0m\u001b[0;34m.\u001b[0m\u001b[0m_check_timing\u001b[0m\u001b[0;34m:\u001b[0m\u001b[0;34m\u001b[0m\u001b[0;34m\u001b[0m\u001b[0m\n",
            "\u001b[0;32m/usr/local/lib/python3.10/dist-packages/keras/src/callbacks.py\u001b[0m in \u001b[0;36mon_train_batch_end\u001b[0;34m(self, batch, logs)\u001b[0m\n\u001b[1;32m   1091\u001b[0m \u001b[0;34m\u001b[0m\u001b[0m\n\u001b[1;32m   1092\u001b[0m     \u001b[0;32mdef\u001b[0m \u001b[0mon_train_batch_end\u001b[0m\u001b[0;34m(\u001b[0m\u001b[0mself\u001b[0m\u001b[0;34m,\u001b[0m \u001b[0mbatch\u001b[0m\u001b[0;34m,\u001b[0m \u001b[0mlogs\u001b[0m\u001b[0;34m=\u001b[0m\u001b[0;32mNone\u001b[0m\u001b[0;34m)\u001b[0m\u001b[0;34m:\u001b[0m\u001b[0;34m\u001b[0m\u001b[0;34m\u001b[0m\u001b[0m\n\u001b[0;32m-> 1093\u001b[0;31m         \u001b[0mself\u001b[0m\u001b[0;34m.\u001b[0m\u001b[0m_batch_update_progbar\u001b[0m\u001b[0;34m(\u001b[0m\u001b[0mbatch\u001b[0m\u001b[0;34m,\u001b[0m \u001b[0mlogs\u001b[0m\u001b[0;34m)\u001b[0m\u001b[0;34m\u001b[0m\u001b[0;34m\u001b[0m\u001b[0m\n\u001b[0m\u001b[1;32m   1094\u001b[0m \u001b[0;34m\u001b[0m\u001b[0m\n\u001b[1;32m   1095\u001b[0m     \u001b[0;32mdef\u001b[0m \u001b[0mon_test_batch_end\u001b[0m\u001b[0;34m(\u001b[0m\u001b[0mself\u001b[0m\u001b[0;34m,\u001b[0m \u001b[0mbatch\u001b[0m\u001b[0;34m,\u001b[0m \u001b[0mlogs\u001b[0m\u001b[0;34m=\u001b[0m\u001b[0;32mNone\u001b[0m\u001b[0;34m)\u001b[0m\u001b[0;34m:\u001b[0m\u001b[0;34m\u001b[0m\u001b[0;34m\u001b[0m\u001b[0m\n",
            "\u001b[0;32m/usr/local/lib/python3.10/dist-packages/keras/src/callbacks.py\u001b[0m in \u001b[0;36m_batch_update_progbar\u001b[0;34m(self, batch, logs)\u001b[0m\n\u001b[1;32m   1167\u001b[0m         \u001b[0;32mif\u001b[0m \u001b[0mself\u001b[0m\u001b[0;34m.\u001b[0m\u001b[0mverbose\u001b[0m \u001b[0;34m==\u001b[0m \u001b[0;36m1\u001b[0m\u001b[0;34m:\u001b[0m\u001b[0;34m\u001b[0m\u001b[0;34m\u001b[0m\u001b[0m\n\u001b[1;32m   1168\u001b[0m             \u001b[0;31m# Only block async when verbose = 1.\u001b[0m\u001b[0;34m\u001b[0m\u001b[0;34m\u001b[0m\u001b[0m\n\u001b[0;32m-> 1169\u001b[0;31m             \u001b[0mlogs\u001b[0m \u001b[0;34m=\u001b[0m \u001b[0mtf_utils\u001b[0m\u001b[0;34m.\u001b[0m\u001b[0msync_to_numpy_or_python_type\u001b[0m\u001b[0;34m(\u001b[0m\u001b[0mlogs\u001b[0m\u001b[0;34m)\u001b[0m\u001b[0;34m\u001b[0m\u001b[0;34m\u001b[0m\u001b[0m\n\u001b[0m\u001b[1;32m   1170\u001b[0m             \u001b[0mself\u001b[0m\u001b[0;34m.\u001b[0m\u001b[0mprogbar\u001b[0m\u001b[0;34m.\u001b[0m\u001b[0mupdate\u001b[0m\u001b[0;34m(\u001b[0m\u001b[0mself\u001b[0m\u001b[0;34m.\u001b[0m\u001b[0mseen\u001b[0m\u001b[0;34m,\u001b[0m \u001b[0mlist\u001b[0m\u001b[0;34m(\u001b[0m\u001b[0mlogs\u001b[0m\u001b[0;34m.\u001b[0m\u001b[0mitems\u001b[0m\u001b[0;34m(\u001b[0m\u001b[0;34m)\u001b[0m\u001b[0;34m)\u001b[0m\u001b[0;34m,\u001b[0m \u001b[0mfinalize\u001b[0m\u001b[0;34m=\u001b[0m\u001b[0;32mFalse\u001b[0m\u001b[0;34m)\u001b[0m\u001b[0;34m\u001b[0m\u001b[0;34m\u001b[0m\u001b[0m\n\u001b[1;32m   1171\u001b[0m \u001b[0;34m\u001b[0m\u001b[0m\n",
            "\u001b[0;32m/usr/local/lib/python3.10/dist-packages/keras/src/utils/tf_utils.py\u001b[0m in \u001b[0;36msync_to_numpy_or_python_type\u001b[0;34m(tensors)\u001b[0m\n\u001b[1;32m    692\u001b[0m         \u001b[0;32mreturn\u001b[0m \u001b[0mt\u001b[0m\u001b[0;34m.\u001b[0m\u001b[0mitem\u001b[0m\u001b[0;34m(\u001b[0m\u001b[0;34m)\u001b[0m \u001b[0;32mif\u001b[0m \u001b[0mnp\u001b[0m\u001b[0;34m.\u001b[0m\u001b[0mndim\u001b[0m\u001b[0;34m(\u001b[0m\u001b[0mt\u001b[0m\u001b[0;34m)\u001b[0m \u001b[0;34m==\u001b[0m \u001b[0;36m0\u001b[0m \u001b[0;32melse\u001b[0m \u001b[0mt\u001b[0m\u001b[0;34m\u001b[0m\u001b[0;34m\u001b[0m\u001b[0m\n\u001b[1;32m    693\u001b[0m \u001b[0;34m\u001b[0m\u001b[0m\n\u001b[0;32m--> 694\u001b[0;31m     \u001b[0;32mreturn\u001b[0m \u001b[0mtf\u001b[0m\u001b[0;34m.\u001b[0m\u001b[0mnest\u001b[0m\u001b[0;34m.\u001b[0m\u001b[0mmap_structure\u001b[0m\u001b[0;34m(\u001b[0m\u001b[0m_to_single_numpy_or_python_type\u001b[0m\u001b[0;34m,\u001b[0m \u001b[0mtensors\u001b[0m\u001b[0;34m)\u001b[0m\u001b[0;34m\u001b[0m\u001b[0;34m\u001b[0m\u001b[0m\n\u001b[0m\u001b[1;32m    695\u001b[0m \u001b[0;34m\u001b[0m\u001b[0m\n\u001b[1;32m    696\u001b[0m \u001b[0;34m\u001b[0m\u001b[0m\n",
            "\u001b[0;32m/usr/local/lib/python3.10/dist-packages/tensorflow/python/util/nest.py\u001b[0m in \u001b[0;36mmap_structure\u001b[0;34m(func, *structure, **kwargs)\u001b[0m\n\u001b[1;32m    629\u001b[0m     \u001b[0mValueError\u001b[0m\u001b[0;34m:\u001b[0m \u001b[0mIf\u001b[0m \u001b[0mwrong\u001b[0m \u001b[0mkeyword\u001b[0m \u001b[0marguments\u001b[0m \u001b[0mare\u001b[0m \u001b[0mprovided\u001b[0m\u001b[0;34m.\u001b[0m\u001b[0;34m\u001b[0m\u001b[0;34m\u001b[0m\u001b[0m\n\u001b[1;32m    630\u001b[0m   \"\"\"\n\u001b[0;32m--> 631\u001b[0;31m   return nest_util.map_structure(\n\u001b[0m\u001b[1;32m    632\u001b[0m       \u001b[0mnest_util\u001b[0m\u001b[0;34m.\u001b[0m\u001b[0mModality\u001b[0m\u001b[0;34m.\u001b[0m\u001b[0mCORE\u001b[0m\u001b[0;34m,\u001b[0m \u001b[0mfunc\u001b[0m\u001b[0;34m,\u001b[0m \u001b[0;34m*\u001b[0m\u001b[0mstructure\u001b[0m\u001b[0;34m,\u001b[0m \u001b[0;34m**\u001b[0m\u001b[0mkwargs\u001b[0m\u001b[0;34m\u001b[0m\u001b[0;34m\u001b[0m\u001b[0m\n\u001b[1;32m    633\u001b[0m   )\n",
            "\u001b[0;32m/usr/local/lib/python3.10/dist-packages/tensorflow/python/util/nest_util.py\u001b[0m in \u001b[0;36mmap_structure\u001b[0;34m(modality, func, *structure, **kwargs)\u001b[0m\n\u001b[1;32m   1064\u001b[0m   \"\"\"\n\u001b[1;32m   1065\u001b[0m   \u001b[0;32mif\u001b[0m \u001b[0mmodality\u001b[0m \u001b[0;34m==\u001b[0m \u001b[0mModality\u001b[0m\u001b[0;34m.\u001b[0m\u001b[0mCORE\u001b[0m\u001b[0;34m:\u001b[0m\u001b[0;34m\u001b[0m\u001b[0;34m\u001b[0m\u001b[0m\n\u001b[0;32m-> 1066\u001b[0;31m     \u001b[0;32mreturn\u001b[0m \u001b[0m_tf_core_map_structure\u001b[0m\u001b[0;34m(\u001b[0m\u001b[0mfunc\u001b[0m\u001b[0;34m,\u001b[0m \u001b[0;34m*\u001b[0m\u001b[0mstructure\u001b[0m\u001b[0;34m,\u001b[0m \u001b[0;34m**\u001b[0m\u001b[0mkwargs\u001b[0m\u001b[0;34m)\u001b[0m\u001b[0;34m\u001b[0m\u001b[0;34m\u001b[0m\u001b[0m\n\u001b[0m\u001b[1;32m   1067\u001b[0m   \u001b[0;32melif\u001b[0m \u001b[0mmodality\u001b[0m \u001b[0;34m==\u001b[0m \u001b[0mModality\u001b[0m\u001b[0;34m.\u001b[0m\u001b[0mDATA\u001b[0m\u001b[0;34m:\u001b[0m\u001b[0;34m\u001b[0m\u001b[0;34m\u001b[0m\u001b[0m\n\u001b[1;32m   1068\u001b[0m     \u001b[0;32mreturn\u001b[0m \u001b[0m_tf_data_map_structure\u001b[0m\u001b[0;34m(\u001b[0m\u001b[0mfunc\u001b[0m\u001b[0;34m,\u001b[0m \u001b[0;34m*\u001b[0m\u001b[0mstructure\u001b[0m\u001b[0;34m,\u001b[0m \u001b[0;34m**\u001b[0m\u001b[0mkwargs\u001b[0m\u001b[0;34m)\u001b[0m\u001b[0;34m\u001b[0m\u001b[0;34m\u001b[0m\u001b[0m\n",
            "\u001b[0;32m/usr/local/lib/python3.10/dist-packages/tensorflow/python/util/nest_util.py\u001b[0m in \u001b[0;36m_tf_core_map_structure\u001b[0;34m(func, *structure, **kwargs)\u001b[0m\n\u001b[1;32m   1104\u001b[0m   return _tf_core_pack_sequence_as(\n\u001b[1;32m   1105\u001b[0m       \u001b[0mstructure\u001b[0m\u001b[0;34m[\u001b[0m\u001b[0;36m0\u001b[0m\u001b[0;34m]\u001b[0m\u001b[0;34m,\u001b[0m\u001b[0;34m\u001b[0m\u001b[0;34m\u001b[0m\u001b[0m\n\u001b[0;32m-> 1106\u001b[0;31m       \u001b[0;34m[\u001b[0m\u001b[0mfunc\u001b[0m\u001b[0;34m(\u001b[0m\u001b[0;34m*\u001b[0m\u001b[0mx\u001b[0m\u001b[0;34m)\u001b[0m \u001b[0;32mfor\u001b[0m \u001b[0mx\u001b[0m \u001b[0;32min\u001b[0m \u001b[0mentries\u001b[0m\u001b[0;34m]\u001b[0m\u001b[0;34m,\u001b[0m\u001b[0;34m\u001b[0m\u001b[0;34m\u001b[0m\u001b[0m\n\u001b[0m\u001b[1;32m   1107\u001b[0m       \u001b[0mexpand_composites\u001b[0m\u001b[0;34m=\u001b[0m\u001b[0mexpand_composites\u001b[0m\u001b[0;34m,\u001b[0m\u001b[0;34m\u001b[0m\u001b[0;34m\u001b[0m\u001b[0m\n\u001b[1;32m   1108\u001b[0m   )\n",
            "\u001b[0;32m/usr/local/lib/python3.10/dist-packages/tensorflow/python/util/nest_util.py\u001b[0m in \u001b[0;36m<listcomp>\u001b[0;34m(.0)\u001b[0m\n\u001b[1;32m   1104\u001b[0m   return _tf_core_pack_sequence_as(\n\u001b[1;32m   1105\u001b[0m       \u001b[0mstructure\u001b[0m\u001b[0;34m[\u001b[0m\u001b[0;36m0\u001b[0m\u001b[0;34m]\u001b[0m\u001b[0;34m,\u001b[0m\u001b[0;34m\u001b[0m\u001b[0;34m\u001b[0m\u001b[0m\n\u001b[0;32m-> 1106\u001b[0;31m       \u001b[0;34m[\u001b[0m\u001b[0mfunc\u001b[0m\u001b[0;34m(\u001b[0m\u001b[0;34m*\u001b[0m\u001b[0mx\u001b[0m\u001b[0;34m)\u001b[0m \u001b[0;32mfor\u001b[0m \u001b[0mx\u001b[0m \u001b[0;32min\u001b[0m \u001b[0mentries\u001b[0m\u001b[0;34m]\u001b[0m\u001b[0;34m,\u001b[0m\u001b[0;34m\u001b[0m\u001b[0;34m\u001b[0m\u001b[0m\n\u001b[0m\u001b[1;32m   1107\u001b[0m       \u001b[0mexpand_composites\u001b[0m\u001b[0;34m=\u001b[0m\u001b[0mexpand_composites\u001b[0m\u001b[0;34m,\u001b[0m\u001b[0;34m\u001b[0m\u001b[0;34m\u001b[0m\u001b[0m\n\u001b[1;32m   1108\u001b[0m   )\n",
            "\u001b[0;32m/usr/local/lib/python3.10/dist-packages/keras/src/utils/tf_utils.py\u001b[0m in \u001b[0;36m_to_single_numpy_or_python_type\u001b[0;34m(t)\u001b[0m\n\u001b[1;32m    685\u001b[0m         \u001b[0;31m# Don't turn ragged or sparse tensors to NumPy.\u001b[0m\u001b[0;34m\u001b[0m\u001b[0;34m\u001b[0m\u001b[0m\n\u001b[1;32m    686\u001b[0m         \u001b[0;32mif\u001b[0m \u001b[0misinstance\u001b[0m\u001b[0;34m(\u001b[0m\u001b[0mt\u001b[0m\u001b[0;34m,\u001b[0m \u001b[0mtf\u001b[0m\u001b[0;34m.\u001b[0m\u001b[0mTensor\u001b[0m\u001b[0;34m)\u001b[0m\u001b[0;34m:\u001b[0m\u001b[0;34m\u001b[0m\u001b[0;34m\u001b[0m\u001b[0m\n\u001b[0;32m--> 687\u001b[0;31m             \u001b[0mt\u001b[0m \u001b[0;34m=\u001b[0m \u001b[0mt\u001b[0m\u001b[0;34m.\u001b[0m\u001b[0mnumpy\u001b[0m\u001b[0;34m(\u001b[0m\u001b[0;34m)\u001b[0m\u001b[0;34m\u001b[0m\u001b[0;34m\u001b[0m\u001b[0m\n\u001b[0m\u001b[1;32m    688\u001b[0m         \u001b[0;31m# Strings, ragged and sparse tensors don't have .item(). Return them\u001b[0m\u001b[0;34m\u001b[0m\u001b[0;34m\u001b[0m\u001b[0m\n\u001b[1;32m    689\u001b[0m         \u001b[0;31m# as-is.\u001b[0m\u001b[0;34m\u001b[0m\u001b[0;34m\u001b[0m\u001b[0m\n",
            "\u001b[0;32m/usr/local/lib/python3.10/dist-packages/tensorflow/python/framework/ops.py\u001b[0m in \u001b[0;36mnumpy\u001b[0;34m(self)\u001b[0m\n\u001b[1;32m    392\u001b[0m     \"\"\"\n\u001b[1;32m    393\u001b[0m     \u001b[0;31m# TODO(slebedev): Consider avoiding a copy for non-CPU or remote tensors.\u001b[0m\u001b[0;34m\u001b[0m\u001b[0;34m\u001b[0m\u001b[0m\n\u001b[0;32m--> 394\u001b[0;31m     \u001b[0mmaybe_arr\u001b[0m \u001b[0;34m=\u001b[0m \u001b[0mself\u001b[0m\u001b[0;34m.\u001b[0m\u001b[0m_numpy\u001b[0m\u001b[0;34m(\u001b[0m\u001b[0;34m)\u001b[0m  \u001b[0;31m# pylint: disable=protected-access\u001b[0m\u001b[0;34m\u001b[0m\u001b[0;34m\u001b[0m\u001b[0m\n\u001b[0m\u001b[1;32m    395\u001b[0m     \u001b[0;32mreturn\u001b[0m \u001b[0mmaybe_arr\u001b[0m\u001b[0;34m.\u001b[0m\u001b[0mcopy\u001b[0m\u001b[0;34m(\u001b[0m\u001b[0;34m)\u001b[0m \u001b[0;32mif\u001b[0m \u001b[0misinstance\u001b[0m\u001b[0;34m(\u001b[0m\u001b[0mmaybe_arr\u001b[0m\u001b[0;34m,\u001b[0m \u001b[0mnp\u001b[0m\u001b[0;34m.\u001b[0m\u001b[0mndarray\u001b[0m\u001b[0;34m)\u001b[0m \u001b[0;32melse\u001b[0m \u001b[0mmaybe_arr\u001b[0m\u001b[0;34m\u001b[0m\u001b[0;34m\u001b[0m\u001b[0m\n\u001b[1;32m    396\u001b[0m \u001b[0;34m\u001b[0m\u001b[0m\n",
            "\u001b[0;32m/usr/local/lib/python3.10/dist-packages/tensorflow/python/framework/ops.py\u001b[0m in \u001b[0;36m_numpy\u001b[0;34m(self)\u001b[0m\n\u001b[1;32m    358\u001b[0m   \u001b[0;32mdef\u001b[0m \u001b[0m_numpy\u001b[0m\u001b[0;34m(\u001b[0m\u001b[0mself\u001b[0m\u001b[0;34m)\u001b[0m\u001b[0;34m:\u001b[0m\u001b[0;34m\u001b[0m\u001b[0;34m\u001b[0m\u001b[0m\n\u001b[1;32m    359\u001b[0m     \u001b[0;32mtry\u001b[0m\u001b[0;34m:\u001b[0m\u001b[0;34m\u001b[0m\u001b[0;34m\u001b[0m\u001b[0m\n\u001b[0;32m--> 360\u001b[0;31m       \u001b[0;32mreturn\u001b[0m \u001b[0mself\u001b[0m\u001b[0;34m.\u001b[0m\u001b[0m_numpy_internal\u001b[0m\u001b[0;34m(\u001b[0m\u001b[0;34m)\u001b[0m\u001b[0;34m\u001b[0m\u001b[0;34m\u001b[0m\u001b[0m\n\u001b[0m\u001b[1;32m    361\u001b[0m     \u001b[0;32mexcept\u001b[0m \u001b[0mcore\u001b[0m\u001b[0;34m.\u001b[0m\u001b[0m_NotOkStatusException\u001b[0m \u001b[0;32mas\u001b[0m \u001b[0me\u001b[0m\u001b[0;34m:\u001b[0m  \u001b[0;31m# pylint: disable=protected-access\u001b[0m\u001b[0;34m\u001b[0m\u001b[0;34m\u001b[0m\u001b[0m\n\u001b[1;32m    362\u001b[0m       \u001b[0;32mraise\u001b[0m \u001b[0mcore\u001b[0m\u001b[0;34m.\u001b[0m\u001b[0m_status_to_exception\u001b[0m\u001b[0;34m(\u001b[0m\u001b[0me\u001b[0m\u001b[0;34m)\u001b[0m \u001b[0;32mfrom\u001b[0m \u001b[0;32mNone\u001b[0m  \u001b[0;31m# pylint: disable=protected-access\u001b[0m\u001b[0;34m\u001b[0m\u001b[0;34m\u001b[0m\u001b[0m\n",
            "\u001b[0;31mKeyboardInterrupt\u001b[0m: "
          ]
        }
      ]
    },
    {
      "cell_type": "code",
      "source": [
        "plt.plot(history.history['loss'], label='loss')\n",
        "plt.plot(history.history['val_loss'], label='val_loss')\n",
        "plt.legend()\n",
        "plt.show()"
      ],
      "metadata": {
        "colab": {
          "base_uri": "https://localhost:8080/",
          "height": 430
        },
        "id": "J67kWRhOhBr8",
        "outputId": "8e1282e9-67b6-4e9d-9a96-e37971499f48"
      },
      "execution_count": null,
      "outputs": [
        {
          "output_type": "display_data",
          "data": {
            "text/plain": [
              "<Figure size 640x480 with 1 Axes>"
            ],
            "image/png": "[encoded data removed]"
          },
          "metadata": {}
        }
      ]
    },
    {
      "cell_type": "code",
      "source": [
        "#Загрузка лучших весов нейронной сети на всем периоде обучения\n",
        "model_1.load_weights('/content/best_text_color.h5')"
      ],
      "metadata": {
        "id": "QYpDQ8yEk0dG"
      },
      "execution_count": null,
      "outputs": []
    },
    {
      "cell_type": "code",
      "source": [
        "# Проверка работы модели:\n",
        "model_1.evaluate(x_val,y_val)"
      ],
      "metadata": {
        "colab": {
          "base_uri": "https://localhost:8080/"
        },
        "id": "m3A1emBUmhXW",
        "outputId": "5ccdff77-b09d-4efe-db10-5f637be0513a"
      },
      "execution_count": null,
      "outputs": [
        {
          "output_type": "stream",
          "name": "stdout",
          "text": [
            "594/594 [==============================] - 6s 11ms/step - loss: 0.5206 - auc: 0.9155\n"
          ]
        },
        {
          "output_type": "execute_result",
          "data": {
            "text/plain": [
              "[0.5205941796302795, 0.9154716730117798]"
            ]
          },
          "metadata": {},
          "execution_count": 48
        }
      ]
    },
    {
      "cell_type": "code",
      "source": [
        "import gc\n",
        "gc.collect()"
      ],
      "metadata": {
        "colab": {
          "base_uri": "https://localhost:8080/"
        },
        "id": "2kegdB-yhRQ9",
        "outputId": "3e4841f8-7a14-49e1-bc36-6b2c598bc89e"
      },
      "execution_count": null,
      "outputs": [
        {
          "output_type": "execute_result",
          "data": {
            "text/plain": [
              "4308"
            ]
          },
          "metadata": {},
          "execution_count": 51
        }
      ]
    },
    {
      "cell_type": "markdown",
      "source": [
        "# Работа с ТЕСТОВЫМИ данными"
      ],
      "metadata": {
        "id": "VF6P_4fvZawj"
      }
    },
    {
      "cell_type": "code",
      "source": [
        "# Обычные тестовые данные\n",
        "#gdown.download('https://drive.google.com/uc?export=download&confirm=no_antivirus&id=1laWigm0cESPQ6lIOGVnXghFsmdvg0FzS', None, quiet=True)"
      ],
      "metadata": {
        "colab": {
          "base_uri": "https://localhost:8080/",
          "height": 36
        },
        "id": "XTFmjRscm3pM",
        "outputId": "a7dd030e-d362-4ea9-cc0b-901c3201b435"
      },
      "execution_count": null,
      "outputs": [
        {
          "output_type": "execute_result",
          "data": {
            "text/plain": [
              "'test.zip'"
            ],
            "application/vnd.google.colaboratory.intrinsic+json": {
              "type": "string"
            }
          },
          "metadata": {},
          "execution_count": 53
        }
      ]
    },
    {
      "cell_type": "code",
      "source": [
        "#Нормализованные тестовые данные\n",
        "gdown.download('https://drive.google.com/uc?export=download&confirm=no_antivirus&id=1qfR3G1YL2VbF8YMJ3y11deKFr0xPaLWF', None, quiet=True)\n",
        "!unzip -q \"/content/test_normal.zip\" -d /content"
      ],
      "metadata": {
        "id": "sMl9FuBeGRFa"
      },
      "execution_count": null,
      "outputs": []
    },
    {
      "cell_type": "code",
      "execution_count": null,
      "metadata": {
        "colab": {
          "base_uri": "https://localhost:8080/",
          "height": 455
        },
        "outputId": "69cfaecb-1177-4853-b205-39990b94b67e",
        "id": "s1sTPq4lm9Dj"
      },
      "outputs": [
        {
          "output_type": "execute_result",
          "data": {
            "text/plain": [
              "                                                    text\n",
              "ID                                                      \n",
              "0       развод деньга наблюдаться лайфклиника беремен...\n",
              "1       отель выбрать рядом стадион отель номер больш...\n",
              "2       вылечить гноиться рождение глазик поликлиника...\n",
              "3       хороший расположение вокзал дойти пешком ночь...\n",
              "4       отличный месторасположение прекрасный вид осо...\n",
              "...                                                  ...\n",
              "21093   несколько год назад муж останавливаться отель...\n",
              "21094   спасти боль после роды появиться боль позвоно...\n",
              "21095   ролик понятно один девушка наблюдатель сперет...\n",
              "21096   остаться весь довольный дружелюбный персонал ...\n",
              "21097   спасибо огромный сыночек хотеть выразить огро...\n",
              "\n",
              "[21098 rows x 1 columns]"
            ],
            "text/html": [
              "\n",
              "  <div id=\"df-00dd80b3-1b31-4eef-9cbd-f992eb1a7973\" class=\"colab-df-container\">\n",
              "    <div>\n",
              "<style scoped>\n",
              "    .dataframe tbody tr th:only-of-type {\n",
              "        vertical-align: middle;\n",
              "    }\n",
              "\n",
              "    .dataframe tbody tr th {\n",
              "        vertical-align: top;\n",
              "    }\n",
              "\n",
              "    .dataframe thead th {\n",
              "        text-align: right;\n",
              "    }\n",
              "</style>\n",
              "<table border=\"1\" class=\"dataframe\">\n",
              "  <thead>\n",
              "    <tr style=\"text-align: right;\">\n",
              "      <th></th>\n",
              "      <th>text</th>\n",
              "    </tr>\n",
              "    <tr>\n",
              "      <th>ID</th>\n",
              "      <th></th>\n",
              "    </tr>\n",
              "  </thead>\n",
              "  <tbody>\n",
              "    <tr>\n",
              "      <th>0</th>\n",
              "      <td>развод деньга наблюдаться лайфклиника беремен...</td>\n",
              "    </tr>\n",
              "    <tr>\n",
              "      <th>1</th>\n",
              "      <td>отель выбрать рядом стадион отель номер больш...</td>\n",
              "    </tr>\n",
              "    <tr>\n",
              "      <th>2</th>\n",
              "      <td>вылечить гноиться рождение глазик поликлиника...</td>\n",
              "    </tr>\n",
              "    <tr>\n",
              "      <th>3</th>\n",
              "      <td>хороший расположение вокзал дойти пешком ночь...</td>\n",
              "    </tr>\n",
              "    <tr>\n",
              "      <th>4</th>\n",
              "      <td>отличный месторасположение прекрасный вид осо...</td>\n",
              "    </tr>\n",
              "    <tr>\n",
              "      <th>...</th>\n",
              "      <td>...</td>\n",
              "    </tr>\n",
              "    <tr>\n",
              "      <th>21093</th>\n",
              "      <td>несколько год назад муж останавливаться отель...</td>\n",
              "    </tr>\n",
              "    <tr>\n",
              "      <th>21094</th>\n",
              "      <td>спасти боль после роды появиться боль позвоно...</td>\n",
              "    </tr>\n",
              "    <tr>\n",
              "      <th>21095</th>\n",
              "      <td>ролик понятно один девушка наблюдатель сперет...</td>\n",
              "    </tr>\n",
              "    <tr>\n",
              "      <th>21096</th>\n",
              "      <td>остаться весь довольный дружелюбный персонал ...</td>\n",
              "    </tr>\n",
              "    <tr>\n",
              "      <th>21097</th>\n",
              "      <td>спасибо огромный сыночек хотеть выразить огро...</td>\n",
              "    </tr>\n",
              "  </tbody>\n",
              "</table>\n",
              "<p>21098 rows × 1 columns</p>\n",
              "</div>\n",
              "    <div class=\"colab-df-buttons\">\n",
              "\n",
              "  <div class=\"colab-df-container\">\n",
              "    <button class=\"colab-df-convert\" onclick=\"convertToInteractive('df-00dd80b3-1b31-4eef-9cbd-f992eb1a7973')\"\n",
              "            title=\"Convert this dataframe to an interactive table.\"\n",
              "            style=\"display:none;\">\n",
              "\n",
              "  <svg xmlns=\"http://www.w3.org/2000/svg\" height=\"24px\" viewBox=\"0 -960 960 960\">\n",
              "    <path d=\"M120-120v-720h720v720H120Zm60-500h600v-160H180v160Zm220 220h160v-160H400v160Zm0 220h160v-160H400v160ZM180-400h160v-160H180v160Zm440 0h160v-160H620v160ZM180-180h160v-160H180v160Zm440 0h160v-160H620v160Z\"/>\n",
              "  </svg>\n",
              "    </button>\n",
              "\n",
              "  <style>\n",
              "    .colab-df-container {\n",
              "      display:flex;\n",
              "      gap: 12px;\n",
              "    }\n",
              "\n",
              "    .colab-df-convert {\n",
              "      background-color: #E8F0FE;\n",
              "      border: none;\n",
              "      border-radius: 50%;\n",
              "      cursor: pointer;\n",
              "      display: none;\n",
              "      fill: #1967D2;\n",
              "      height: 32px;\n",
              "      padding: 0 0 0 0;\n",
              "      width: 32px;\n",
              "    }\n",
              "\n",
              "    .colab-df-convert:hover {\n",
              "      background-color: #E2EBFA;\n",
              "      box-shadow: 0px 1px 2px rgba(60, 64, 67, 0.3), 0px 1px 3px 1px rgba(60, 64, 67, 0.15);\n",
              "      fill: #174EA6;\n",
              "    }\n",
              "\n",
              "    .colab-df-buttons div {\n",
              "      margin-bottom: 4px;\n",
              "    }\n",
              "\n",
              "    [theme=dark] .colab-df-convert {\n",
              "      background-color: #3B4455;\n",
              "      fill: #D2E3FC;\n",
              "    }\n",
              "\n",
              "    [theme=dark] .colab-df-convert:hover {\n",
              "      background-color: #434B5C;\n",
              "      box-shadow: 0px 1px 3px 1px rgba(0, 0, 0, 0.15);\n",
              "      filter: drop-shadow(0px 1px 2px rgba(0, 0, 0, 0.3));\n",
              "      fill: #FFFFFF;\n",
              "    }\n",
              "  </style>\n",
              "\n",
              "    <script>\n",
              "      const buttonEl =\n",
              "        document.querySelector('#df-00dd80b3-1b31-4eef-9cbd-f992eb1a7973 button.colab-df-convert');\n",
              "      buttonEl.style.display =\n",
              "        google.colab.kernel.accessAllowed ? 'block' : 'none';\n",
              "\n",
              "      async function convertToInteractive(key) {\n",
              "        const element = document.querySelector('#df-00dd80b3-1b31-4eef-9cbd-f992eb1a7973');\n",
              "        const dataTable =\n",
              "          await google.colab.kernel.invokeFunction('convertToInteractive',\n",
              "                                                    [key], {});\n",
              "        if (!dataTable) return;\n",
              "\n",
              "        const docLinkHtml = 'Like what you see? Visit the ' +\n",
              "          '<a target=\"_blank\" href=https://colab.research.google.com/notebooks/data_table.ipynb>data table notebook</a>'\n",
              "          + ' to learn more about interactive tables.';\n",
              "        element.innerHTML = '';\n",
              "        dataTable['output_type'] = 'display_data';\n",
              "        await google.colab.output.renderOutput(dataTable, element);\n",
              "        const docLink = document.createElement('div');\n",
              "        docLink.innerHTML = docLinkHtml;\n",
              "        element.appendChild(docLink);\n",
              "      }\n",
              "    </script>\n",
              "  </div>\n",
              "\n",
              "\n",
              "<div id=\"df-ef3714aa-0c0a-4f0c-8066-e16cfc75c7e0\">\n",
              "  <button class=\"colab-df-quickchart\" onclick=\"quickchart('df-ef3714aa-0c0a-4f0c-8066-e16cfc75c7e0')\"\n",
              "            title=\"Suggest charts\"\n",
              "            style=\"display:none;\">\n",
              "\n",
              "<svg xmlns=\"http://www.w3.org/2000/svg\" height=\"24px\"viewBox=\"0 0 24 24\"\n",
              "     width=\"24px\">\n",
              "    <g>\n",
              "        <path d=\"M19 3H5c-1.1 0-2 .9-2 2v14c0 1.1.9 2 2 2h14c1.1 0 2-.9 2-2V5c0-1.1-.9-2-2-2zM9 17H7v-7h2v7zm4 0h-2V7h2v10zm4 0h-2v-4h2v4z\"/>\n",
              "    </g>\n",
              "</svg>\n",
              "  </button>\n",
              "\n",
              "<style>\n",
              "  .colab-df-quickchart {\n",
              "      --bg-color: #E8F0FE;\n",
              "      --fill-color: #1967D2;\n",
              "      --hover-bg-color: #E2EBFA;\n",
              "      --hover-fill-color: #174EA6;\n",
              "      --disabled-fill-color: #AAA;\n",
              "      --disabled-bg-color: #DDD;\n",
              "  }\n",
              "\n",
              "  [theme=dark] .colab-df-quickchart {\n",
              "      --bg-color: #3B4455;\n",
              "      --fill-color: #D2E3FC;\n",
              "      --hover-bg-color: #434B5C;\n",
              "      --hover-fill-color: #FFFFFF;\n",
              "      --disabled-bg-color: #3B4455;\n",
              "      --disabled-fill-color: #666;\n",
              "  }\n",
              "\n",
              "  .colab-df-quickchart {\n",
              "    background-color: var(--bg-color);\n",
              "    border: none;\n",
              "    border-radius: 50%;\n",
              "    cursor: pointer;\n",
              "    display: none;\n",
              "    fill: var(--fill-color);\n",
              "    height: 32px;\n",
              "    padding: 0;\n",
              "    width: 32px;\n",
              "  }\n",
              "\n",
              "  .colab-df-quickchart:hover {\n",
              "    background-color: var(--hover-bg-color);\n",
              "    box-shadow: 0 1px 2px rgba(60, 64, 67, 0.3), 0 1px 3px 1px rgba(60, 64, 67, 0.15);\n",
              "    fill: var(--button-hover-fill-color);\n",
              "  }\n",
              "\n",
              "  .colab-df-quickchart-complete:disabled,\n",
              "  .colab-df-quickchart-complete:disabled:hover {\n",
              "    background-color: var(--disabled-bg-color);\n",
              "    fill: var(--disabled-fill-color);\n",
              "    box-shadow: none;\n",
              "  }\n",
              "\n",
              "  .colab-df-spinner {\n",
              "    border: 2px solid var(--fill-color);\n",
              "    border-color: transparent;\n",
              "    border-bottom-color: var(--fill-color);\n",
              "    animation:\n",
              "      spin 1s steps(1) infinite;\n",
              "  }\n",
              "\n",
              "  @keyframes spin {\n",
              "    0% {\n",
              "      border-color: transparent;\n",
              "      border-bottom-color: var(--fill-color);\n",
              "      border-left-color: var(--fill-color);\n",
              "    }\n",
              "    20% {\n",
              "      border-color: transparent;\n",
              "      border-left-color: var(--fill-color);\n",
              "      border-top-color: var(--fill-color);\n",
              "    }\n",
              "    30% {\n",
              "      border-color: transparent;\n",
              "      border-left-color: var(--fill-color);\n",
              "      border-top-color: var(--fill-color);\n",
              "      border-right-color: var(--fill-color);\n",
              "    }\n",
              "    40% {\n",
              "      border-color: transparent;\n",
              "      border-right-color: var(--fill-color);\n",
              "      border-top-color: var(--fill-color);\n",
              "    }\n",
              "    60% {\n",
              "      border-color: transparent;\n",
              "      border-right-color: var(--fill-color);\n",
              "    }\n",
              "    80% {\n",
              "      border-color: transparent;\n",
              "      border-right-color: var(--fill-color);\n",
              "      border-bottom-color: var(--fill-color);\n",
              "    }\n",
              "    90% {\n",
              "      border-color: transparent;\n",
              "      border-bottom-color: var(--fill-color);\n",
              "    }\n",
              "  }\n",
              "</style>\n",
              "\n",
              "  <script>\n",
              "    async function quickchart(key) {\n",
              "      const quickchartButtonEl =\n",
              "        document.querySelector('#' + key + ' button');\n",
              "      quickchartButtonEl.disabled = true;  // To prevent multiple clicks.\n",
              "      quickchartButtonEl.classList.add('colab-df-spinner');\n",
              "      try {\n",
              "        const charts = await google.colab.kernel.invokeFunction(\n",
              "            'suggestCharts', [key], {});\n",
              "      } catch (error) {\n",
              "        console.error('Error during call to suggestCharts:', error);\n",
              "      }\n",
              "      quickchartButtonEl.classList.remove('colab-df-spinner');\n",
              "      quickchartButtonEl.classList.add('colab-df-quickchart-complete');\n",
              "    }\n",
              "    (() => {\n",
              "      let quickchartButtonEl =\n",
              "        document.querySelector('#df-ef3714aa-0c0a-4f0c-8066-e16cfc75c7e0 button');\n",
              "      quickchartButtonEl.style.display =\n",
              "        google.colab.kernel.accessAllowed ? 'block' : 'none';\n",
              "    })();\n",
              "  </script>\n",
              "</div>\n",
              "    </div>\n",
              "  </div>\n"
            ],
            "application/vnd.google.colaboratory.intrinsic+json": {
              "type": "dataframe",
              "variable_name": "df",
              "summary": "{\n  \"name\": \"df\",\n  \"rows\": 21098,\n  \"fields\": [\n    {\n      \"column\": \"ID\",\n      \"properties\": {\n        \"dtype\": \"number\",\n        \"std\": 6090,\n        \"min\": 0,\n        \"max\": 21097,\n        \"num_unique_values\": 21098,\n        \"samples\": [\n          17342,\n          1805,\n          4230\n        ],\n        \"semantic_type\": \"\",\n        \"description\": \"\"\n      }\n    },\n    {\n      \"column\": \"text\",\n      \"properties\": {\n        \"dtype\": \"string\",\n        \"num_unique_values\": 20944,\n        \"samples\": [\n          \" \\u043e\\u0441\\u0442\\u0430\\u043d\\u0430\\u0432\\u043b\\u0438\\u0432\\u0430\\u0442\\u044c\\u0441\\u044f \\u0440\\u0430\\u0437 \\u0445\\u043e\\u0440\\u043e\\u0448\\u0438\\u0439 \\u043e\\u0442\\u0435\\u043b\\u044c \\u0442\\u0438\\u0445\\u0438\\u0439 \\u043c\\u0435\\u0441\\u0442\\u043e \\u0440\\u044f\\u0434\\u043e\\u043c \\u0438\\u0441\\u0442\\u0438\\u043a\\u043b\\u044f\\u043b\\u044c \\u043c\\u0430\\u0433\\u0430\\u0437\\u0438\\u043d \\u043c\\u0443\\u0437\\u0435\\u0439 \\u0440\\u0435\\u0441\\u0442\\u043e\\u0440\\u0430\\u043d \\u043a\\u043b\\u0443\\u0431 \\u043c\\u043d\\u043e\\u0433\\u043e \\u0441\\u0432\\u043e\\u0431\\u043e\\u0434\\u043d\\u044b\\u0439 \\u0442\\u0430\\u043a\\u0441\\u0438 \\u0440\\u0435\\u0441\\u0442\\u043e\\u0440\\u0430\\u043d \\u0437\\u0430\\u0432\\u0442\\u0440\\u0430\\u043a \\u0440\\u044f\\u0434\\u043e\\u043c \\u0440\\u0435\\u0437\\u0438\\u0434\\u0435\\u043d\\u0446\\u0438\\u044f \\u0431\\u0440\\u0438\\u0442\\u0430\\u043d\\u0441\\u043a\\u0438\\u0439 \\u043a\\u043e\\u043d\\u0441\\u0443\\u043b\\u044c\\u0441\\u0442\\u0432\\u043e \\u043a\\u0440\\u0430\\u0441\\u0438\\u0432\\u044b\\u0439 \\u0441\\u0430\\u0434 \\u0432\\u0435\\u0437\\u0442\\u0438 \\u043e\\u043a\\u043d\\u043e \\u0432\\u044b\\u0445\\u043e\\u0434\\u0438\\u0442\\u044c \\u0441\\u0430\\u0434 \\u043f\\u043e\\u0441\\u043b\\u0435\\u0434\\u043d\\u0438\\u0439 \\u0433\\u043e\\u0434 \\u043f\\u043b\\u043e\\u0445\\u043e \\u0440\\u0430\\u0431\\u043e\\u0442\\u0430\\u0442\\u044c \\u043a\\u043e\\u043d\\u0434\\u0438\\u0446\\u0438\\u043e\\u043d\\u0438\\u0440\\u043e\\u0432\\u0430\\u043d\\u0438\\u0435 \\u043d\\u043e\\u043c\\u0435\\u0440 \\u0434\\u0443\\u0448\\u043d\\u043e\\u0432\\u0430\\u0442\\u043e \\u043e\\u0442\\u0435\\u043b\\u044c \\u043f\\u043e\\u0442\\u0440\\u0435\\u043f\\u0430\\u0442\\u044c\\u0441\\u044f \\u0440\\u0435\\u0441\\u0435\\u043f\\u0448\\u0438\\u043d\\u0430 \\u0432\\u044f\\u043b\\u043e \\u0440\\u0430\\u0431\\u043e\\u0442\\u0430\\u0442\\u044c\",\n          \" \\u043e\\u0442\\u0435\\u043b\\u044c \\u043d\\u0430\\u0445\\u043e\\u0434\\u0438\\u0442\\u044c\\u0441\\u044f \\u043e\\u0434\\u0438\\u043d \\u0446\\u0435\\u043d\\u0442\\u0440\\u0430\\u043b\\u044c\\u043d\\u044b\\u0439 \\u0443\\u043b\\u0438\\u0446\\u0430 \\u0433\\u043e\\u0440\\u043e\\u0434 \\u0437\\u0430\\u043d\\u0438\\u043c\\u0430\\u0442\\u044c \\u044d\\u0442\\u0430\\u0436 \\u043e\\u0434\\u0438\\u043d \\u0437\\u0434\\u0430\\u043d\\u0438\\u0435 \\u0447\\u0442\\u043e\\u0431\\u044b \\u043f\\u043e\\u043f\\u0430\\u0441\\u0442\\u044c \\u043e\\u0442\\u0435\\u043b\\u044c \\u043d\\u0430\\u0436\\u0430\\u0442\\u044c \\u043a\\u043d\\u043e\\u043f\\u043a\\u0430 \\u0432\\u0445\\u043e\\u0434 \\u043e\\u0442\\u0432\\u0435\\u0442\\u0438\\u0442\\u044c \\u043f\\u043e\\u0440\\u0442\\u044c\\u0435 \\u0443\\u043b\\u0438\\u0446\\u0430 \\u043d\\u0430\\u043f\\u0440\\u043e\\u0442\\u0438\\u0432 \\u043e\\u0442\\u0435\\u043b\\u044c \\u043f\\u0430\\u0440\\u043a\\u043e\\u0432\\u043a\\u0430 \\u043f\\u043b\\u0430\\u0442\\u043d\\u043e \\u043d\\u043e\\u0447\\u044c\\u044e \\u0432\\u044b\\u0445\\u043e\\u0434\\u043d\\u043e\\u0439 \\u0431\\u0435\\u0441\\u043f\\u043b\\u0430\\u0442\\u043d\\u043e \\u0434\\u043e\\u0435\\u0445\\u0430\\u0442\\u044c \\u0430\\u0432\\u0442\\u043e\\u043c\\u043e\\u0431\\u0438\\u043b\\u044c \\u0431\\u0440\\u0430\\u043d\\u0434\\u0435\\u043d\\u0431\\u0443\\u0440\\u0433\\u0441\\u043a\\u0438\\u0439 \\u0432\\u043e\\u0440\\u043e\\u0442\\u0430 \\u0437\\u0430\\u043d\\u0438\\u043c\\u0430\\u0442\\u044c \\u043c\\u0438\\u043d\\u0430 \\u043e\\u0431\\u0441\\u0442\\u0430\\u043d\\u043e\\u0432\\u043a\\u0430 \\u043e\\u0442\\u0435\\u043b\\u044c \\u043d\\u0435\\u043c\\u043d\\u043e\\u0433\\u043e \\u043f\\u043e\\u0442\\u0440\\u0435\\u043f\\u0430\\u0442\\u044c \\u043e\\u0447\\u0435\\u043d\\u044c \\u0447\\u0438\\u0441\\u0442\\u043e \\u0443\\u044e\\u0442\\u043d\\u044b\\u0439 \\u043f\\u0440\\u043e\\u0441\\u0442\\u043e\\u0440\\u043d\\u044b\\u0439 \\u043b\\u043e\\u0431\\u0431\\u0438 \\u043e\\u0431\\u0441\\u0442\\u0430\\u0432\\u0438\\u0442\\u044c \\u043c\\u0435\\u0431\\u0435\\u043b\\u044c \\u0441\\u0442\\u0438\\u043b\\u044c \\u0430\\u043c\\u043f\\u0438\\u0440 \\u043e\\u0442\\u0435\\u043b\\u044c \\u0440\\u0430\\u0431\\u043e\\u0442\\u0430\\u0442\\u044c \\u0440\\u0443\\u0441\\u0441\\u043a\\u043e\\u0433\\u043e\\u0432\\u043e\\u0440\\u044f\\u0449\\u0438\\u0439 \\u0436\\u0435\\u043d\\u0449\\u0438\\u043d\\u0430 \\u0440\\u0435\\u0446\\u0435\\u043f\\u0441\\u0438\\u044f \\u043f\\u043e\\u044d\\u0442\\u043e\\u043c\\u0443 \\u043b\\u0435\\u0433\\u043a\\u043e \\u0432\\u044b\\u044f\\u0441\\u043d\\u0438\\u0442\\u044c \\u0432\\u043e\\u043f\\u0440\\u043e\\u0441 \\u043f\\u043e\\u043b\\u0443\\u0447\\u0438\\u0442\\u044c \\u043a\\u0430\\u0440\\u0442\\u0430 \\u0431\\u0435\\u0440\\u043b\\u0438\\u043d \\u043a\\u043e\\u043c\\u043d\\u0430\\u0442\\u0430 \\u043f\\u0440\\u043e\\u0441\\u0442\\u043e\\u0440\\u043d\\u044b\\u0439 \\u0432\\u044b\\u0441\\u043e\\u043a\\u0438\\u0439 \\u043e\\u043a\\u043d\\u043e \\u043f\\u043e\\u0442\\u043e\\u043b\\u043e\\u043a \\u043d\\u0435\\u043c\\u043d\\u043e\\u0433\\u043e \\u043d\\u0435\\u0443\\u044e\\u0442\\u043d\\u044b\\u0439 \\u043e\\u043a\\u043d\\u043e \\u0432\\u044b\\u0445\\u043e\\u0434\\u0438\\u0442\\u044c \\u0434\\u0432\\u043e\\u0440 \\u043f\\u043e\\u044d\\u0442\\u043e\\u043c\\u0443 \\u043a\\u043e\\u043c\\u043d\\u0430\\u0442\\u0430 \\u0442\\u0438\\u0445\\u043e \\u043e\\u0431\\u043e\\u0440\\u0443\\u0434\\u043e\\u0432\\u0430\\u043d\\u0438\\u0435 \\u0441\\u0442\\u0430\\u043d\\u0434\\u0430\\u0440\\u0442\\u043d\\u044b\\u0439 \\u043a\\u0440\\u043e\\u0432\\u0430\\u0442\\u044c \\u043f\\u043e\\u0441\\u0442\\u0435\\u043b\\u044c\\u043d\\u044b\\u0439 \\u0431\\u0435\\u043b\\u044c\\u0451 \\u0445\\u043e\\u0440\\u043e\\u0448\\u0438\\u0439 \\u0432\\u0430\\u043d\\u043d\\u0430\\u044f \\u043a\\u043e\\u043c\\u043d\\u0430\\u0442\\u0430 \\u0438\\u043c\\u0435\\u0442\\u044c \\u0445\\u043e\\u0440\\u043e\\u0448\\u0438\\u0439 \\u0441\\u0430\\u043d\\u0442\\u0435\\u0445\\u043d\\u0438\\u043a \\u0442\\u0443\\u0430\\u043b\\u0435\\u0442\\u043d\\u044b\\u0439 \\u043f\\u0440\\u0438\\u043d\\u0430\\u0434\\u043b\\u0435\\u0436\\u043d\\u043e\\u0441\\u0442\\u044c \\u043a\\u043e\\u043c\\u043d\\u0430\\u0442\\u0430 \\u0440\\u0430\\u0431\\u043e\\u0442\\u0430\\u0442\\u044c \\u043f\\u043e\\u044d\\u0442\\u043e\\u043c\\u0443 \\u043f\\u0440\\u0438\\u0445\\u043e\\u0434\\u0438\\u0442\\u044c\\u0441\\u044f \\u0445\\u043e\\u0434\\u0438\\u0442\\u044c \\u043b\\u043e\\u0431\\u0431\\u0438 \\u0437\\u0430\\u0432\\u0442\\u0440\\u0430\\u043a \\u0440\\u0435\\u0441\\u0442\\u043e\\u0440\\u0430\\u043d \\u043e\\u0442\\u0435\\u043b\\u044c \\u043e\\u0447\\u0435\\u043d\\u044c \\u0445\\u043e\\u0440\\u043e\\u0448\\u0438\\u0439 \\u0431\\u043e\\u043b\\u044c\\u0448\\u043e\\u0439 \\u0432\\u044b\\u0431\\u043e\\u0440 \\u0431\\u043b\\u044e\\u0434\\u043e \\u043d\\u0430\\u043f\\u0438\\u0442\\u043e\\u043a \\u0432\\u0441\\u0451 \\u043e\\u0447\\u0435\\u043d\\u044c \\u0432\\u043a\\u0443\\u0441\\u043d\\u043e \\u0431\\u0440\\u0430\\u0442\\u044c \\u043d\\u043e\\u043c\\u0435\\u0440 \\u0441\\u043f\\u0435\\u0446\\u043f\\u0440\\u0435\\u0434\\u043b\\u043e\\u0436\\u0435\\u043d\\u0438\\u0435 \\u0446\\u0435\\u043d\\u0430 \\u043a\\u0430\\u0447\\u0435\\u0441\\u0442\\u0432\\u043e \\u0443\\u0434\\u043e\\u0432\\u043b\\u0435\\u0442\\u0432\\u043e\\u0440\\u0438\\u0442\\u044c \\u043e\\u0447\\u0435\\u043d\\u044c \\u0440\\u0435\\u043a\\u043e\\u043c\\u0435\\u043d\\u0434\\u043e\\u0432\\u0430\\u0442\\u044c\",\n          \" \\u043f\\u0440\\u0435\\u0434\\u043b\\u0430\\u0433\\u0430\\u0442\\u044c\\u0441\\u044f \\u0443\\u0441\\u0442\\u0430\\u043d\\u043e\\u0432\\u0438\\u0442\\u044c \\u0444\\u0438\\u043a\\u0441\\u0438\\u0440\\u043e\\u0432\\u0430\\u043d\\u044b\\u0439 \\u0432\\u0437\\u043d\\u043e\\u0441 \\u043a\\u043e\\u0442\\u043e\\u0440\\u044b\\u0439 \\u043e\\u043f\\u0440\\u0435\\u0434\\u0435\\u043b\\u044f\\u0442\\u044c\\u0441\\u044f \\u043f\\u0440\\u043e\\u0438\\u0437\\u0432\\u0435\\u0434\\u0435\\u043d\\u0438\\u0435 \\u043c\\u0440\\u043e\\u0442 \\u0442\\u0430\\u0440\\u0438\\u0444 \\u0441\\u0442\\u0440\\u0430\\u0445\\u043e\\u0432\\u043e\\u0439 \\u0432\\u0437\\u043d\\u043e\\u0441 \\u043f\\u0435\\u043d\\u0441\\u0438\\u043e\\u043d\\u043d\\u044b\\u0439 \\u0444\\u043e\\u043d\\u0434 \\u0443\\u0432\\u0435\\u043b\\u0438\\u0447\\u0438\\u0442\\u044c \\u0441\\u043b\\u0443\\u0447\\u0430\\u0439 \\u0433\\u043e\\u0434\\u043e\\u0432\\u043e\\u0439 \\u0434\\u043e\\u0445\\u043e\\u0434 \\u043f\\u0440\\u0435\\u0432\\u044b\\u0448\\u0430\\u0442\\u044c \\u0442\\u044b\\u0441 \\u0440\\u0443\\u0431 \\u0432\\u043d\\u043e\\u0441 \\u0438\\u0441\\u0447\\u0438\\u0441\\u043b\\u044f\\u0442\\u044c\\u0441\\u044f \\u0444\\u043e\\u0440\\u043c\\u0443\\u043b\\u0430 \\u043f\\u043b\\u044e\\u0441 \\u0441\\u0443\\u043c\\u043c\\u0430 \\u043f\\u0440\\u0435\\u0432\\u044b\\u0448\\u0435\\u043d\\u0438\\u0435 \\u0434\\u0430\\u0442\\u044c \\u043f\\u043e\\u0440\\u043e\\u0433\\u043e\\u0432\\u044b\\u0439 \\u0432\\u0435\\u043b\\u0438\\u0447\\u0438\\u043d\\u0430 \\u043d\\u043e\\u0432\\u043e\\u0441\\u0442\\u044c \\u043f\\u0443\\u0442\\u0430\\u043d\\u043e \\u0442\\u043e\\u0442\\u044c \\u0435\\u0436\\u0435\\u043c\\u0435\\u0441\\u044f\\u0447\\u043d\\u043e \\u043c\\u0440\\u043e\\u0442 \\u0440\\u0443\\u0431 \\u043a\\u0440\\u0430\\u0441\\u043d\\u043e\\u0434\\u0430\\u0440\\u0441\\u043a\\u0438\\u0439 \\u043a\\u0440\\u0430\\u0439 \\u0440\\u0435\\u0433\\u0438\\u043e\\u043d\\u0430\\u043b\\u044c\\u043d\\u044b\\u0439 \\u0441\\u043e\\u0433\\u043b\\u0430\\u0448\\u0435\\u043d\\u0438\\u0435 \\u043c\\u0438\\u043d\\u0438\\u043c\\u0430\\u043b\\u044c\\u043d\\u044b\\u0439 \\u0437\\u0430\\u0440\\u0430\\u0431\\u043e\\u0442\\u043d\\u044b\\u0439 \\u043f\\u043b\\u0430\\u0442\\u0430 \\u043a\\u0440\\u0430\\u0441\\u043d\\u043e\\u0434\\u0430\\u0440\\u0441\\u043a\\u0438\\u0439 \\u043a\\u0440\\u0430\\u0439\"\n        ],\n        \"semantic_type\": \"\",\n        \"description\": \"\"\n      }\n    }\n  ]\n}"
            }
          },
          "metadata": {},
          "execution_count": 34
        }
      ],
      "source": [
        "df = pd.read_csv('test_normal.csv', sep=',', header=0, index_col=0) # Загружаем базу\n",
        "df"
      ]
    },
    {
      "cell_type": "code",
      "source": [
        "#df=df.fillna('пропуск') #Заполняем пропуски\n",
        "df=df.astype(str)"
      ],
      "metadata": {
        "id": "t6tNW-htLU9Z"
      },
      "execution_count": null,
      "outputs": []
    },
    {
      "cell_type": "code",
      "source": [
        "test_seq = token.texts_to_sequences(df.text) #Токинизация"
      ],
      "metadata": {
        "id": "EzsxFd2cngeQ"
      },
      "execution_count": null,
      "outputs": []
    },
    {
      "cell_type": "code",
      "source": [
        "x_test = pad_sequences(test_seq, maxlen=sent_len, padding='post', truncating='post') #все предложения длиной <200 дополняем нулями в конце, >200 - обрезаем\n",
        "#x_test = np.where((x_test<50)&(x_test>1), 2, x_test)\n",
        "print(x_test[0])\n",
        "print(x_test[0].shape)\n",
        "x_test.shape"
      ],
      "metadata": {
        "colab": {
          "base_uri": "https://localhost:8080/"
        },
        "outputId": "1982dd6a-5ba9-4534-b26d-53737b574a7d",
        "id": "5q22KkmJngeS"
      },
      "execution_count": null,
      "outputs": [
        {
          "output_type": "stream",
          "name": "stdout",
          "text": [
            "[2112   48  765    1  474 2112   48    7  139  510  517 1219 3658  611\n",
            "    0    0    0    0    0    0    0    0    0    0    0    0    0    0\n",
            "    0    0    0    0    0    0    0    0    0    0    0    0    0    0\n",
            "    0    0    0    0    0    0    0    0    0    0    0    0    0    0\n",
            "    0    0    0    0    0    0    0    0    0    0    0    0    0    0\n",
            "    0    0    0    0    0    0    0    0    0    0    0    0    0    0\n",
            "    0    0    0    0    0    0    0    0    0    0    0    0    0    0\n",
            "    0    0    0    0    0    0    0    0    0    0    0    0    0    0\n",
            "    0    0    0    0    0    0    0    0    0    0    0    0    0    0\n",
            "    0    0    0    0    0    0    0    0    0    0    0    0    0    0\n",
            "    0    0    0    0    0    0    0    0    0    0    0    0    0    0\n",
            "    0    0    0    0    0    0    0    0    0    0    0    0    0    0\n",
            "    0    0    0    0    0    0    0    0    0    0    0    0]\n",
            "(180,)\n"
          ]
        },
        {
          "output_type": "execute_result",
          "data": {
            "text/plain": [
              "(21098, 180)"
            ]
          },
          "metadata": {},
          "execution_count": 37
        }
      ]
    },
    {
      "cell_type": "code",
      "source": [
        "currPred=model_1.predict(x_test) #Предикт"
      ],
      "metadata": {
        "colab": {
          "base_uri": "https://localhost:8080/"
        },
        "id": "j_cDobGan3uc",
        "outputId": "6046d202-ccb8-4e3f-c98a-85e113c33dbf"
      },
      "execution_count": null,
      "outputs": [
        {
          "output_type": "stream",
          "name": "stdout",
          "text": [
            "660/660 [==============================] - 6s 8ms/step\n"
          ]
        }
      ]
    },
    {
      "cell_type": "code",
      "source": [
        "print(df.text[3])\n",
        "print(np.argmax(currPred[3]))"
      ],
      "metadata": {
        "colab": {
          "base_uri": "https://localhost:8080/"
        },
        "id": "IjNoP00aonjD",
        "outputId": "646d9c7b-bad5-4df8-fdba-9c6fcd6015b3"
      },
      "execution_count": null,
      "outputs": [
        {
          "output_type": "stream",
          "name": "stdout",
          "text": [
            " хороший расположение вокзал дойти пешком ночью очень тихо хотя центр рядом наш номер башня размер комната минимальный практически кровать такой ванная верный душа более скромно особо чисто зато дивный вид окно хороший бельё завтрак звезда очень скромный бесплатный тормозить соотношение цена качество польза отель цена раз ниже адекватный\n",
            "0\n"
          ]
        }
      ]
    },
    {
      "cell_type": "code",
      "source": [
        "#Для просмотра количества классов\n",
        "n=0 #Класс\n",
        "for i, cp in enumerate(currPred):\n",
        "  if np.argmax(cp)==0:\n",
        "    n+=1\n",
        "n"
      ],
      "metadata": {
        "colab": {
          "base_uri": "https://localhost:8080/"
        },
        "id": "wby2UGjup3i0",
        "outputId": "b33715ba-c47f-4d25-e19b-b05bfea20b56"
      },
      "execution_count": null,
      "outputs": [
        {
          "output_type": "execute_result",
          "data": {
            "text/plain": [
              "5366"
            ]
          },
          "metadata": {},
          "execution_count": 53
        }
      ]
    },
    {
      "cell_type": "code",
      "source": [
        "rez = [ np.argmax(el) for i,el in enumerate(currPred)]"
      ],
      "metadata": {
        "id": "vE9o3PYI71aS"
      },
      "execution_count": null,
      "outputs": []
    },
    {
      "cell_type": "code",
      "source": [
        "df_rez = pd.DataFrame(rez, columns = ['sentiment'])"
      ],
      "metadata": {
        "id": "SCjzwWEc7qZs"
      },
      "execution_count": null,
      "outputs": []
    },
    {
      "cell_type": "code",
      "source": [
        "df_rez.to_csv ('1result_best.csv', index= True)"
      ],
      "metadata": {
        "id": "WYL2THyD9a1D"
      },
      "execution_count": null,
      "outputs": []
    }
  ]
}