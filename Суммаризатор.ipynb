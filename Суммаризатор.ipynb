{
  "nbformat": 4,
  "nbformat_minor": 0,
  "metadata": {
    "colab": {
      "provenance": []
    },
    "kernelspec": {
      "name": "python3",
      "display_name": "Python 3"
    },
    "language_info": {
      "name": "python"
    }
  },
  "cells": [
    {
      "cell_type": "code",
      "source": [
        "!pip install summa #Устанавливаем библиотеку"
      ],
      "metadata": {
        "id": "xIZZWWgtRsYB"
      },
      "execution_count": null,
      "outputs": []
    },
    {
      "cell_type": "code",
      "source": [
        "from summa import summarizer #Импортируем суммаризатор"
      ],
      "metadata": {
        "id": "m9UWQEvdRatp"
      },
      "execution_count": null,
      "outputs": []
    },
    {
      "cell_type": "code",
      "source": [
        "#Текст для проверки\n",
        "chat='''Михаил, [30.03.2024, 20:50]\n",
        "Саш, привет. Как сегодня день прошёл?\n",
        "\n",
        "Александр Крюков, [30.03.2024, 20:50]\n",
        "Ну, нормально , в театр сходил, и домой поехали\n",
        "\n",
        "Михаил, [30.03.2024, 20:51]\n",
        "как тебе погода?\n",
        "\n",
        "Александр Крюков, [30.03.2024, 20:51]\n",
        "Едем, дождь моросит\n",
        "\n",
        "Михаил, [30.03.2024, 20:51]\n",
        "Плохо\n",
        "\n",
        "Михаил, [30.03.2024, 20:52]\n",
        "погуляем завтра?\n",
        "\n",
        "Александр Крюков, [30.03.2024, 20:52]\n",
        "Нам наверно завтра нужно нашу компетенцию обсудить\n",
        "\n",
        "Михаил, [30.03.2024, 20:52]\n",
        "возможно, но отдыхать тоже надо\n",
        "\n",
        "Александр Крюков, [30.03.2024, 20:53]\n",
        "Нужно, но у меня есть плохая новость\n",
        "\n",
        "\n",
        "Александр Крюков, [30.03.2024, 20:53]\n",
        "Я заболеваю потихоньку\n",
        "\n",
        "Михаил, [30.03.2024, 20:54]\n",
        "блин, это реально плохо\n",
        "\n",
        "Александр Крюков, [30.03.2024, 20:54]\n",
        "Согласен, так что похоже наша прогулка отменяется\n",
        "'''"
      ],
      "metadata": {
        "id": "UP7et0qBTUZ5"
      },
      "execution_count": null,
      "outputs": []
    },
    {
      "cell_type": "code",
      "source": [
        "#Гиперпараметры для суммаризации:\n",
        "ratio = 0.2 #Процент суммаризированного текста\n",
        "language='russian' #Выбор языка\n",
        "print(summarizer.summarize(chat, ratio=ratio, language=language))"
      ],
      "metadata": {
        "id": "YAuyaxjiR5HA"
      },
      "execution_count": null,
      "outputs": []
    },
    {
      "cell_type": "code",
      "source": [
        "words = 30 #Длина суммаризировации по приблизительному количеству слов\n",
        "print(summarizer.summarize(chat, words=words, language=language))"
      ],
      "metadata": {
        "id": "PFom1gltU8oY"
      },
      "execution_count": null,
      "outputs": []
    },
    {
      "cell_type": "code",
      "source": [
        "#В случае если результат нужно вернуть списком\n",
        "print(summarizer.summarize(chat, words=words, language=language, split=True))"
      ],
      "metadata": {
        "id": "oPJF1BOIXkVA"
      },
      "execution_count": null,
      "outputs": []
    }
  ]
}