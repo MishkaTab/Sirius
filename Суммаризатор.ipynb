{
  "nbformat": 4,
  "nbformat_minor": 0,
  "metadata": {
    "colab": {
      "provenance": []
    },
    "kernelspec": {
      "name": "python3",
      "display_name": "Python 3"
    },
    "language_info": {
      "name": "python"
    }
  },
  "cells": [
    {
      "cell_type": "code",
      "source": [
        "!pip install summa #Устанавливаем библиотеку"
      ],
      "metadata": {
        "colab": {
          "base_uri": "https://localhost:8080/"
        },
        "id": "xIZZWWgtRsYB",
        "outputId": "6fb30708-81a3-44f6-cc3e-e3b8a545345d"
      },
      "execution_count": null,
      "outputs": [
        {
          "output_type": "stream",
          "name": "stdout",
          "text": [
            "Collecting summa\n",
            "  Downloading summa-1.2.0.tar.gz (54 kB)\n",
            "\u001b[?25l     \u001b[90m━━━━━━━━━━━━━━━━━━━━━━━━━━━━━━━━━━━━━━━━\u001b[0m \u001b[32m0.0/54.9 kB\u001b[0m \u001b[31m?\u001b[0m eta \u001b[36m-:--:--\u001b[0m\r\u001b[2K     \u001b[90m━━━━━━━━━━━━━━━━━━━━━━━━━━━━━━━━━━━━━━━━\u001b[0m \u001b[32m54.9/54.9 kB\u001b[0m \u001b[31m1.8 MB/s\u001b[0m eta \u001b[36m0:00:00\u001b[0m\n",
            "\u001b[?25h  Preparing metadata (setup.py) ... \u001b[?25l\u001b[?25hdone\n",
            "Requirement already satisfied: scipy>=0.19 in /usr/local/lib/python3.10/dist-packages (from summa) (1.11.4)\n",
            "Requirement already satisfied: numpy<1.28.0,>=1.21.6 in /usr/local/lib/python3.10/dist-packages (from scipy>=0.19->summa) (1.25.2)\n",
            "Building wheels for collected packages: summa\n",
            "  Building wheel for summa (setup.py) ... \u001b[?25l\u001b[?25hdone\n",
            "  Created wheel for summa: filename=summa-1.2.0-py3-none-any.whl size=54386 sha256=7599953bca6dae0dbafeaec2989adc32d1a0820b6a3c580b0d70a04a3b29fae4\n",
            "  Stored in directory: /root/.cache/pip/wheels/4a/ca/c5/4958614cfba88ed6ceb7cb5a849f9f89f9ac49971616bc919f\n",
            "Successfully built summa\n",
            "Installing collected packages: summa\n",
            "Successfully installed summa-1.2.0\n"
          ]
        }
      ]
    },
    {
      "cell_type": "code",
      "source": [
        "from summa import summarizer #Импортируем суммаризатор"
      ],
      "metadata": {
        "id": "m9UWQEvdRatp"
      },
      "execution_count": null,
      "outputs": []
    },
    {
      "cell_type": "code",
      "source": [
        "#Текст для проверки (Лучше поменять)\n",
        "chat='''Михаил, [30.03.2024, 20:50]\n",
        "Саш, привет. Как сегодня день прошёл?\n",
        "\n",
        "Александр Крюков, [30.03.2024, 20:50]\n",
        "Ну, нормально , в театр сходил, и домой поехали\n",
        "\n",
        "Михаил, [30.03.2024, 20:51]\n",
        "как тебе погода?\n",
        "\n",
        "Александр Крюков, [30.03.2024, 20:51]\n",
        "Едем, дождь моросит\n",
        "\n",
        "Михаил, [30.03.2024, 20:51]\n",
        "Плохо\n",
        "\n",
        "Михаил, [30.03.2024, 20:52]\n",
        "погуляем завтра?\n",
        "\n",
        "Александр Крюков, [30.03.2024, 20:52]\n",
        "Нам наверно завтра нужно нашу компетенцию обсудить\n",
        "\n",
        "Михаил, [30.03.2024, 20:52]\n",
        "возможно, но отдыхать тоже надо\n",
        "\n",
        "Александр Крюков, [30.03.2024, 20:53]\n",
        "Нужно, но у меня есть плохая новость\n",
        "\n",
        "\n",
        "Александр Крюков, [30.03.2024, 20:53]\n",
        "Я заболеваю потихоньку\n",
        "\n",
        "Михаил, [30.03.2024, 20:54]\n",
        "блин, это реально плохо\n",
        "\n",
        "Александр Крюков, [30.03.2024, 20:54]\n",
        "Согласен, так что похоже наша прогулка отменяется\n",
        "'''"
      ],
      "metadata": {
        "id": "UP7et0qBTUZ5"
      },
      "execution_count": null,
      "outputs": []
    },
    {
      "cell_type": "code",
      "source": [
        "#Гиперпараметры для суммаризации:\n",
        "ratio = 0.2 #Процент суммаризированного текста\n",
        "language='russian' #Выбор языка\n",
        "print(summarizer.summarize(chat, ratio=ratio, language=language))"
      ],
      "metadata": {
        "colab": {
          "base_uri": "https://localhost:8080/"
        },
        "id": "YAuyaxjiR5HA",
        "outputId": "f15dff8a-e763-4b59-9d92-59d4e94d83ef"
      },
      "execution_count": null,
      "outputs": [
        {
          "output_type": "stream",
          "name": "stdout",
          "text": [
            "я думаю вам нужно на проекте сосредоточиться\n",
            "или лучше не надо?\n",
            "Только не надо жёстко плагиатить\n",
            "это ужас, у меня ошибка больше 6000 выходит\n",
            "что нам делать?\n",
            "нужно написать или найти модель которая хорошо работает с неравномерно распределенными классами\n",
            "не надо сдадите эту\n",
            "Можно заполнить одним ответом всю таблицу, и я подозреваю что процентов 10 будет совпадений)\n",
            "как проще всего эту колонку заполнить 'science'?\n",
            "я чёт с csv не особо дружу, а 3729991 строку вручную - так себе занятие)\n",
            "блин, они не могут догадаться, что это перебор?\n",
            "такую модель в принципе нереально написать, тем более с нашими ресурсами\n",
            "Андрей Сергеевич, можете, пожалуйста, ссылку кинуть на два колаба с моделями?\n",
            "Я залью на гитхаб и будем сдавать\n",
            "в процессе, мне нужно сначала на гитхаб залить\n",
            "Что это даст?\n",
            "Самое главное это 4 критерий\n",
            "Отсюда вопрос, что с прототипом?\n",
            "мы не успели\n",
            "А что успели?\n",
            "у меня были какие-то куски кода трансформера по суммаризации...\n",
            "Это и будет ваш прототип\n",
            "сомневаюсь, что у меня получится)\n",
            "Только нужно описать всё это и объяснить потом, что с этим вы будете делать дальше\n",
            "Это ты в субботу говоришь мне!\n"
          ]
        }
      ]
    },
    {
      "cell_type": "code",
      "source": [
        "words = 30 #Длина суммаризировации по приблизительному количеству слов\n",
        "print(summarizer.summarize(chat, words=words, language=language))"
      ],
      "metadata": {
        "colab": {
          "base_uri": "https://localhost:8080/"
        },
        "id": "PFom1gltU8oY",
        "outputId": "32b1a63c-e8ee-40f0-a1d2-f7774aab5f86"
      },
      "execution_count": null,
      "outputs": [
        {
          "output_type": "stream",
          "name": "stdout",
          "text": [
            "не надо сдадите эту\n",
            "блин, они не могут догадаться, что это перебор?\n",
            "Что это даст?\n",
            "Только нужно описать всё это и объяснить потом, что с этим вы будете делать дальше\n"
          ]
        }
      ]
    },
    {
      "cell_type": "code",
      "source": [
        "#В случае если результат нужно вернуть списком\n",
        "print(summarizer.summarize(chat, words=words, language=language, split=True))"
      ],
      "metadata": {
        "colab": {
          "base_uri": "https://localhost:8080/"
        },
        "id": "oPJF1BOIXkVA",
        "outputId": "0ca080d9-50d5-4252-84c0-aa770ff1503f"
      },
      "execution_count": null,
      "outputs": [
        {
          "output_type": "stream",
          "name": "stdout",
          "text": [
            "['не надо сдадите эту', 'блин, они не могут догадаться, что это перебор?', 'Что это даст?', 'Только нужно описать всё это и объяснить потом, что с этим вы будете делать дальше']\n"
          ]
        }
      ]
    }
  ]
}