{
  "nbformat": 4,
  "nbformat_minor": 0,
  "metadata": {
    "colab": {
      "provenance": [],
      "gpuType": "T4"
    },
    "kernelspec": {
      "name": "python3",
      "display_name": "Python 3"
    },
    "language_info": {
      "name": "python"
    },
    "accelerator": "GPU"
  },
  "cells": [
    {
      "cell_type": "code",
      "execution_count": 1,
      "metadata": {
        "id": "hqXjAQOR4L7f"
      },
      "outputs": [],
      "source": [
        "import numpy as np\n",
        "import pandas as pd\n",
        "import gdown\n",
        "import re\n",
        "import matplotlib.pyplot as plt"
      ]
    },
    {
      "cell_type": "code",
      "source": [
        "# Подключение колбэков для оптимизации обучения и сохранения результатов\n",
        "from keras.callbacks import EarlyStopping, ReduceLROnPlateau, ModelCheckpoint\n",
        "# Разделение данных на выборки\n",
        "from sklearn.model_selection import train_test_split\n",
        "from keras import metrics as metr\n",
        "from keras import utils\n",
        "from keras.preprocessing.text import Tokenizer, text_to_word_sequence\n",
        "from keras.preprocessing.sequence import pad_sequences\n",
        "from keras.utils import to_categorical, plot_model\n",
        "from keras.models import Model, Sequential\n",
        "from keras.optimizers import Adam, RMSprop\n",
        "from keras.layers import GlobalMaxPooling1D, Dropout, MaxPooling1D, BatchNormalization, SpatialDropout1D, Conv1D, Flatten, Dense, SimpleRNN, Concatenate, Input, concatenate, LSTM, Embedding, GRU, Bidirectional"
      ],
      "metadata": {
        "id": "nG5B9Ty24cf8"
      },
      "execution_count": 2,
      "outputs": []
    },
    {
      "cell_type": "code",
      "source": [
        "gdown.download('https://drive.google.com/uc?export=download&confirm=no_antivirus&id=1XuNrXWd4zvyCO_mjvelEStGENdBQJUI7', None, quiet=True)"
      ],
      "metadata": {
        "colab": {
          "base_uri": "https://localhost:8080/",
          "height": 35
        },
        "id": "TZSLQLWaC_9q",
        "outputId": "159432b8-0494-46ed-9ef5-f6b355da6a99"
      },
      "execution_count": 3,
      "outputs": [
        {
          "output_type": "execute_result",
          "data": {
            "text/plain": [
              "'train_2.zip'"
            ],
            "application/vnd.google.colaboratory.intrinsic+json": {
              "type": "string"
            }
          },
          "metadata": {},
          "execution_count": 3
        }
      ]
    },
    {
      "cell_type": "code",
      "source": [
        "!unzip -q \"/content/train_2.zip\" -d /content"
      ],
      "metadata": {
        "id": "ZhXVd9U1DOT7"
      },
      "execution_count": 4,
      "outputs": []
    },
    {
      "cell_type": "code",
      "source": [
        "data = pd.read_csv('train_2.csv', sep=',', header=0, index_col=None) # Загружаем базу\n",
        "data.head(10)"
      ],
      "metadata": {
        "colab": {
          "base_uri": "https://localhost:8080/",
          "height": 363
        },
        "id": "_IOdvbes4-UM",
        "outputId": "dca4be0c-2521-40a8-e3a6-42107d47bca3"
      },
      "execution_count": 5,
      "outputs": [
        {
          "output_type": "execute_result",
          "data": {
            "text/plain": [
              "                                                text  \\\n",
              "0  And this year, the number will be over 150,000...   \n",
              "1  MR. SPICER: I think the campaign will make dec...   \n",
              "2  You dont have to test every person in the stat...   \n",
              "3  And Dr. Fauci is going to emphasize this about...   \n",
              "4  SANDERS: Certainly in a number of the conversa...   \n",
              "5  PRESIDENT MACRON: But Im very honored and very...   \n",
              "6                 But we will be meeting at the G20.   \n",
              "7           And are you worried if thats encouraged?   \n",
              "8  Here, at this memorial, the names of those 40 ...   \n",
              "9  We hope we still have hope that the dispute wi...   \n",
              "\n",
              "                              labels  \n",
              "0  {'science', 'family', 'mobility'}  \n",
              "1  {'economy', 'languages', 'style'}  \n",
              "2                         {'family'}  \n",
              "3   {'science', 'family', 'history'}  \n",
              "4                {'science', 'news'}  \n",
              "5                       {'politics'}  \n",
              "6             {'science', 'economy'}  \n",
              "7      {'family', 'style', 'affair'}  \n",
              "8                       {'mobility'}  \n",
              "9       {'economy', 'news', 'style'}  "
            ],
            "text/html": [
              "\n",
              "  <div id=\"df-2178b184-27a4-4a72-ab8d-959d1fdc4318\" class=\"colab-df-container\">\n",
              "    <div>\n",
              "<style scoped>\n",
              "    .dataframe tbody tr th:only-of-type {\n",
              "        vertical-align: middle;\n",
              "    }\n",
              "\n",
              "    .dataframe tbody tr th {\n",
              "        vertical-align: top;\n",
              "    }\n",
              "\n",
              "    .dataframe thead th {\n",
              "        text-align: right;\n",
              "    }\n",
              "</style>\n",
              "<table border=\"1\" class=\"dataframe\">\n",
              "  <thead>\n",
              "    <tr style=\"text-align: right;\">\n",
              "      <th></th>\n",
              "      <th>text</th>\n",
              "      <th>labels</th>\n",
              "    </tr>\n",
              "  </thead>\n",
              "  <tbody>\n",
              "    <tr>\n",
              "      <th>0</th>\n",
              "      <td>And this year, the number will be over 150,000...</td>\n",
              "      <td>{'science', 'family', 'mobility'}</td>\n",
              "    </tr>\n",
              "    <tr>\n",
              "      <th>1</th>\n",
              "      <td>MR. SPICER: I think the campaign will make dec...</td>\n",
              "      <td>{'economy', 'languages', 'style'}</td>\n",
              "    </tr>\n",
              "    <tr>\n",
              "      <th>2</th>\n",
              "      <td>You dont have to test every person in the stat...</td>\n",
              "      <td>{'family'}</td>\n",
              "    </tr>\n",
              "    <tr>\n",
              "      <th>3</th>\n",
              "      <td>And Dr. Fauci is going to emphasize this about...</td>\n",
              "      <td>{'science', 'family', 'history'}</td>\n",
              "    </tr>\n",
              "    <tr>\n",
              "      <th>4</th>\n",
              "      <td>SANDERS: Certainly in a number of the conversa...</td>\n",
              "      <td>{'science', 'news'}</td>\n",
              "    </tr>\n",
              "    <tr>\n",
              "      <th>5</th>\n",
              "      <td>PRESIDENT MACRON: But Im very honored and very...</td>\n",
              "      <td>{'politics'}</td>\n",
              "    </tr>\n",
              "    <tr>\n",
              "      <th>6</th>\n",
              "      <td>But we will be meeting at the G20.</td>\n",
              "      <td>{'science', 'economy'}</td>\n",
              "    </tr>\n",
              "    <tr>\n",
              "      <th>7</th>\n",
              "      <td>And are you worried if thats encouraged?</td>\n",
              "      <td>{'family', 'style', 'affair'}</td>\n",
              "    </tr>\n",
              "    <tr>\n",
              "      <th>8</th>\n",
              "      <td>Here, at this memorial, the names of those 40 ...</td>\n",
              "      <td>{'mobility'}</td>\n",
              "    </tr>\n",
              "    <tr>\n",
              "      <th>9</th>\n",
              "      <td>We hope we still have hope that the dispute wi...</td>\n",
              "      <td>{'economy', 'news', 'style'}</td>\n",
              "    </tr>\n",
              "  </tbody>\n",
              "</table>\n",
              "</div>\n",
              "    <div class=\"colab-df-buttons\">\n",
              "\n",
              "  <div class=\"colab-df-container\">\n",
              "    <button class=\"colab-df-convert\" onclick=\"convertToInteractive('df-2178b184-27a4-4a72-ab8d-959d1fdc4318')\"\n",
              "            title=\"Convert this dataframe to an interactive table.\"\n",
              "            style=\"display:none;\">\n",
              "\n",
              "  <svg xmlns=\"http://www.w3.org/2000/svg\" height=\"24px\" viewBox=\"0 -960 960 960\">\n",
              "    <path d=\"M120-120v-720h720v720H120Zm60-500h600v-160H180v160Zm220 220h160v-160H400v160Zm0 220h160v-160H400v160ZM180-400h160v-160H180v160Zm440 0h160v-160H620v160ZM180-180h160v-160H180v160Zm440 0h160v-160H620v160Z\"/>\n",
              "  </svg>\n",
              "    </button>\n",
              "\n",
              "  <style>\n",
              "    .colab-df-container {\n",
              "      display:flex;\n",
              "      gap: 12px;\n",
              "    }\n",
              "\n",
              "    .colab-df-convert {\n",
              "      background-color: #E8F0FE;\n",
              "      border: none;\n",
              "      border-radius: 50%;\n",
              "      cursor: pointer;\n",
              "      display: none;\n",
              "      fill: #1967D2;\n",
              "      height: 32px;\n",
              "      padding: 0 0 0 0;\n",
              "      width: 32px;\n",
              "    }\n",
              "\n",
              "    .colab-df-convert:hover {\n",
              "      background-color: #E2EBFA;\n",
              "      box-shadow: 0px 1px 2px rgba(60, 64, 67, 0.3), 0px 1px 3px 1px rgba(60, 64, 67, 0.15);\n",
              "      fill: #174EA6;\n",
              "    }\n",
              "\n",
              "    .colab-df-buttons div {\n",
              "      margin-bottom: 4px;\n",
              "    }\n",
              "\n",
              "    [theme=dark] .colab-df-convert {\n",
              "      background-color: #3B4455;\n",
              "      fill: #D2E3FC;\n",
              "    }\n",
              "\n",
              "    [theme=dark] .colab-df-convert:hover {\n",
              "      background-color: #434B5C;\n",
              "      box-shadow: 0px 1px 3px 1px rgba(0, 0, 0, 0.15);\n",
              "      filter: drop-shadow(0px 1px 2px rgba(0, 0, 0, 0.3));\n",
              "      fill: #FFFFFF;\n",
              "    }\n",
              "  </style>\n",
              "\n",
              "    <script>\n",
              "      const buttonEl =\n",
              "        document.querySelector('#df-2178b184-27a4-4a72-ab8d-959d1fdc4318 button.colab-df-convert');\n",
              "      buttonEl.style.display =\n",
              "        google.colab.kernel.accessAllowed ? 'block' : 'none';\n",
              "\n",
              "      async function convertToInteractive(key) {\n",
              "        const element = document.querySelector('#df-2178b184-27a4-4a72-ab8d-959d1fdc4318');\n",
              "        const dataTable =\n",
              "          await google.colab.kernel.invokeFunction('convertToInteractive',\n",
              "                                                    [key], {});\n",
              "        if (!dataTable) return;\n",
              "\n",
              "        const docLinkHtml = 'Like what you see? Visit the ' +\n",
              "          '<a target=\"_blank\" href=https://colab.research.google.com/notebooks/data_table.ipynb>data table notebook</a>'\n",
              "          + ' to learn more about interactive tables.';\n",
              "        element.innerHTML = '';\n",
              "        dataTable['output_type'] = 'display_data';\n",
              "        await google.colab.output.renderOutput(dataTable, element);\n",
              "        const docLink = document.createElement('div');\n",
              "        docLink.innerHTML = docLinkHtml;\n",
              "        element.appendChild(docLink);\n",
              "      }\n",
              "    </script>\n",
              "  </div>\n",
              "\n",
              "\n",
              "<div id=\"df-7888d076-7557-4a3c-95a5-45236929d757\">\n",
              "  <button class=\"colab-df-quickchart\" onclick=\"quickchart('df-7888d076-7557-4a3c-95a5-45236929d757')\"\n",
              "            title=\"Suggest charts\"\n",
              "            style=\"display:none;\">\n",
              "\n",
              "<svg xmlns=\"http://www.w3.org/2000/svg\" height=\"24px\"viewBox=\"0 0 24 24\"\n",
              "     width=\"24px\">\n",
              "    <g>\n",
              "        <path d=\"M19 3H5c-1.1 0-2 .9-2 2v14c0 1.1.9 2 2 2h14c1.1 0 2-.9 2-2V5c0-1.1-.9-2-2-2zM9 17H7v-7h2v7zm4 0h-2V7h2v10zm4 0h-2v-4h2v4z\"/>\n",
              "    </g>\n",
              "</svg>\n",
              "  </button>\n",
              "\n",
              "<style>\n",
              "  .colab-df-quickchart {\n",
              "      --bg-color: #E8F0FE;\n",
              "      --fill-color: #1967D2;\n",
              "      --hover-bg-color: #E2EBFA;\n",
              "      --hover-fill-color: #174EA6;\n",
              "      --disabled-fill-color: #AAA;\n",
              "      --disabled-bg-color: #DDD;\n",
              "  }\n",
              "\n",
              "  [theme=dark] .colab-df-quickchart {\n",
              "      --bg-color: #3B4455;\n",
              "      --fill-color: #D2E3FC;\n",
              "      --hover-bg-color: #434B5C;\n",
              "      --hover-fill-color: #FFFFFF;\n",
              "      --disabled-bg-color: #3B4455;\n",
              "      --disabled-fill-color: #666;\n",
              "  }\n",
              "\n",
              "  .colab-df-quickchart {\n",
              "    background-color: var(--bg-color);\n",
              "    border: none;\n",
              "    border-radius: 50%;\n",
              "    cursor: pointer;\n",
              "    display: none;\n",
              "    fill: var(--fill-color);\n",
              "    height: 32px;\n",
              "    padding: 0;\n",
              "    width: 32px;\n",
              "  }\n",
              "\n",
              "  .colab-df-quickchart:hover {\n",
              "    background-color: var(--hover-bg-color);\n",
              "    box-shadow: 0 1px 2px rgba(60, 64, 67, 0.3), 0 1px 3px 1px rgba(60, 64, 67, 0.15);\n",
              "    fill: var(--button-hover-fill-color);\n",
              "  }\n",
              "\n",
              "  .colab-df-quickchart-complete:disabled,\n",
              "  .colab-df-quickchart-complete:disabled:hover {\n",
              "    background-color: var(--disabled-bg-color);\n",
              "    fill: var(--disabled-fill-color);\n",
              "    box-shadow: none;\n",
              "  }\n",
              "\n",
              "  .colab-df-spinner {\n",
              "    border: 2px solid var(--fill-color);\n",
              "    border-color: transparent;\n",
              "    border-bottom-color: var(--fill-color);\n",
              "    animation:\n",
              "      spin 1s steps(1) infinite;\n",
              "  }\n",
              "\n",
              "  @keyframes spin {\n",
              "    0% {\n",
              "      border-color: transparent;\n",
              "      border-bottom-color: var(--fill-color);\n",
              "      border-left-color: var(--fill-color);\n",
              "    }\n",
              "    20% {\n",
              "      border-color: transparent;\n",
              "      border-left-color: var(--fill-color);\n",
              "      border-top-color: var(--fill-color);\n",
              "    }\n",
              "    30% {\n",
              "      border-color: transparent;\n",
              "      border-left-color: var(--fill-color);\n",
              "      border-top-color: var(--fill-color);\n",
              "      border-right-color: var(--fill-color);\n",
              "    }\n",
              "    40% {\n",
              "      border-color: transparent;\n",
              "      border-right-color: var(--fill-color);\n",
              "      border-top-color: var(--fill-color);\n",
              "    }\n",
              "    60% {\n",
              "      border-color: transparent;\n",
              "      border-right-color: var(--fill-color);\n",
              "    }\n",
              "    80% {\n",
              "      border-color: transparent;\n",
              "      border-right-color: var(--fill-color);\n",
              "      border-bottom-color: var(--fill-color);\n",
              "    }\n",
              "    90% {\n",
              "      border-color: transparent;\n",
              "      border-bottom-color: var(--fill-color);\n",
              "    }\n",
              "  }\n",
              "</style>\n",
              "\n",
              "  <script>\n",
              "    async function quickchart(key) {\n",
              "      const quickchartButtonEl =\n",
              "        document.querySelector('#' + key + ' button');\n",
              "      quickchartButtonEl.disabled = true;  // To prevent multiple clicks.\n",
              "      quickchartButtonEl.classList.add('colab-df-spinner');\n",
              "      try {\n",
              "        const charts = await google.colab.kernel.invokeFunction(\n",
              "            'suggestCharts', [key], {});\n",
              "      } catch (error) {\n",
              "        console.error('Error during call to suggestCharts:', error);\n",
              "      }\n",
              "      quickchartButtonEl.classList.remove('colab-df-spinner');\n",
              "      quickchartButtonEl.classList.add('colab-df-quickchart-complete');\n",
              "    }\n",
              "    (() => {\n",
              "      let quickchartButtonEl =\n",
              "        document.querySelector('#df-7888d076-7557-4a3c-95a5-45236929d757 button');\n",
              "      quickchartButtonEl.style.display =\n",
              "        google.colab.kernel.accessAllowed ? 'block' : 'none';\n",
              "    })();\n",
              "  </script>\n",
              "</div>\n",
              "    </div>\n",
              "  </div>\n"
            ],
            "application/vnd.google.colaboratory.intrinsic+json": {
              "type": "dataframe",
              "variable_name": "data"
            }
          },
          "metadata": {},
          "execution_count": 5
        }
      ]
    },
    {
      "cell_type": "code",
      "source": [
        "#Берем только 300000 сообщений, больше обучить не получается по нехватке памяти\n",
        "\n",
        "#Данную проблему можно решить обучением по частям с сохранением промежуточных результатов\n",
        "df=data[:300_000]"
      ],
      "metadata": {
        "id": "RkUs05t75Sq8"
      },
      "execution_count": 6,
      "outputs": []
    },
    {
      "cell_type": "code",
      "source": [
        "df"
      ],
      "metadata": {
        "colab": {
          "base_uri": "https://localhost:8080/",
          "height": 424
        },
        "id": "D60iJcmx71Us",
        "outputId": "71305d28-8f8b-4074-ea35-238d038152b0"
      },
      "execution_count": 7,
      "outputs": [
        {
          "output_type": "execute_result",
          "data": {
            "text/plain": [
              "                                                     text  \\\n",
              "0       And this year, the number will be over 150,000...   \n",
              "1       MR. SPICER: I think the campaign will make dec...   \n",
              "2       You dont have to test every person in the stat...   \n",
              "3       And Dr. Fauci is going to emphasize this about...   \n",
              "4       SANDERS: Certainly in a number of the conversa...   \n",
              "...                                                   ...   \n",
              "299995   Chand and Fiza had also announced that they w...   \n",
              "299996  I was trying to figure out if you could draw a...   \n",
              "299997            Did you at least like Bring it On Fuck    \n",
              "299998  Eurasians have twice the mental illness on ave...   \n",
              "299999   Payrolls increased at manufacturers by the mo...   \n",
              "\n",
              "                                              labels  \n",
              "0                  {'science', 'family', 'mobility'}  \n",
              "1                  {'economy', 'languages', 'style'}  \n",
              "2                                         {'family'}  \n",
              "3                   {'science', 'family', 'history'}  \n",
              "4                                {'science', 'news'}  \n",
              "...                                              ...  \n",
              "299995  {'business', 'self-driving cars', 'science'}  \n",
              "299996                                  {'mobility'}  \n",
              "299997                        {'business', 'health'}  \n",
              "299998      {'science', 'self-driving cars', 'news'}  \n",
              "299999             {'science', 'mobility', 'sports'}  \n",
              "\n",
              "[300000 rows x 2 columns]"
            ],
            "text/html": [
              "\n",
              "  <div id=\"df-d7696c4f-bee4-4c6c-aac0-26f9b9b3541b\" class=\"colab-df-container\">\n",
              "    <div>\n",
              "<style scoped>\n",
              "    .dataframe tbody tr th:only-of-type {\n",
              "        vertical-align: middle;\n",
              "    }\n",
              "\n",
              "    .dataframe tbody tr th {\n",
              "        vertical-align: top;\n",
              "    }\n",
              "\n",
              "    .dataframe thead th {\n",
              "        text-align: right;\n",
              "    }\n",
              "</style>\n",
              "<table border=\"1\" class=\"dataframe\">\n",
              "  <thead>\n",
              "    <tr style=\"text-align: right;\">\n",
              "      <th></th>\n",
              "      <th>text</th>\n",
              "      <th>labels</th>\n",
              "    </tr>\n",
              "  </thead>\n",
              "  <tbody>\n",
              "    <tr>\n",
              "      <th>0</th>\n",
              "      <td>And this year, the number will be over 150,000...</td>\n",
              "      <td>{'science', 'family', 'mobility'}</td>\n",
              "    </tr>\n",
              "    <tr>\n",
              "      <th>1</th>\n",
              "      <td>MR. SPICER: I think the campaign will make dec...</td>\n",
              "      <td>{'economy', 'languages', 'style'}</td>\n",
              "    </tr>\n",
              "    <tr>\n",
              "      <th>2</th>\n",
              "      <td>You dont have to test every person in the stat...</td>\n",
              "      <td>{'family'}</td>\n",
              "    </tr>\n",
              "    <tr>\n",
              "      <th>3</th>\n",
              "      <td>And Dr. Fauci is going to emphasize this about...</td>\n",
              "      <td>{'science', 'family', 'history'}</td>\n",
              "    </tr>\n",
              "    <tr>\n",
              "      <th>4</th>\n",
              "      <td>SANDERS: Certainly in a number of the conversa...</td>\n",
              "      <td>{'science', 'news'}</td>\n",
              "    </tr>\n",
              "    <tr>\n",
              "      <th>...</th>\n",
              "      <td>...</td>\n",
              "      <td>...</td>\n",
              "    </tr>\n",
              "    <tr>\n",
              "      <th>299995</th>\n",
              "      <td>Chand and Fiza had also announced that they w...</td>\n",
              "      <td>{'business', 'self-driving cars', 'science'}</td>\n",
              "    </tr>\n",
              "    <tr>\n",
              "      <th>299996</th>\n",
              "      <td>I was trying to figure out if you could draw a...</td>\n",
              "      <td>{'mobility'}</td>\n",
              "    </tr>\n",
              "    <tr>\n",
              "      <th>299997</th>\n",
              "      <td>Did you at least like Bring it On Fuck</td>\n",
              "      <td>{'business', 'health'}</td>\n",
              "    </tr>\n",
              "    <tr>\n",
              "      <th>299998</th>\n",
              "      <td>Eurasians have twice the mental illness on ave...</td>\n",
              "      <td>{'science', 'self-driving cars', 'news'}</td>\n",
              "    </tr>\n",
              "    <tr>\n",
              "      <th>299999</th>\n",
              "      <td>Payrolls increased at manufacturers by the mo...</td>\n",
              "      <td>{'science', 'mobility', 'sports'}</td>\n",
              "    </tr>\n",
              "  </tbody>\n",
              "</table>\n",
              "<p>300000 rows × 2 columns</p>\n",
              "</div>\n",
              "    <div class=\"colab-df-buttons\">\n",
              "\n",
              "  <div class=\"colab-df-container\">\n",
              "    <button class=\"colab-df-convert\" onclick=\"convertToInteractive('df-d7696c4f-bee4-4c6c-aac0-26f9b9b3541b')\"\n",
              "            title=\"Convert this dataframe to an interactive table.\"\n",
              "            style=\"display:none;\">\n",
              "\n",
              "  <svg xmlns=\"http://www.w3.org/2000/svg\" height=\"24px\" viewBox=\"0 -960 960 960\">\n",
              "    <path d=\"M120-120v-720h720v720H120Zm60-500h600v-160H180v160Zm220 220h160v-160H400v160Zm0 220h160v-160H400v160ZM180-400h160v-160H180v160Zm440 0h160v-160H620v160ZM180-180h160v-160H180v160Zm440 0h160v-160H620v160Z\"/>\n",
              "  </svg>\n",
              "    </button>\n",
              "\n",
              "  <style>\n",
              "    .colab-df-container {\n",
              "      display:flex;\n",
              "      gap: 12px;\n",
              "    }\n",
              "\n",
              "    .colab-df-convert {\n",
              "      background-color: #E8F0FE;\n",
              "      border: none;\n",
              "      border-radius: 50%;\n",
              "      cursor: pointer;\n",
              "      display: none;\n",
              "      fill: #1967D2;\n",
              "      height: 32px;\n",
              "      padding: 0 0 0 0;\n",
              "      width: 32px;\n",
              "    }\n",
              "\n",
              "    .colab-df-convert:hover {\n",
              "      background-color: #E2EBFA;\n",
              "      box-shadow: 0px 1px 2px rgba(60, 64, 67, 0.3), 0px 1px 3px 1px rgba(60, 64, 67, 0.15);\n",
              "      fill: #174EA6;\n",
              "    }\n",
              "\n",
              "    .colab-df-buttons div {\n",
              "      margin-bottom: 4px;\n",
              "    }\n",
              "\n",
              "    [theme=dark] .colab-df-convert {\n",
              "      background-color: #3B4455;\n",
              "      fill: #D2E3FC;\n",
              "    }\n",
              "\n",
              "    [theme=dark] .colab-df-convert:hover {\n",
              "      background-color: #434B5C;\n",
              "      box-shadow: 0px 1px 3px 1px rgba(0, 0, 0, 0.15);\n",
              "      filter: drop-shadow(0px 1px 2px rgba(0, 0, 0, 0.3));\n",
              "      fill: #FFFFFF;\n",
              "    }\n",
              "  </style>\n",
              "\n",
              "    <script>\n",
              "      const buttonEl =\n",
              "        document.querySelector('#df-d7696c4f-bee4-4c6c-aac0-26f9b9b3541b button.colab-df-convert');\n",
              "      buttonEl.style.display =\n",
              "        google.colab.kernel.accessAllowed ? 'block' : 'none';\n",
              "\n",
              "      async function convertToInteractive(key) {\n",
              "        const element = document.querySelector('#df-d7696c4f-bee4-4c6c-aac0-26f9b9b3541b');\n",
              "        const dataTable =\n",
              "          await google.colab.kernel.invokeFunction('convertToInteractive',\n",
              "                                                    [key], {});\n",
              "        if (!dataTable) return;\n",
              "\n",
              "        const docLinkHtml = 'Like what you see? Visit the ' +\n",
              "          '<a target=\"_blank\" href=https://colab.research.google.com/notebooks/data_table.ipynb>data table notebook</a>'\n",
              "          + ' to learn more about interactive tables.';\n",
              "        element.innerHTML = '';\n",
              "        dataTable['output_type'] = 'display_data';\n",
              "        await google.colab.output.renderOutput(dataTable, element);\n",
              "        const docLink = document.createElement('div');\n",
              "        docLink.innerHTML = docLinkHtml;\n",
              "        element.appendChild(docLink);\n",
              "      }\n",
              "    </script>\n",
              "  </div>\n",
              "\n",
              "\n",
              "<div id=\"df-0d753bef-e560-4411-b7a9-5eb845770320\">\n",
              "  <button class=\"colab-df-quickchart\" onclick=\"quickchart('df-0d753bef-e560-4411-b7a9-5eb845770320')\"\n",
              "            title=\"Suggest charts\"\n",
              "            style=\"display:none;\">\n",
              "\n",
              "<svg xmlns=\"http://www.w3.org/2000/svg\" height=\"24px\"viewBox=\"0 0 24 24\"\n",
              "     width=\"24px\">\n",
              "    <g>\n",
              "        <path d=\"M19 3H5c-1.1 0-2 .9-2 2v14c0 1.1.9 2 2 2h14c1.1 0 2-.9 2-2V5c0-1.1-.9-2-2-2zM9 17H7v-7h2v7zm4 0h-2V7h2v10zm4 0h-2v-4h2v4z\"/>\n",
              "    </g>\n",
              "</svg>\n",
              "  </button>\n",
              "\n",
              "<style>\n",
              "  .colab-df-quickchart {\n",
              "      --bg-color: #E8F0FE;\n",
              "      --fill-color: #1967D2;\n",
              "      --hover-bg-color: #E2EBFA;\n",
              "      --hover-fill-color: #174EA6;\n",
              "      --disabled-fill-color: #AAA;\n",
              "      --disabled-bg-color: #DDD;\n",
              "  }\n",
              "\n",
              "  [theme=dark] .colab-df-quickchart {\n",
              "      --bg-color: #3B4455;\n",
              "      --fill-color: #D2E3FC;\n",
              "      --hover-bg-color: #434B5C;\n",
              "      --hover-fill-color: #FFFFFF;\n",
              "      --disabled-bg-color: #3B4455;\n",
              "      --disabled-fill-color: #666;\n",
              "  }\n",
              "\n",
              "  .colab-df-quickchart {\n",
              "    background-color: var(--bg-color);\n",
              "    border: none;\n",
              "    border-radius: 50%;\n",
              "    cursor: pointer;\n",
              "    display: none;\n",
              "    fill: var(--fill-color);\n",
              "    height: 32px;\n",
              "    padding: 0;\n",
              "    width: 32px;\n",
              "  }\n",
              "\n",
              "  .colab-df-quickchart:hover {\n",
              "    background-color: var(--hover-bg-color);\n",
              "    box-shadow: 0 1px 2px rgba(60, 64, 67, 0.3), 0 1px 3px 1px rgba(60, 64, 67, 0.15);\n",
              "    fill: var(--button-hover-fill-color);\n",
              "  }\n",
              "\n",
              "  .colab-df-quickchart-complete:disabled,\n",
              "  .colab-df-quickchart-complete:disabled:hover {\n",
              "    background-color: var(--disabled-bg-color);\n",
              "    fill: var(--disabled-fill-color);\n",
              "    box-shadow: none;\n",
              "  }\n",
              "\n",
              "  .colab-df-spinner {\n",
              "    border: 2px solid var(--fill-color);\n",
              "    border-color: transparent;\n",
              "    border-bottom-color: var(--fill-color);\n",
              "    animation:\n",
              "      spin 1s steps(1) infinite;\n",
              "  }\n",
              "\n",
              "  @keyframes spin {\n",
              "    0% {\n",
              "      border-color: transparent;\n",
              "      border-bottom-color: var(--fill-color);\n",
              "      border-left-color: var(--fill-color);\n",
              "    }\n",
              "    20% {\n",
              "      border-color: transparent;\n",
              "      border-left-color: var(--fill-color);\n",
              "      border-top-color: var(--fill-color);\n",
              "    }\n",
              "    30% {\n",
              "      border-color: transparent;\n",
              "      border-left-color: var(--fill-color);\n",
              "      border-top-color: var(--fill-color);\n",
              "      border-right-color: var(--fill-color);\n",
              "    }\n",
              "    40% {\n",
              "      border-color: transparent;\n",
              "      border-right-color: var(--fill-color);\n",
              "      border-top-color: var(--fill-color);\n",
              "    }\n",
              "    60% {\n",
              "      border-color: transparent;\n",
              "      border-right-color: var(--fill-color);\n",
              "    }\n",
              "    80% {\n",
              "      border-color: transparent;\n",
              "      border-right-color: var(--fill-color);\n",
              "      border-bottom-color: var(--fill-color);\n",
              "    }\n",
              "    90% {\n",
              "      border-color: transparent;\n",
              "      border-bottom-color: var(--fill-color);\n",
              "    }\n",
              "  }\n",
              "</style>\n",
              "\n",
              "  <script>\n",
              "    async function quickchart(key) {\n",
              "      const quickchartButtonEl =\n",
              "        document.querySelector('#' + key + ' button');\n",
              "      quickchartButtonEl.disabled = true;  // To prevent multiple clicks.\n",
              "      quickchartButtonEl.classList.add('colab-df-spinner');\n",
              "      try {\n",
              "        const charts = await google.colab.kernel.invokeFunction(\n",
              "            'suggestCharts', [key], {});\n",
              "      } catch (error) {\n",
              "        console.error('Error during call to suggestCharts:', error);\n",
              "      }\n",
              "      quickchartButtonEl.classList.remove('colab-df-spinner');\n",
              "      quickchartButtonEl.classList.add('colab-df-quickchart-complete');\n",
              "    }\n",
              "    (() => {\n",
              "      let quickchartButtonEl =\n",
              "        document.querySelector('#df-0d753bef-e560-4411-b7a9-5eb845770320 button');\n",
              "      quickchartButtonEl.style.display =\n",
              "        google.colab.kernel.accessAllowed ? 'block' : 'none';\n",
              "    })();\n",
              "  </script>\n",
              "</div>\n",
              "    </div>\n",
              "  </div>\n"
            ],
            "application/vnd.google.colaboratory.intrinsic+json": {
              "type": "dataframe",
              "variable_name": "df"
            }
          },
          "metadata": {},
          "execution_count": 7
        }
      ]
    },
    {
      "cell_type": "code",
      "source": [
        "maxWordsCount = 20000 #число слов, которые войдут в словарь частотности\n",
        "sent_len = 50 #максимальная длина предложения (длина развернутой RNN сети)"
      ],
      "metadata": {
        "id": "lUtxgSd0H0Ca"
      },
      "execution_count": 8,
      "outputs": []
    },
    {
      "cell_type": "code",
      "source": [
        "df=df.dropna() #выкидываем пустые строки"
      ],
      "metadata": {
        "id": "-RnN8U27W5sq"
      },
      "execution_count": 9,
      "outputs": []
    },
    {
      "cell_type": "code",
      "source": [
        "#Токинизируем текст\n",
        "\n",
        "#В случае обучения по частям необходимо использовать один токинизатор для всех частей\n",
        "#Можно подгрузить готовый\n",
        "token = Tokenizer(num_words=maxWordsCount, filters='0123456789–—!\"#$%&()*+,-./:;<=>?@[\\\\]^_`{|}~\\t\\n\\xa0–\\ufeff', lower=True, split=' ', char_level=False, oov_token = 'NaN')\n",
        "token.fit_on_texts(df.text)\n",
        "items=list(token.word_index.items())"
      ],
      "metadata": {
        "id": "rItrrRmiDg3i"
      },
      "execution_count": 10,
      "outputs": []
    },
    {
      "cell_type": "code",
      "source": [
        "print(items[:50])"
      ],
      "metadata": {
        "colab": {
          "base_uri": "https://localhost:8080/"
        },
        "id": "yAsdNhgA8iZr",
        "outputId": "47e5ed47-73d4-49ca-a8d5-2ba2b0228a49"
      },
      "execution_count": 12,
      "outputs": [
        {
          "output_type": "stream",
          "name": "stdout",
          "text": [
            "[('NaN', 1), ('the', 2), ('to', 3), ('and', 4), ('a', 5), ('of', 6), ('i', 7), ('in', 8), ('that', 9), ('you', 10), ('is', 11), ('for', 12), ('it', 13), ('will', 14), ('be', 15), ('this', 16), ('on', 17), ('we', 18), ('going', 19), ('have', 20), ('with', 21), ('are', 22), ('but', 23), ('not', 24), ('was', 25), ('as', 26), ('were', 27), ('so', 28), ('they', 29), ('at', 30), ('he', 31), ('my', 32), ('if', 33), ('its', 34), ('from', 35), ('president', 36), ('all', 37), ('our', 38), ('do', 39), ('has', 40), ('just', 41), ('your', 42), ('what', 43), ('about', 44), ('by', 45), ('people', 46), ('like', 47), ('me', 48), ('one', 49), ('an', 50)]\n"
          ]
        }
      ]
    },
    {
      "cell_type": "code",
      "source": [
        "#Переводим и индексы текст\n",
        "text_seq = token.texts_to_sequences(df.text)"
      ],
      "metadata": {
        "id": "OHfAnoY38vVr"
      },
      "execution_count": 13,
      "outputs": []
    },
    {
      "cell_type": "code",
      "source": [
        "type_class = ['work', 'news', 'sports', 'music', 'movies',\n",
        "'politics', 'phones', 'self-driving_cars',\n",
        "'family', 'cars', 'climate_change', 'languages',\n",
        "'business', 'health', 'science', 'style', 'opinion',\n",
        "'economy', 'history', 'technology', 'affair', 'development', 'mobility']"
      ],
      "metadata": {
        "id": "cCkESG8P8-fL"
      },
      "execution_count": 15,
      "outputs": []
    },
    {
      "cell_type": "code",
      "source": [
        "#Подгатавливаем метки в виде OHE (One Hot Encoding)\n",
        "#Сначала создадим массив из нулей размерностью количество классов на количество записей\n",
        "n_class = np.zeros(shape=(len(df), len(type_class)))\n",
        "n_class.shape"
      ],
      "metadata": {
        "id": "CyrR1h13-GXL",
        "colab": {
          "base_uri": "https://localhost:8080/"
        },
        "outputId": "cdc0af6e-8084-407b-ebb6-dd5814a08b98"
      },
      "execution_count": 17,
      "outputs": [
        {
          "output_type": "execute_result",
          "data": {
            "text/plain": [
              "(299999, 23)"
            ]
          },
          "metadata": {},
          "execution_count": 17
        }
      ]
    },
    {
      "cell_type": "code",
      "source": [
        "#Теперь прогоним в соответствующих классу индексах для каждой строчки заменим 0 на 1 если такой класс существует\n",
        "patterns = r\"['{},]+\"\n",
        "\n",
        "for i, label in enumerate(df.labels):\n",
        "  label=label.replace('self-driving cars','self-driving_cars')\n",
        "  label=label.replace('climate change','climate_change')\n",
        "  for cur_babel in re.sub(patterns, '', label).split():\n",
        "      n_class[i][type_class.index(cur_babel)]=1"
      ],
      "metadata": {
        "id": "ojOH-EnG9ne7"
      },
      "execution_count": 18,
      "outputs": []
    },
    {
      "cell_type": "code",
      "source": [
        "#все предложения длиной <50 дополняем нулями в конце, >50 - обрезаем\n",
        "X_train = pad_sequences(text_seq, maxlen=sent_len, padding='post', truncating='post')"
      ],
      "metadata": {
        "id": "q5-FujywE1Wx"
      },
      "execution_count": 19,
      "outputs": []
    },
    {
      "cell_type": "code",
      "source": [
        "# 10 Самых часто встречающихся слов заменим на индекс 2 (как не значительные)\n",
        "X_train = np.where((X_train<10)&(X_train>1), 2, X_train)"
      ],
      "metadata": {
        "id": "IXwkFeqKhl4t"
      },
      "execution_count": 20,
      "outputs": []
    },
    {
      "cell_type": "code",
      "source": [
        "print(X_train.shape)\n",
        "print(n_class.shape)"
      ],
      "metadata": {
        "colab": {
          "base_uri": "https://localhost:8080/"
        },
        "id": "eThmvne_FG_L",
        "outputId": "44871de9-7a0d-40dd-f045-356c003c895e"
      },
      "execution_count": 21,
      "outputs": [
        {
          "output_type": "stream",
          "name": "stdout",
          "text": [
            "(299999, 50)\n",
            "(299999, 23)\n"
          ]
        }
      ]
    },
    {
      "cell_type": "code",
      "source": [
        "n_class[45]"
      ],
      "metadata": {
        "colab": {
          "base_uri": "https://localhost:8080/"
        },
        "id": "wRdZl9NhR19x",
        "outputId": "a384e09a-ba23-4277-8f46-8430567706e9"
      },
      "execution_count": 22,
      "outputs": [
        {
          "output_type": "execute_result",
          "data": {
            "text/plain": [
              "array([0., 0., 0., 0., 0., 1., 0., 0., 0., 0., 0., 1., 0., 0., 0., 0., 0.,\n",
              "       0., 0., 0., 1., 0., 0.])"
            ]
          },
          "metadata": {},
          "execution_count": 22
        }
      ]
    },
    {
      "cell_type": "code",
      "source": [
        "#Разобьем выборку на обучаемую и проверочную\n",
        "x_train, x_val, y_train, y_val = train_test_split(np.asarray(X_train),\n",
        "                                                  n_class,\n",
        "                                                  test_size=0.10,\n",
        "                                                  shuffle=True)\n"
      ],
      "metadata": {
        "id": "5do7CmEDBGdb"
      },
      "execution_count": 23,
      "outputs": []
    },
    {
      "cell_type": "code",
      "source": [
        "Y=[np.argmax(y) for y in n_class]\n",
        "for i in range (23):\n",
        "  print(i, Y.count(i))\n"
      ],
      "metadata": {
        "colab": {
          "base_uri": "https://localhost:8080/"
        },
        "id": "F_dcI8h4C5oO",
        "outputId": "a7270dc4-31fb-4e6f-e65c-5debbcaf256b"
      },
      "execution_count": 24,
      "outputs": [
        {
          "output_type": "stream",
          "name": "stdout",
          "text": [
            "0 460\n",
            "1 17095\n",
            "2 38628\n",
            "3 1582\n",
            "4 938\n",
            "5 12161\n",
            "6 8505\n",
            "7 27229\n",
            "8 12525\n",
            "9 6674\n",
            "10 3324\n",
            "11 16657\n",
            "12 2765\n",
            "13 6330\n",
            "14 63624\n",
            "15 31813\n",
            "16 388\n",
            "17 7661\n",
            "18 883\n",
            "19 4274\n",
            "20 13495\n",
            "21 7382\n",
            "22 15606\n"
          ]
        }
      ]
    },
    {
      "cell_type": "code",
      "source": [
        "#Выборка не сбалансированна, и этот проблемма\n",
        "plt.hist(Y, bins=23)\n",
        "plt.show()"
      ],
      "metadata": {
        "colab": {
          "base_uri": "https://localhost:8080/",
          "height": 430
        },
        "id": "PTAo-YF0Yoai",
        "outputId": "21dccc43-9b7b-4c6d-f1b1-9ab3002fca75"
      },
      "execution_count": 25,
      "outputs": [
        {
          "output_type": "display_data",
          "data": {
            "text/plain": [
              "<Figure size 640x480 with 1 Axes>"
            ],
            "image/png": "[encoded data removed]"
          },
          "metadata": {}
        }
      ]
    },
    {
      "cell_type": "code",
      "source": [
        "#Создадим сверточную модель\n",
        "model_2 = Sequential()\n",
        "model_2.add(Embedding(maxWordsCount, sent_len, input_length=sent_len)) # Формируем векторное пространство слов\n",
        "model_2.add(SpatialDropout1D(0.3))                                     # \"Прореживание\" пространства\n",
        "#model_2.add(Conv1D(128, 4, activation='relu'))                         # сверточный слой\n",
        "model_2.add(Conv1D(256, 3, activation='relu'))\n",
        "model_2.add(GlobalMaxPooling1D())\n",
        "model_2.add(Dense(128, activation='relu'))                              # полносвязанный слой\n",
        "model_2.add(Dropout(0.3))\n",
        "model_2.add(Dense(23, activation='softmax')) #softmax                           # выходной слой"
      ],
      "metadata": {
        "id": "uXjez91FFTzJ"
      },
      "execution_count": 26,
      "outputs": []
    },
    {
      "cell_type": "code",
      "source": [
        "checkpoint = ModelCheckpoint(\"best_text_class.h5\", monitor='val_loss', save_best_only=True)\n",
        "\n",
        "model_2.compile(loss='binary_crossentropy',optimizer=RMSprop(learning_rate=1e-4), metrics=['accuracy','AUC'])"
      ],
      "metadata": {
        "id": "M-NOfho2Ff4a"
      },
      "execution_count": 27,
      "outputs": []
    },
    {
      "cell_type": "code",
      "source": [
        "model_2.summary()"
      ],
      "metadata": {
        "colab": {
          "base_uri": "https://localhost:8080/"
        },
        "id": "Du5KNI96Fm6T",
        "outputId": "2b5f2341-1e3e-4881-dc31-d3d2bf0d1dbe"
      },
      "execution_count": 28,
      "outputs": [
        {
          "output_type": "stream",
          "name": "stdout",
          "text": [
            "Model: \"sequential\"\n",
            "_________________________________________________________________\n",
            " Layer (type)                Output Shape              Param #   \n",
            "=================================================================\n",
            " embedding (Embedding)       (None, 50, 50)            1000000   \n",
            "                                                                 \n",
            " spatial_dropout1d (Spatial  (None, 50, 50)            0         \n",
            " Dropout1D)                                                      \n",
            "                                                                 \n",
            " conv1d (Conv1D)             (None, 48, 256)           38656     \n",
            "                                                                 \n",
            " global_max_pooling1d (Glob  (None, 256)               0         \n",
            " alMaxPooling1D)                                                 \n",
            "                                                                 \n",
            " dense (Dense)               (None, 128)               32896     \n",
            "                                                                 \n",
            " dropout (Dropout)           (None, 128)               0         \n",
            "                                                                 \n",
            " dense_1 (Dense)             (None, 23)                2967      \n",
            "                                                                 \n",
            "=================================================================\n",
            "Total params: 1074519 (4.10 MB)\n",
            "Trainable params: 1074519 (4.10 MB)\n",
            "Non-trainable params: 0 (0.00 Byte)\n",
            "_________________________________________________________________\n"
          ]
        }
      ]
    },
    {
      "cell_type": "code",
      "source": [
        "utils.plot_model(model_2, show_layer_names=False, show_shapes=True)"
      ],
      "metadata": {
        "colab": {
          "base_uri": "https://localhost:8080/",
          "height": 865
        },
        "id": "5yGu0148FtH5",
        "outputId": "57f176c8-faeb-4b2a-ec17-ca0b1151c482"
      },
      "execution_count": 25,
      "outputs": [
        {
          "output_type": "execute_result",
          "data": {
            "image/png": "[encoded data removed]",
            "text/plain": [
              "<IPython.core.display.Image object>"
            ]
          },
          "metadata": {},
          "execution_count": 25
        }
      ]
    },
    {
      "cell_type": "code",
      "source": [
        "# Проведем обучение на 20 эпохах\n",
        "history = model_2.fit(x_train,\n",
        "                      y_train,\n",
        "                      batch_size=128,\n",
        "                      epochs=20,\n",
        "                      callbacks=[checkpoint],\n",
        "                      validation_data = (x_val, y_val))"
      ],
      "metadata": {
        "id": "0hC-28B7FxHo",
        "colab": {
          "base_uri": "https://localhost:8080/"
        },
        "outputId": "0b6fb59c-9dd3-4ad9-e665-9d5162132fc2"
      },
      "execution_count": 50,
      "outputs": [
        {
          "output_type": "stream",
          "name": "stdout",
          "text": [
            "Epoch 1/20\n",
            "2110/2110 [==============================] - 19s 9ms/step - loss: 0.2007 - accuracy: 0.2856 - auc: 0.8627 - val_loss: 0.1961 - val_accuracy: 0.2948 - val_auc: 0.8706\n",
            "Epoch 2/20\n",
            "2110/2110 [==============================] - 13s 6ms/step - loss: 0.1994 - accuracy: 0.2912 - auc: 0.8646 - val_loss: 0.1948 - val_accuracy: 0.3010 - val_auc: 0.8724\n",
            "Epoch 3/20\n",
            "2110/2110 [==============================] - 19s 9ms/step - loss: 0.1982 - accuracy: 0.2974 - auc: 0.8663 - val_loss: 0.1935 - val_accuracy: 0.3085 - val_auc: 0.8742\n",
            "Epoch 4/20\n",
            "2110/2110 [==============================] - 14s 7ms/step - loss: 0.1969 - accuracy: 0.3036 - auc: 0.8679 - val_loss: 0.1923 - val_accuracy: 0.3165 - val_auc: 0.8760\n",
            "Epoch 5/20\n",
            "2110/2110 [==============================] - 17s 8ms/step - loss: 0.1957 - accuracy: 0.3086 - auc: 0.8695 - val_loss: 0.1911 - val_accuracy: 0.3194 - val_auc: 0.8776\n",
            "Epoch 6/20\n",
            "2110/2110 [==============================] - 14s 7ms/step - loss: 0.1946 - accuracy: 0.3130 - auc: 0.8709 - val_loss: 0.1900 - val_accuracy: 0.3233 - val_auc: 0.8787\n",
            "Epoch 7/20\n",
            "2110/2110 [==============================] - 21s 10ms/step - loss: 0.1936 - accuracy: 0.3167 - auc: 0.8725 - val_loss: 0.1890 - val_accuracy: 0.3269 - val_auc: 0.8801\n",
            "Epoch 8/20\n",
            "2110/2110 [==============================] - 21s 10ms/step - loss: 0.1925 - accuracy: 0.3193 - auc: 0.8739 - val_loss: 0.1882 - val_accuracy: 0.3238 - val_auc: 0.8814\n",
            "Epoch 9/20\n",
            "2110/2110 [==============================] - 14s 7ms/step - loss: 0.1916 - accuracy: 0.3225 - auc: 0.8751 - val_loss: 0.1872 - val_accuracy: 0.3312 - val_auc: 0.8822\n",
            "Epoch 10/20\n",
            "2110/2110 [==============================] - 18s 9ms/step - loss: 0.1907 - accuracy: 0.3248 - auc: 0.8762 - val_loss: 0.1864 - val_accuracy: 0.3338 - val_auc: 0.8832\n",
            "Epoch 11/20\n",
            "2110/2110 [==============================] - 13s 6ms/step - loss: 0.1899 - accuracy: 0.3274 - auc: 0.8773 - val_loss: 0.1855 - val_accuracy: 0.3353 - val_auc: 0.8842\n",
            "Epoch 12/20\n",
            "2110/2110 [==============================] - 20s 9ms/step - loss: 0.1889 - accuracy: 0.3290 - auc: 0.8786 - val_loss: 0.1849 - val_accuracy: 0.3346 - val_auc: 0.8854\n",
            "Epoch 13/20\n",
            "2110/2110 [==============================] - 13s 6ms/step - loss: 0.1882 - accuracy: 0.3309 - auc: 0.8795 - val_loss: 0.1841 - val_accuracy: 0.3370 - val_auc: 0.8863\n",
            "Epoch 14/20\n",
            "2110/2110 [==============================] - 18s 9ms/step - loss: 0.1873 - accuracy: 0.3341 - auc: 0.8807 - val_loss: 0.1833 - val_accuracy: 0.3391 - val_auc: 0.8869\n",
            "Epoch 15/20\n",
            "2110/2110 [==============================] - 16s 7ms/step - loss: 0.1865 - accuracy: 0.3354 - auc: 0.8817 - val_loss: 0.1826 - val_accuracy: 0.3403 - val_auc: 0.8878\n",
            "Epoch 16/20\n",
            "2110/2110 [==============================] - 22s 11ms/step - loss: 0.1857 - accuracy: 0.3373 - auc: 0.8828 - val_loss: 0.1819 - val_accuracy: 0.3432 - val_auc: 0.8889\n",
            "Epoch 17/20\n",
            "2110/2110 [==============================] - 14s 6ms/step - loss: 0.1850 - accuracy: 0.3390 - auc: 0.8836 - val_loss: 0.1812 - val_accuracy: 0.3433 - val_auc: 0.8898\n",
            "Epoch 18/20\n",
            "2110/2110 [==============================] - 19s 9ms/step - loss: 0.1843 - accuracy: 0.3404 - auc: 0.8845 - val_loss: 0.1805 - val_accuracy: 0.3471 - val_auc: 0.8906\n",
            "Epoch 19/20\n",
            "2110/2110 [==============================] - 13s 6ms/step - loss: 0.1835 - accuracy: 0.3425 - auc: 0.8856 - val_loss: 0.1797 - val_accuracy: 0.3456 - val_auc: 0.8915\n",
            "Epoch 20/20\n",
            "2110/2110 [==============================] - 18s 9ms/step - loss: 0.1828 - accuracy: 0.3440 - auc: 0.8865 - val_loss: 0.1792 - val_accuracy: 0.3493 - val_auc: 0.8925\n"
          ]
        }
      ]
    },
    {
      "cell_type": "markdown",
      "source": [
        "## Далее работа с тестовыми данными"
      ],
      "metadata": {
        "id": "ntil3s8beDez"
      }
    },
    {
      "cell_type": "code",
      "source": [
        "gdown.download('https://drive.google.com/uc?export=download&confirm=no_antivirus&id=1KoMxSOA4C9j1ZWYYQsr_4TUwccFk4G7V', None, quiet=True)"
      ],
      "metadata": {
        "colab": {
          "base_uri": "https://localhost:8080/",
          "height": 35
        },
        "id": "8GLgHmBBJV0h",
        "outputId": "2d894888-4c45-471b-c2f0-aefcb6850ffc"
      },
      "execution_count": 30,
      "outputs": [
        {
          "output_type": "execute_result",
          "data": {
            "text/plain": [
              "'test.zip'"
            ],
            "application/vnd.google.colaboratory.intrinsic+json": {
              "type": "string"
            }
          },
          "metadata": {},
          "execution_count": 30
        }
      ]
    },
    {
      "cell_type": "code",
      "source": [
        "!unzip -q \"/content/test.zip\" -d /content"
      ],
      "metadata": {
        "id": "jsnLsu4vJbdB"
      },
      "execution_count": 31,
      "outputs": []
    },
    {
      "cell_type": "code",
      "source": [
        "df_test=pd.read_csv('test.csv', sep=',', header=0, index_col=None) # Загружаем базу"
      ],
      "metadata": {
        "id": "yCZNp11JJkex"
      },
      "execution_count": 32,
      "outputs": []
    },
    {
      "cell_type": "code",
      "source": [
        "df_test"
      ],
      "metadata": {
        "colab": {
          "base_uri": "https://localhost:8080/",
          "height": 424
        },
        "id": "KZOQ-GWZJsoj",
        "outputId": "57c0162d-74f2-435f-bc99-f9aa9d61e383"
      },
      "execution_count": 33,
      "outputs": [
        {
          "output_type": "execute_result",
          "data": {
            "text/plain": [
              "                                                      text\n",
              "0        noraemingi CaratExolAtiny ATEEZofficial YES QU...\n",
              "1        Not to mention I take advantage of Steam Cloud...\n",
              "2         MlindoRSA Dropping tomorrow Yekela NewMusic f...\n",
              "3         Singh's supporters refused to hand over the b...\n",
              "4         Founded in 1981, Bafna Pharmaceutical, which ...\n",
              "...                                                    ...\n",
              "3729985   CBSins69 love it n follow me nNaughtySinsatio...\n",
              "3729986   SOFTJEETH this is still my peak jisung nothin...\n",
              "3729987   There's interest from developers in Windows P...\n",
              "3729988  ***Seriously it seems like you have played a l...\n",
              "3729989              liddlexie idk why but this was funny \n",
              "\n",
              "[3729990 rows x 1 columns]"
            ],
            "text/html": [
              "\n",
              "  <div id=\"df-0b52e777-c116-4fde-a2ea-8d2784edf760\" class=\"colab-df-container\">\n",
              "    <div>\n",
              "<style scoped>\n",
              "    .dataframe tbody tr th:only-of-type {\n",
              "        vertical-align: middle;\n",
              "    }\n",
              "\n",
              "    .dataframe tbody tr th {\n",
              "        vertical-align: top;\n",
              "    }\n",
              "\n",
              "    .dataframe thead th {\n",
              "        text-align: right;\n",
              "    }\n",
              "</style>\n",
              "<table border=\"1\" class=\"dataframe\">\n",
              "  <thead>\n",
              "    <tr style=\"text-align: right;\">\n",
              "      <th></th>\n",
              "      <th>text</th>\n",
              "    </tr>\n",
              "  </thead>\n",
              "  <tbody>\n",
              "    <tr>\n",
              "      <th>0</th>\n",
              "      <td>noraemingi CaratExolAtiny ATEEZofficial YES QU...</td>\n",
              "    </tr>\n",
              "    <tr>\n",
              "      <th>1</th>\n",
              "      <td>Not to mention I take advantage of Steam Cloud...</td>\n",
              "    </tr>\n",
              "    <tr>\n",
              "      <th>2</th>\n",
              "      <td>MlindoRSA Dropping tomorrow Yekela NewMusic f...</td>\n",
              "    </tr>\n",
              "    <tr>\n",
              "      <th>3</th>\n",
              "      <td>Singh's supporters refused to hand over the b...</td>\n",
              "    </tr>\n",
              "    <tr>\n",
              "      <th>4</th>\n",
              "      <td>Founded in 1981, Bafna Pharmaceutical, which ...</td>\n",
              "    </tr>\n",
              "    <tr>\n",
              "      <th>...</th>\n",
              "      <td>...</td>\n",
              "    </tr>\n",
              "    <tr>\n",
              "      <th>3729985</th>\n",
              "      <td>CBSins69 love it n follow me nNaughtySinsatio...</td>\n",
              "    </tr>\n",
              "    <tr>\n",
              "      <th>3729986</th>\n",
              "      <td>SOFTJEETH this is still my peak jisung nothin...</td>\n",
              "    </tr>\n",
              "    <tr>\n",
              "      <th>3729987</th>\n",
              "      <td>There's interest from developers in Windows P...</td>\n",
              "    </tr>\n",
              "    <tr>\n",
              "      <th>3729988</th>\n",
              "      <td>***Seriously it seems like you have played a l...</td>\n",
              "    </tr>\n",
              "    <tr>\n",
              "      <th>3729989</th>\n",
              "      <td>liddlexie idk why but this was funny</td>\n",
              "    </tr>\n",
              "  </tbody>\n",
              "</table>\n",
              "<p>3729990 rows × 1 columns</p>\n",
              "</div>\n",
              "    <div class=\"colab-df-buttons\">\n",
              "\n",
              "  <div class=\"colab-df-container\">\n",
              "    <button class=\"colab-df-convert\" onclick=\"convertToInteractive('df-0b52e777-c116-4fde-a2ea-8d2784edf760')\"\n",
              "            title=\"Convert this dataframe to an interactive table.\"\n",
              "            style=\"display:none;\">\n",
              "\n",
              "  <svg xmlns=\"http://www.w3.org/2000/svg\" height=\"24px\" viewBox=\"0 -960 960 960\">\n",
              "    <path d=\"M120-120v-720h720v720H120Zm60-500h600v-160H180v160Zm220 220h160v-160H400v160Zm0 220h160v-160H400v160ZM180-400h160v-160H180v160Zm440 0h160v-160H620v160ZM180-180h160v-160H180v160Zm440 0h160v-160H620v160Z\"/>\n",
              "  </svg>\n",
              "    </button>\n",
              "\n",
              "  <style>\n",
              "    .colab-df-container {\n",
              "      display:flex;\n",
              "      gap: 12px;\n",
              "    }\n",
              "\n",
              "    .colab-df-convert {\n",
              "      background-color: #E8F0FE;\n",
              "      border: none;\n",
              "      border-radius: 50%;\n",
              "      cursor: pointer;\n",
              "      display: none;\n",
              "      fill: #1967D2;\n",
              "      height: 32px;\n",
              "      padding: 0 0 0 0;\n",
              "      width: 32px;\n",
              "    }\n",
              "\n",
              "    .colab-df-convert:hover {\n",
              "      background-color: #E2EBFA;\n",
              "      box-shadow: 0px 1px 2px rgba(60, 64, 67, 0.3), 0px 1px 3px 1px rgba(60, 64, 67, 0.15);\n",
              "      fill: #174EA6;\n",
              "    }\n",
              "\n",
              "    .colab-df-buttons div {\n",
              "      margin-bottom: 4px;\n",
              "    }\n",
              "\n",
              "    [theme=dark] .colab-df-convert {\n",
              "      background-color: #3B4455;\n",
              "      fill: #D2E3FC;\n",
              "    }\n",
              "\n",
              "    [theme=dark] .colab-df-convert:hover {\n",
              "      background-color: #434B5C;\n",
              "      box-shadow: 0px 1px 3px 1px rgba(0, 0, 0, 0.15);\n",
              "      filter: drop-shadow(0px 1px 2px rgba(0, 0, 0, 0.3));\n",
              "      fill: #FFFFFF;\n",
              "    }\n",
              "  </style>\n",
              "\n",
              "    <script>\n",
              "      const buttonEl =\n",
              "        document.querySelector('#df-0b52e777-c116-4fde-a2ea-8d2784edf760 button.colab-df-convert');\n",
              "      buttonEl.style.display =\n",
              "        google.colab.kernel.accessAllowed ? 'block' : 'none';\n",
              "\n",
              "      async function convertToInteractive(key) {\n",
              "        const element = document.querySelector('#df-0b52e777-c116-4fde-a2ea-8d2784edf760');\n",
              "        const dataTable =\n",
              "          await google.colab.kernel.invokeFunction('convertToInteractive',\n",
              "                                                    [key], {});\n",
              "        if (!dataTable) return;\n",
              "\n",
              "        const docLinkHtml = 'Like what you see? Visit the ' +\n",
              "          '<a target=\"_blank\" href=https://colab.research.google.com/notebooks/data_table.ipynb>data table notebook</a>'\n",
              "          + ' to learn more about interactive tables.';\n",
              "        element.innerHTML = '';\n",
              "        dataTable['output_type'] = 'display_data';\n",
              "        await google.colab.output.renderOutput(dataTable, element);\n",
              "        const docLink = document.createElement('div');\n",
              "        docLink.innerHTML = docLinkHtml;\n",
              "        element.appendChild(docLink);\n",
              "      }\n",
              "    </script>\n",
              "  </div>\n",
              "\n",
              "\n",
              "<div id=\"df-7c433db8-bfec-4b15-95de-2e9d48631404\">\n",
              "  <button class=\"colab-df-quickchart\" onclick=\"quickchart('df-7c433db8-bfec-4b15-95de-2e9d48631404')\"\n",
              "            title=\"Suggest charts\"\n",
              "            style=\"display:none;\">\n",
              "\n",
              "<svg xmlns=\"http://www.w3.org/2000/svg\" height=\"24px\"viewBox=\"0 0 24 24\"\n",
              "     width=\"24px\">\n",
              "    <g>\n",
              "        <path d=\"M19 3H5c-1.1 0-2 .9-2 2v14c0 1.1.9 2 2 2h14c1.1 0 2-.9 2-2V5c0-1.1-.9-2-2-2zM9 17H7v-7h2v7zm4 0h-2V7h2v10zm4 0h-2v-4h2v4z\"/>\n",
              "    </g>\n",
              "</svg>\n",
              "  </button>\n",
              "\n",
              "<style>\n",
              "  .colab-df-quickchart {\n",
              "      --bg-color: #E8F0FE;\n",
              "      --fill-color: #1967D2;\n",
              "      --hover-bg-color: #E2EBFA;\n",
              "      --hover-fill-color: #174EA6;\n",
              "      --disabled-fill-color: #AAA;\n",
              "      --disabled-bg-color: #DDD;\n",
              "  }\n",
              "\n",
              "  [theme=dark] .colab-df-quickchart {\n",
              "      --bg-color: #3B4455;\n",
              "      --fill-color: #D2E3FC;\n",
              "      --hover-bg-color: #434B5C;\n",
              "      --hover-fill-color: #FFFFFF;\n",
              "      --disabled-bg-color: #3B4455;\n",
              "      --disabled-fill-color: #666;\n",
              "  }\n",
              "\n",
              "  .colab-df-quickchart {\n",
              "    background-color: var(--bg-color);\n",
              "    border: none;\n",
              "    border-radius: 50%;\n",
              "    cursor: pointer;\n",
              "    display: none;\n",
              "    fill: var(--fill-color);\n",
              "    height: 32px;\n",
              "    padding: 0;\n",
              "    width: 32px;\n",
              "  }\n",
              "\n",
              "  .colab-df-quickchart:hover {\n",
              "    background-color: var(--hover-bg-color);\n",
              "    box-shadow: 0 1px 2px rgba(60, 64, 67, 0.3), 0 1px 3px 1px rgba(60, 64, 67, 0.15);\n",
              "    fill: var(--button-hover-fill-color);\n",
              "  }\n",
              "\n",
              "  .colab-df-quickchart-complete:disabled,\n",
              "  .colab-df-quickchart-complete:disabled:hover {\n",
              "    background-color: var(--disabled-bg-color);\n",
              "    fill: var(--disabled-fill-color);\n",
              "    box-shadow: none;\n",
              "  }\n",
              "\n",
              "  .colab-df-spinner {\n",
              "    border: 2px solid var(--fill-color);\n",
              "    border-color: transparent;\n",
              "    border-bottom-color: var(--fill-color);\n",
              "    animation:\n",
              "      spin 1s steps(1) infinite;\n",
              "  }\n",
              "\n",
              "  @keyframes spin {\n",
              "    0% {\n",
              "      border-color: transparent;\n",
              "      border-bottom-color: var(--fill-color);\n",
              "      border-left-color: var(--fill-color);\n",
              "    }\n",
              "    20% {\n",
              "      border-color: transparent;\n",
              "      border-left-color: var(--fill-color);\n",
              "      border-top-color: var(--fill-color);\n",
              "    }\n",
              "    30% {\n",
              "      border-color: transparent;\n",
              "      border-left-color: var(--fill-color);\n",
              "      border-top-color: var(--fill-color);\n",
              "      border-right-color: var(--fill-color);\n",
              "    }\n",
              "    40% {\n",
              "      border-color: transparent;\n",
              "      border-right-color: var(--fill-color);\n",
              "      border-top-color: var(--fill-color);\n",
              "    }\n",
              "    60% {\n",
              "      border-color: transparent;\n",
              "      border-right-color: var(--fill-color);\n",
              "    }\n",
              "    80% {\n",
              "      border-color: transparent;\n",
              "      border-right-color: var(--fill-color);\n",
              "      border-bottom-color: var(--fill-color);\n",
              "    }\n",
              "    90% {\n",
              "      border-color: transparent;\n",
              "      border-bottom-color: var(--fill-color);\n",
              "    }\n",
              "  }\n",
              "</style>\n",
              "\n",
              "  <script>\n",
              "    async function quickchart(key) {\n",
              "      const quickchartButtonEl =\n",
              "        document.querySelector('#' + key + ' button');\n",
              "      quickchartButtonEl.disabled = true;  // To prevent multiple clicks.\n",
              "      quickchartButtonEl.classList.add('colab-df-spinner');\n",
              "      try {\n",
              "        const charts = await google.colab.kernel.invokeFunction(\n",
              "            'suggestCharts', [key], {});\n",
              "      } catch (error) {\n",
              "        console.error('Error during call to suggestCharts:', error);\n",
              "      }\n",
              "      quickchartButtonEl.classList.remove('colab-df-spinner');\n",
              "      quickchartButtonEl.classList.add('colab-df-quickchart-complete');\n",
              "    }\n",
              "    (() => {\n",
              "      let quickchartButtonEl =\n",
              "        document.querySelector('#df-7c433db8-bfec-4b15-95de-2e9d48631404 button');\n",
              "      quickchartButtonEl.style.display =\n",
              "        google.colab.kernel.accessAllowed ? 'block' : 'none';\n",
              "    })();\n",
              "  </script>\n",
              "</div>\n",
              "    </div>\n",
              "  </div>\n"
            ],
            "application/vnd.google.colaboratory.intrinsic+json": {
              "type": "dataframe",
              "variable_name": "df_test"
            }
          },
          "metadata": {},
          "execution_count": 33
        }
      ]
    },
    {
      "cell_type": "code",
      "source": [
        "#df_test=df_test.astype(str)\n",
        "df_test=df_test.fillna('Empty')"
      ],
      "metadata": {
        "id": "izSPmLw2LDGx"
      },
      "execution_count": 34,
      "outputs": []
    },
    {
      "cell_type": "code",
      "source": [
        "test_seq = token.texts_to_sequences(df_test.text)"
      ],
      "metadata": {
        "id": "q8rrcykSKscJ"
      },
      "execution_count": 35,
      "outputs": []
    },
    {
      "cell_type": "code",
      "source": [
        "# почему-то в тесте не хватает строки\n",
        "print(len(test_seq))"
      ],
      "metadata": {
        "colab": {
          "base_uri": "https://localhost:8080/"
        },
        "id": "2bufKLR9LMQy",
        "outputId": "ba00b6fe-cad6-4f81-e4de-29d004c4f3a9"
      },
      "execution_count": 36,
      "outputs": [
        {
          "output_type": "stream",
          "name": "stdout",
          "text": [
            "3729990\n"
          ]
        }
      ]
    },
    {
      "cell_type": "code",
      "source": [
        "#Проводим те-же манипутяции, что и с данными для обучения\n",
        "x_test = pad_sequences(test_seq, maxlen=sent_len, padding='post', truncating='post')"
      ],
      "metadata": {
        "id": "2iQWbIWHLk1p"
      },
      "execution_count": 37,
      "outputs": []
    },
    {
      "cell_type": "code",
      "source": [
        "x_test = np.where((x_test<10)&(x_test>1), 2, x_test)"
      ],
      "metadata": {
        "id": "fZdPHcAsPFtX"
      },
      "execution_count": 38,
      "outputs": []
    },
    {
      "cell_type": "code",
      "source": [
        "x_test.shape"
      ],
      "metadata": {
        "colab": {
          "base_uri": "https://localhost:8080/"
        },
        "id": "70cc4cnPLvoT",
        "outputId": "ad1252d3-d37f-473b-d60d-e72e9c7694dc"
      },
      "execution_count": 39,
      "outputs": [
        {
          "output_type": "execute_result",
          "data": {
            "text/plain": [
              "(3729990, 50)"
            ]
          },
          "metadata": {},
          "execution_count": 39
        }
      ]
    },
    {
      "cell_type": "code",
      "source": [
        "# получаем предсказание\n",
        "currPred=model_2.predict(x_test[:])"
      ],
      "metadata": {
        "colab": {
          "base_uri": "https://localhost:8080/"
        },
        "id": "uvXoCsVZL1DI",
        "outputId": "2eaa67cb-5ab4-4cee-e287-3ad4941675fa"
      },
      "execution_count": 62,
      "outputs": [
        {
          "output_type": "stream",
          "name": "stdout",
          "text": [
            "116563/116563 [==============================] - 271s 2ms/step\n"
          ]
        }
      ]
    },
    {
      "cell_type": "code",
      "source": [
        "type_rez_class = ['work', 'news', 'sports', 'music', 'movies',\n",
        "'politics', 'phones', 'self-driving cars',\n",
        "'family', 'cars', 'climate change', 'languages',\n",
        "'business', 'health', 'science', 'style', 'opinion',\n",
        "'economy', 'history', 'technology', 'affair', 'development', 'mobility']"
      ],
      "metadata": {
        "id": "nn30lZxyNBMw"
      },
      "execution_count": 41,
      "outputs": []
    },
    {
      "cell_type": "code",
      "source": [
        "# Преобразуем данные предсказания в классы\n",
        "rez=[]\n",
        "for n in range(len(x_test)):\n",
        "  p=[]\n",
        "  for i, el in enumerate(currPred[n]):\n",
        "    if el>0.2:\n",
        "      p.append(type_rez_class[i])\n",
        "  if type_rez_class[np.argmax(currPred[n])] not in p:\n",
        "    p.append(type_rez_class[np.argmax(currPred[n])])\n",
        "  rez.append(str(p).replace('[','{').replace(']','}'))"
      ],
      "metadata": {
        "id": "w9iLIjZFMDhw"
      },
      "execution_count": 64,
      "outputs": []
    },
    {
      "cell_type": "code",
      "source": [
        "df_rez = pd.DataFrame(rez, columns = ['labels'])"
      ],
      "metadata": {
        "id": "vPIiRW_GlYrU"
      },
      "execution_count": 66,
      "outputs": []
    },
    {
      "cell_type": "code",
      "source": [
        "df_rez.to_csv ('task2_rez2.csv', index= True)"
      ],
      "metadata": {
        "id": "YjjXlEwHl0u1"
      },
      "execution_count": 67,
      "outputs": []
    }
  ]
}